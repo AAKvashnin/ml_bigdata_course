{
 "cells": [
  {
   "cell_type": "code",
   "execution_count": 1,
   "metadata": {},
   "outputs": [
    {
     "data": {
      "text/plain": [
       "\u001b[32mimport \u001b[39m\u001b[36m$ivy.$                             \n",
       "\u001b[39m"
      ]
     },
     "execution_count": 1,
     "metadata": {},
     "output_type": "execute_result"
    }
   ],
   "source": [
    "import $ivy.`org.scalanlp:breeze_2.13:1.2`\n"
   ]
  },
  {
   "cell_type": "code",
   "execution_count": 2,
   "metadata": {},
   "outputs": [
    {
     "data": {
      "text/plain": [
       "\u001b[32mimport \u001b[39m\u001b[36m$ivy.$                                     \u001b[39m"
      ]
     },
     "execution_count": 2,
     "metadata": {},
     "output_type": "execute_result"
    }
   ],
   "source": [
    "import $ivy.`org.scalanlp:breeze-natives_2.13:1.2`"
   ]
  },
  {
   "cell_type": "code",
   "execution_count": 3,
   "metadata": {},
   "outputs": [
    {
     "data": {
      "text/plain": [
       "\u001b[32mimport \u001b[39m\u001b[36m$ivy.$                                 \u001b[39m"
      ]
     },
     "execution_count": 3,
     "metadata": {},
     "output_type": "execute_result"
    }
   ],
   "source": [
    "import $ivy.`org.scalanlp:breeze-viz_2.13:1.2`"
   ]
  },
  {
   "cell_type": "code",
   "execution_count": 4,
   "metadata": {},
   "outputs": [
    {
     "data": {
      "text/plain": [
       "\u001b[32mimport \u001b[39m\u001b[36mbreeze.linalg._\u001b[39m"
      ]
     },
     "execution_count": 4,
     "metadata": {},
     "output_type": "execute_result"
    }
   ],
   "source": [
    "import breeze.linalg._"
   ]
  },
  {
   "cell_type": "code",
   "execution_count": 5,
   "metadata": {},
   "outputs": [
    {
     "data": {
      "text/plain": [
       "\u001b[32mimport \u001b[39m\u001b[36mbreeze.numerics._\u001b[39m"
      ]
     },
     "execution_count": 5,
     "metadata": {},
     "output_type": "execute_result"
    }
   ],
   "source": [
    "import breeze.numerics._"
   ]
  },
  {
   "cell_type": "markdown",
   "metadata": {},
   "source": [
    "# Загрузка данных"
   ]
  },
  {
   "cell_type": "code",
   "execution_count": 6,
   "metadata": {},
   "outputs": [
    {
     "data": {
      "text/plain": [
       "\u001b[32mimport \u001b[39m\u001b[36mscala.io.Source._\u001b[39m"
      ]
     },
     "execution_count": 6,
     "metadata": {},
     "output_type": "execute_result"
    }
   ],
   "source": [
    "import scala.io.Source._"
   ]
  },
  {
   "cell_type": "code",
   "execution_count": 7,
   "metadata": {},
   "outputs": [
    {
     "data": {
      "text/plain": [
       "\u001b[32mimport \u001b[39m\u001b[36mscala.collection.mutable.ArrayBuffer\u001b[39m"
      ]
     },
     "execution_count": 7,
     "metadata": {},
     "output_type": "execute_result"
    }
   ],
   "source": [
    "import scala.collection.mutable.ArrayBuffer"
   ]
  },
  {
   "cell_type": "code",
   "execution_count": 26,
   "metadata": {},
   "outputs": [
    {
     "data": {
      "text/plain": [
       "\u001b[36mbufferedSource\u001b[39m: \u001b[32mscala\u001b[39m.\u001b[32mio\u001b[39m.\u001b[32mBufferedSource\u001b[39m = \u001b[32mnon-empty iterator\u001b[39m"
      ]
     },
     "execution_count": 26,
     "metadata": {},
     "output_type": "execute_result"
    }
   ],
   "source": [
    "val bufferedSource = scala.io.Source.fromFile(\"./data/Dataset.csv\")"
   ]
  },
  {
   "cell_type": "code",
   "execution_count": 27,
   "metadata": {},
   "outputs": [
    {
     "data": {
      "text/html": [
       "<div class=\"jp-RenderedText\">\n",
       "<pre><code><span style=\"color: rgb(0, 187, 187)\"><span class=\"ansi-cyan-fg\">likes</span></span>: <span style=\"color: rgb(0, 187, 0)\"><span class=\"ansi-green-fg\">ArrayBuffer</span></span>[<span style=\"color: rgb(0, 187, 0)\"><span class=\"ansi-green-fg\">Double</span></span>] = <span style=\"color: yellow\"><span class=\"ansi-yellow-fg\">ArrayBuffer</span></span>()\n",
       "<span style=\"color: rgb(0, 187, 187)\"><span class=\"ansi-cyan-fg\">checkins</span></span>: <span style=\"color: rgb(0, 187, 0)\"><span class=\"ansi-green-fg\">ArrayBuffer</span></span>[<span style=\"color: rgb(0, 187, 0)\"><span class=\"ansi-green-fg\">Double</span></span>] = <span style=\"color: yellow\"><span class=\"ansi-yellow-fg\">ArrayBuffer</span></span>()\n",
       "<span style=\"color: rgb(0, 187, 187)\"><span class=\"ansi-cyan-fg\">returns</span></span>: <span style=\"color: rgb(0, 187, 0)\"><span class=\"ansi-green-fg\">ArrayBuffer</span></span>[<span style=\"color: rgb(0, 187, 0)\"><span class=\"ansi-green-fg\">Double</span></span>] = <span style=\"color: yellow\"><span class=\"ansi-yellow-fg\">ArrayBuffer</span></span>()\n",
       "<span style=\"color: rgb(0, 187, 187)\"><span class=\"ansi-cyan-fg\">category</span></span>: <span style=\"color: rgb(0, 187, 0)\"><span class=\"ansi-green-fg\">ArrayBuffer</span></span>[<span style=\"color: rgb(0, 187, 0)\"><span class=\"ansi-green-fg\">Double</span></span>] = <span style=\"color: yellow\"><span class=\"ansi-yellow-fg\">ArrayBuffer</span></span>()\n",
       "<span style=\"color: rgb(0, 187, 187)\"><span class=\"ansi-cyan-fg\">commbase</span></span>: <span style=\"color: rgb(0, 187, 0)\"><span class=\"ansi-green-fg\">ArrayBuffer</span></span>[<span style=\"color: rgb(0, 187, 0)\"><span class=\"ansi-green-fg\">Double</span></span>] = <span style=\"color: yellow\"><span class=\"ansi-yellow-fg\">ArrayBuffer</span></span>()\n",
       "<span style=\"color: rgb(0, 187, 187)\"><span class=\"ansi-cyan-fg\">comm24</span></span>: <span style=\"color: rgb(0, 187, 0)\"><span class=\"ansi-green-fg\">ArrayBuffer</span></span>[<span style=\"color: rgb(0, 187, 0)\"><span class=\"ansi-green-fg\">Double</span></span>] = <span style=\"color: yellow\"><span class=\"ansi-yellow-fg\">ArrayBuffer</span></span>()\n",
       "<span style=\"color: rgb(0, 187, 187)\"><span class=\"ansi-cyan-fg\">comm48</span></span>: <span style=\"color: rgb(0, 187, 0)\"><span class=\"ansi-green-fg\">ArrayBuffer</span></span>[<span style=\"color: rgb(0, 187, 0)\"><span class=\"ansi-green-fg\">Double</span></span>] = <span style=\"color: yellow\"><span class=\"ansi-yellow-fg\">ArrayBuffer</span></span>()\n",
       "<span style=\"color: rgb(0, 187, 187)\"><span class=\"ansi-cyan-fg\">comm24_1</span></span>: <span style=\"color: rgb(0, 187, 0)\"><span class=\"ansi-green-fg\">ArrayBuffer</span></span>[<span style=\"color: rgb(0, 187, 0)\"><span class=\"ansi-green-fg\">Double</span></span>] = <span style=\"color: yellow\"><span class=\"ansi-yellow-fg\">ArrayBuffer</span></span>()\n",
       "<span style=\"color: rgb(0, 187, 187)\"><span class=\"ansi-cyan-fg\">diff2448</span></span>: <span style=\"color: rgb(0, 187, 0)\"><span class=\"ansi-green-fg\">ArrayBuffer</span></span>[<span style=\"color: rgb(0, 187, 0)\"><span class=\"ansi-green-fg\">Double</span></span>] = <span style=\"color: yellow\"><span class=\"ansi-yellow-fg\">ArrayBuffer</span></span>()\n",
       "<span style=\"color: rgb(0, 187, 187)\"><span class=\"ansi-cyan-fg\">baseTime</span></span>: <span style=\"color: rgb(0, 187, 0)\"><span class=\"ansi-green-fg\">ArrayBuffer</span></span>[<span style=\"color: rgb(0, 187, 0)\"><span class=\"ansi-green-fg\">Double</span></span>] = <span style=\"color: yellow\"><span class=\"ansi-yellow-fg\">ArrayBuffer</span></span>()\n",
       "<span style=\"color: rgb(0, 187, 187)\"><span class=\"ansi-cyan-fg\">lengths</span></span>: <span style=\"color: rgb(0, 187, 0)\"><span class=\"ansi-green-fg\">ArrayBuffer</span></span>[<span style=\"color: rgb(0, 187, 0)\"><span class=\"ansi-green-fg\">Double</span></span>] = <span style=\"color: yellow\"><span class=\"ansi-yellow-fg\">ArrayBuffer</span></span>()\n",
       "<span style=\"color: rgb(0, 187, 187)\"><span class=\"ansi-cyan-fg\">shares</span></span>: <span style=\"color: rgb(0, 187, 0)\"><span class=\"ansi-green-fg\">ArrayBuffer</span></span>[<span style=\"color: rgb(0, 187, 0)\"><span class=\"ansi-green-fg\">Double</span></span>] = <span style=\"color: yellow\"><span class=\"ansi-yellow-fg\">ArrayBuffer</span></span>()\n",
       "<span style=\"color: rgb(0, 187, 187)\"><span class=\"ansi-cyan-fg\">hrs</span></span>: <span style=\"color: rgb(0, 187, 0)\"><span class=\"ansi-green-fg\">ArrayBuffer</span></span>[<span style=\"color: rgb(0, 187, 0)\"><span class=\"ansi-green-fg\">Double</span></span>] = <span style=\"color: yellow\"><span class=\"ansi-yellow-fg\">ArrayBuffer</span></span>()\n",
       "<span style=\"color: rgb(0, 187, 187)\"><span class=\"ansi-cyan-fg\">sun_pub</span></span>: <span style=\"color: rgb(0, 187, 0)\"><span class=\"ansi-green-fg\">ArrayBuffer</span></span>[<span style=\"color: rgb(0, 187, 0)\"><span class=\"ansi-green-fg\">Double</span></span>] = <span style=\"color: yellow\"><span class=\"ansi-yellow-fg\">ArrayBuffer</span></span>()\n",
       "<span style=\"color: rgb(0, 187, 187)\"><span class=\"ansi-cyan-fg\">mon_pub</span></span>: <span style=\"color: rgb(0, 187, 0)\"><span class=\"ansi-green-fg\">ArrayBuffer</span></span>[<span style=\"color: rgb(0, 187, 0)\"><span class=\"ansi-green-fg\">Double</span></span>] = <span style=\"color: yellow\"><span class=\"ansi-yellow-fg\">ArrayBuffer</span></span>()\n",
       "<span style=\"color: rgb(0, 187, 187)\"><span class=\"ansi-cyan-fg\">tue_pub</span></span>: <span style=\"color: rgb(0, 187, 0)\"><span class=\"ansi-green-fg\">ArrayBuffer</span></span>[<span style=\"color: rgb(0, 187, 0)\"><span class=\"ansi-green-fg\">Double</span></span>] = <span style=\"color: yellow\"><span class=\"ansi-yellow-fg\">ArrayBuffer</span></span>()\n",
       "<span style=\"color: rgb(0, 187, 187)\"><span class=\"ansi-cyan-fg\">wed_pub</span></span>: <span style=\"color: rgb(0, 187, 0)\"><span class=\"ansi-green-fg\">ArrayBuffer</span></span>[<span style=\"color: rgb(0, 187, 0)\"><span class=\"ansi-green-fg\">Double</span></span>] = <span style=\"color: yellow\"><span class=\"ansi-yellow-fg\">ArrayBuffer</span></span>()\n",
       "<span style=\"color: rgb(0, 187, 187)\"><span class=\"ansi-cyan-fg\">thu_pub</span></span>: <span style=\"color: rgb(0, 187, 0)\"><span class=\"ansi-green-fg\">ArrayBuffer</span></span>[<span style=\"color: rgb(0, 187, 0)\"><span class=\"ansi-green-fg\">Double</span></span>] = <span style=\"color: yellow\"><span class=\"ansi-yellow-fg\">ArrayBuffer</span></span>()\n",
       "<span style=\"color: rgb(0, 187, 187)\"><span class=\"ansi-cyan-fg\">fri_pub</span></span>: <span style=\"color: rgb(0, 187, 0)\"><span class=\"ansi-green-fg\">ArrayBuffer</span></span>[<span style=\"color: rgb(0, 187, 0)\"><span class=\"ansi-green-fg\">Double</span></span>] = <span style=\"color: yellow\"><span class=\"ansi-yellow-fg\">ArrayBuffer</span></span>()\n",
       "<span style=\"color: rgb(0, 187, 187)\"><span class=\"ansi-cyan-fg\">sat_pub</span></span>: <span style=\"color: rgb(0, 187, 0)\"><span class=\"ansi-green-fg\">ArrayBuffer</span></span>[<span style=\"color: rgb(0, 187, 0)\"><span class=\"ansi-green-fg\">Double</span></span>] = <span style=\"color: yellow\"><span class=\"ansi-yellow-fg\">ArrayBuffer</span></span>()\n",
       "<span style=\"color: rgb(0, 187, 187)\"><span class=\"ansi-cyan-fg\">sun_base</span></span>: <span style=\"color: rgb(0, 187, 0)\"><span class=\"ansi-green-fg\">ArrayBuffer</span></span>[<span style=\"color: rgb(0, 187, 0)\"><span class=\"ansi-green-fg\">Double</span></span>] = <span style=\"color: yellow\"><span class=\"ansi-yellow-fg\">ArrayBuffer</span></span>()\n",
       "<span style=\"color: rgb(0, 187, 187)\"><span class=\"ansi-cyan-fg\">mon_base</span></span>: <span style=\"color: rgb(0, 187, 0)\"><span class=\"ansi-green-fg\">ArrayBuffer</span></span>[<span style=\"color: rgb(0, 187, 0)\"><span class=\"ansi-green-fg\">Double</span></span>] = <span style=\"color: yellow\"><span class=\"ansi-yellow-fg\">ArrayBuffer</span></span>()\n",
       "<span style=\"color: rgb(0, 187, 187)\"><span class=\"ansi-cyan-fg\">tue_base</span></span>: <span style=\"color: rgb(0, 187, 0)\"><span class=\"ansi-green-fg\">ArrayBuffer</span></span>[<span style=\"color: rgb(0, 187, 0)\"><span class=\"ansi-green-fg\">Double</span></span>] = <span style=\"color: yellow\"><span class=\"ansi-yellow-fg\">ArrayBuffer</span></span>()\n",
       "<span style=\"color: rgb(0, 187, 187)\"><span class=\"ansi-cyan-fg\">wed_base</span></span>: <span style=\"color: rgb(0, 187, 0)\"><span class=\"ansi-green-fg\">ArrayBuffer</span></span>[<span style=\"color: rgb(0, 187, 0)\"><span class=\"ansi-green-fg\">Double</span></span>] = <span style=\"color: yellow\"><span class=\"ansi-yellow-fg\">ArrayBuffer</span></span>()\n",
       "<span style=\"color: rgb(0, 187, 187)\"><span class=\"ansi-cyan-fg\">thu_base</span></span>: <span style=\"color: rgb(0, 187, 0)\"><span class=\"ansi-green-fg\">ArrayBuffer</span></span>[<span style=\"color: rgb(0, 187, 0)\"><span class=\"ansi-green-fg\">Double</span></span>] = <span style=\"color: yellow\"><span class=\"ansi-yellow-fg\">ArrayBuffer</span></span>()\n",
       "<span style=\"color: rgb(0, 187, 187)\"><span class=\"ansi-cyan-fg\">fri_base</span></span>: <span style=\"color: rgb(0, 187, 0)\"><span class=\"ansi-green-fg\">ArrayBuffer</span></span>[<span style=\"color: rgb(0, 187, 0)\"><span class=\"ansi-green-fg\">Double</span></span>] = <span style=\"color: yellow\"><span class=\"ansi-yellow-fg\">ArrayBuffer</span></span>()\n",
       "<span style=\"color: rgb(0, 187, 187)\"><span class=\"ansi-cyan-fg\">sat_base</span></span>: <span style=\"color: rgb(0, 187, 0)\"><span class=\"ansi-green-fg\">ArrayBuffer</span></span>[<span style=\"color: rgb(0, 187, 0)\"><span class=\"ansi-green-fg\">Double</span></span>] = <span style=\"color: yellow\"><span class=\"ansi-yellow-fg\">ArrayBuffer</span></span>()\n",
       "<span style=\"color: rgb(0, 187, 187)\"><span class=\"ansi-cyan-fg\">output</span></span>: <span style=\"color: rgb(0, 187, 0)\"><span class=\"ansi-green-fg\">ArrayBuffer</span></span>[<span style=\"color: rgb(0, 187, 0)\"><span class=\"ansi-green-fg\">Double</span></span>] = <span style=\"color: yellow\"><span class=\"ansi-yellow-fg\">ArrayBuffer</span></span>()</code></pre>\n",
       "</div>"
      ],
      "text/plain": [
       "\u001b[36mlikes\u001b[39m: \u001b[32mArrayBuffer\u001b[39m[\u001b[32mDouble\u001b[39m] = \u001b[33mArrayBuffer\u001b[39m()\n",
       "\u001b[36mcheckins\u001b[39m: \u001b[32mArrayBuffer\u001b[39m[\u001b[32mDouble\u001b[39m] = \u001b[33mArrayBuffer\u001b[39m()\n",
       "\u001b[36mreturns\u001b[39m: \u001b[32mArrayBuffer\u001b[39m[\u001b[32mDouble\u001b[39m] = \u001b[33mArrayBuffer\u001b[39m()\n",
       "\u001b[36mcategory\u001b[39m: \u001b[32mArrayBuffer\u001b[39m[\u001b[32mDouble\u001b[39m] = \u001b[33mArrayBuffer\u001b[39m()\n",
       "\u001b[36mcommbase\u001b[39m: \u001b[32mArrayBuffer\u001b[39m[\u001b[32mDouble\u001b[39m] = \u001b[33mArrayBuffer\u001b[39m()\n",
       "\u001b[36mcomm24\u001b[39m: \u001b[32mArrayBuffer\u001b[39m[\u001b[32mDouble\u001b[39m] = \u001b[33mArrayBuffer\u001b[39m()\n",
       "\u001b[36mcomm48\u001b[39m: \u001b[32mArrayBuffer\u001b[39m[\u001b[32mDouble\u001b[39m] = \u001b[33mArrayBuffer\u001b[39m()\n",
       "\u001b[36mcomm24_1\u001b[39m: \u001b[32mArrayBuffer\u001b[39m[\u001b[32mDouble\u001b[39m] = \u001b[33mArrayBuffer\u001b[39m()\n",
       "\u001b[36mdiff2448\u001b[39m: \u001b[32mArrayBuffer\u001b[39m[\u001b[32mDouble\u001b[39m] = \u001b[33mArrayBuffer\u001b[39m()\n",
       "\u001b[36mbaseTime\u001b[39m: \u001b[32mArrayBuffer\u001b[39m[\u001b[32mDouble\u001b[39m] = \u001b[33mArrayBuffer\u001b[39m()\n",
       "\u001b[36mlengths\u001b[39m: \u001b[32mArrayBuffer\u001b[39m[\u001b[32mDouble\u001b[39m] = \u001b[33mArrayBuffer\u001b[39m()\n",
       "\u001b[36mshares\u001b[39m: \u001b[32mArrayBuffer\u001b[39m[\u001b[32mDouble\u001b[39m] = \u001b[33mArrayBuffer\u001b[39m()\n",
       "\u001b[36mhrs\u001b[39m: \u001b[32mArrayBuffer\u001b[39m[\u001b[32mDouble\u001b[39m] = \u001b[33mArrayBuffer\u001b[39m()\n",
       "\u001b[36msun_pub\u001b[39m: \u001b[32mArrayBuffer\u001b[39m[\u001b[32mDouble\u001b[39m] = \u001b[33mArrayBuffer\u001b[39m()\n",
       "\u001b[36mmon_pub\u001b[39m: \u001b[32mArrayBuffer\u001b[39m[\u001b[32mDouble\u001b[39m] = \u001b[33mArrayBuffer\u001b[39m()\n",
       "\u001b[36mtue_pub\u001b[39m: \u001b[32mArrayBuffer\u001b[39m[\u001b[32mDouble\u001b[39m] = \u001b[33mArrayBuffer\u001b[39m()\n",
       "\u001b[36mwed_pub\u001b[39m: \u001b[32mArrayBuffer\u001b[39m[\u001b[32mDouble\u001b[39m] = \u001b[33mArrayBuffer\u001b[39m()\n",
       "\u001b[36mthu_pub\u001b[39m: \u001b[32mArrayBuffer\u001b[39m[\u001b[32mDouble\u001b[39m] = \u001b[33mArrayBuffer\u001b[39m()\n",
       "\u001b[36mfri_pub\u001b[39m: \u001b[32mArrayBuffer\u001b[39m[\u001b[32mDouble\u001b[39m] = \u001b[33mArrayBuffer\u001b[39m()\n",
       "\u001b[36msat_pub\u001b[39m: \u001b[32mArrayBuffer\u001b[39m[\u001b[32mDouble\u001b[39m] = \u001b[33mArrayBuffer\u001b[39m()\n",
       "\u001b[36msun_base\u001b[39m: \u001b[32mArrayBuffer\u001b[39m[\u001b[32mDouble\u001b[39m] = \u001b[33mArrayBuffer\u001b[39m()\n",
       "\u001b[36mmon_base\u001b[39m: \u001b[32mArrayBuffer\u001b[39m[\u001b[32mDouble\u001b[39m] = \u001b[33mArrayBuffer\u001b[39m()\n",
       "\u001b[36mtue_base\u001b[39m: \u001b[32mArrayBuffer\u001b[39m[\u001b[32mDouble\u001b[39m] = \u001b[33mArrayBuffer\u001b[39m()\n",
       "\u001b[36mwed_base\u001b[39m: \u001b[32mArrayBuffer\u001b[39m[\u001b[32mDouble\u001b[39m] = \u001b[33mArrayBuffer\u001b[39m()\n",
       "\u001b[36mthu_base\u001b[39m: \u001b[32mArrayBuffer\u001b[39m[\u001b[32mDouble\u001b[39m] = \u001b[33mArrayBuffer\u001b[39m()\n",
       "\u001b[36mfri_base\u001b[39m: \u001b[32mArrayBuffer\u001b[39m[\u001b[32mDouble\u001b[39m] = \u001b[33mArrayBuffer\u001b[39m()\n",
       "\u001b[36msat_base\u001b[39m: \u001b[32mArrayBuffer\u001b[39m[\u001b[32mDouble\u001b[39m] = \u001b[33mArrayBuffer\u001b[39m()\n",
       "\u001b[36moutput\u001b[39m: \u001b[32mArrayBuffer\u001b[39m[\u001b[32mDouble\u001b[39m] = \u001b[33mArrayBuffer\u001b[39m()"
      ]
     },
     "metadata": {},
     "output_type": "display_data"
    }
   ],
   "source": [
    "var likes = ArrayBuffer[Double]()\n",
    "var checkins = ArrayBuffer[Double]() \n",
    "var returns = ArrayBuffer[Double]()\n",
    "var category= ArrayBuffer[Double]()\n",
    "var commbase=ArrayBuffer[Double]()\n",
    "var comm24=ArrayBuffer[Double]()\n",
    "var comm48=ArrayBuffer[Double]()\n",
    "var comm24_1=ArrayBuffer[Double]()\n",
    "var diff2448=ArrayBuffer[Double]()\n",
    "var baseTime=ArrayBuffer[Double]()\n",
    "var lengths=ArrayBuffer[Double]()\n",
    "var shares=ArrayBuffer[Double]()\n",
    "var hrs=ArrayBuffer[Double]()\n",
    "var sun_pub=ArrayBuffer[Double]()\n",
    "var mon_pub=ArrayBuffer[Double]()\n",
    "var tue_pub=ArrayBuffer[Double]()\n",
    "var wed_pub=ArrayBuffer[Double]()\n",
    "var thu_pub=ArrayBuffer[Double]()\n",
    "var fri_pub=ArrayBuffer[Double]()\n",
    "var sat_pub=ArrayBuffer[Double]()\n",
    "var sun_base=ArrayBuffer[Double]()\n",
    "var mon_base=ArrayBuffer[Double]()\n",
    "var tue_base=ArrayBuffer[Double]()\n",
    "var wed_base=ArrayBuffer[Double]()\n",
    "var thu_base=ArrayBuffer[Double]()\n",
    "var fri_base=ArrayBuffer[Double]()\n",
    "var sat_base=ArrayBuffer[Double]()\n",
    "var output=ArrayBuffer[Double]()\n"
   ]
  },
  {
   "cell_type": "code",
   "execution_count": 28,
   "metadata": {},
   "outputs": [
    {
     "data": {
      "text/plain": [
       "defined \u001b[32mfunction\u001b[39m \u001b[36mparse_col\u001b[39m"
      ]
     },
     "execution_count": 28,
     "metadata": {},
     "output_type": "execute_result"
    }
   ],
   "source": [
    "def parse_col(col:String):Double={if (!col.equals(\"\")) col.toDouble else NaN }"
   ]
  },
  {
   "cell_type": "code",
   "execution_count": 29,
   "metadata": {},
   "outputs": [],
   "source": [
    "for (line <- bufferedSource.getLines.drop(1)) { \n",
    "        val cols = line.split(\",\").map(_.trim)\n",
    "        // do whatever you want with the columns here\n",
    "        likes+=parse_col(cols(0))      \n",
    "        checkins+=parse_col(cols(1))\n",
    "        returns+=parse_col(cols(2))\n",
    "        category+=parse_col(cols(3))\n",
    "        commbase+=parse_col(cols(4))\n",
    "        comm24+=parse_col(cols(5))\n",
    "        comm48+=parse_col(cols(6))\n",
    "        comm24_1+=parse_col(cols(7))\n",
    "        diff2448+=parse_col(cols(8))\n",
    "        baseTime+=parse_col(cols(9))\n",
    "        lengths+=parse_col(cols(10))\n",
    "        shares+=parse_col(cols(11))\n",
    "        hrs+=parse_col(cols(12))\n",
    "        sun_pub+=parse_col(cols(13))\n",
    "        mon_pub+=parse_col(cols(14))\n",
    "        tue_pub+=parse_col(cols(15))\n",
    "        wed_pub+=parse_col(cols(16))\n",
    "        thu_pub+=parse_col(cols(17))\n",
    "        fri_pub+=parse_col(cols(18))\n",
    "        sat_pub+=parse_col(cols(19))\n",
    "        sun_base+=parse_col(cols(20))\n",
    "        mon_base+=parse_col(cols(21))\n",
    "        tue_base+=parse_col(cols(22))\n",
    "        wed_base+=parse_col(cols(23))\n",
    "        thu_base+=parse_col(cols(24))\n",
    "        fri_base+=parse_col(cols(25))\n",
    "        sat_base+=parse_col(cols(26))\n",
    "        output+=parse_col(cols(27))\n",
    "    }"
   ]
  },
  {
   "cell_type": "code",
   "execution_count": 30,
   "metadata": {},
   "outputs": [],
   "source": [
    "bufferedSource.close"
   ]
  },
  {
   "cell_type": "code",
   "execution_count": 31,
   "metadata": {},
   "outputs": [
    {
     "data": {
      "text/plain": [
       "\u001b[36mrows\u001b[39m: \u001b[32mInt\u001b[39m = \u001b[32m40949\u001b[39m"
      ]
     },
     "execution_count": 31,
     "metadata": {},
     "output_type": "execute_result"
    }
   ],
   "source": [
    "val rows=likes.length"
   ]
  },
  {
   "cell_type": "code",
   "execution_count": 32,
   "metadata": {},
   "outputs": [
    {
     "data": {
      "text/html": [
       "<div class=\"jp-RenderedText\">\n",
       "<pre><code><span style=\"color: rgb(0, 187, 187)\"><span class=\"ansi-cyan-fg\">resultArray</span></span>: <span style=\"color: rgb(0, 187, 0)\"><span class=\"ansi-green-fg\">ArrayBuffer</span></span>[<span style=\"color: rgb(0, 187, 0)\"><span class=\"ansi-green-fg\">Double</span></span>] = <span style=\"color: yellow\"><span class=\"ansi-yellow-fg\">ArrayBuffer</span></span>(\n",
       "  <span style=\"color: rgb(0, 187, 0)\"><span class=\"ansi-green-fg\">634995.0</span></span>,\n",
       "  <span style=\"color: rgb(0, 187, 0)\"><span class=\"ansi-green-fg\">634995.0</span></span>,\n",
       "  <span style=\"color: rgb(0, 187, 0)\"><span class=\"ansi-green-fg\">634995.0</span></span>,\n",
       "  <span style=\"color: rgb(0, 187, 0)\"><span class=\"ansi-green-fg\">634995.0</span></span>,\n",
       "  <span style=\"color: rgb(0, 187, 0)\"><span class=\"ansi-green-fg\">634995.0</span></span>,\n",
       "  <span style=\"color: rgb(0, 187, 0)\"><span class=\"ansi-green-fg\">634995.0</span></span>,\n",
       "  <span style=\"color: rgb(0, 187, 0)\"><span class=\"ansi-green-fg\">634995.0</span></span>,\n",
       "  <span style=\"color: rgb(0, 187, 0)\"><span class=\"ansi-green-fg\">634995.0</span></span>,\n",
       "  <span style=\"color: rgb(0, 187, 0)\"><span class=\"ansi-green-fg\">634995.0</span></span>,\n",
       "  <span style=\"color: rgb(0, 187, 0)\"><span class=\"ansi-green-fg\">634995.0</span></span>,\n",
       "  <span style=\"color: rgb(0, 187, 0)\"><span class=\"ansi-green-fg\">634995.0</span></span>,\n",
       "  <span style=\"color: rgb(0, 187, 0)\"><span class=\"ansi-green-fg\">634995.0</span></span>,\n",
       "  <span style=\"color: rgb(0, 187, 0)\"><span class=\"ansi-green-fg\">634995.0</span></span>,\n",
       "  <span style=\"color: rgb(0, 187, 0)\"><span class=\"ansi-green-fg\">634995.0</span></span>,\n",
       "  <span style=\"color: rgb(0, 187, 0)\"><span class=\"ansi-green-fg\">634995.0</span></span>,\n",
       "  <span style=\"color: rgb(0, 187, 0)\"><span class=\"ansi-green-fg\">634995.0</span></span>,\n",
       "  <span style=\"color: rgb(0, 187, 0)\"><span class=\"ansi-green-fg\">634995.0</span></span>,\n",
       "  <span style=\"color: rgb(0, 187, 0)\"><span class=\"ansi-green-fg\">634995.0</span></span>,\n",
       "  <span style=\"color: rgb(0, 187, 0)\"><span class=\"ansi-green-fg\">634995.0</span></span>,\n",
       "  <span style=\"color: rgb(0, 187, 0)\"><span class=\"ansi-green-fg\">634995.0</span></span>,\n",
       "  <span style=\"color: rgb(0, 187, 0)\"><span class=\"ansi-green-fg\">634995.0</span></span>,\n",
       "  <span style=\"color: rgb(0, 187, 0)\"><span class=\"ansi-green-fg\">634995.0</span></span>,\n",
       "  <span style=\"color: rgb(0, 187, 0)\"><span class=\"ansi-green-fg\">634995.0</span></span>,\n",
       "  <span style=\"color: rgb(0, 187, 0)\"><span class=\"ansi-green-fg\">634995.0</span></span>,\n",
       "  <span style=\"color: rgb(0, 187, 0)\"><span class=\"ansi-green-fg\">634995.0</span></span>,\n",
       "  <span style=\"color: rgb(0, 187, 0)\"><span class=\"ansi-green-fg\">634995.0</span></span>,\n",
       "  <span style=\"color: rgb(0, 187, 0)\"><span class=\"ansi-green-fg\">634995.0</span></span>,\n",
       "  <span style=\"color: rgb(0, 187, 0)\"><span class=\"ansi-green-fg\">634995.0</span></span>,\n",
       "  <span style=\"color: rgb(0, 187, 0)\"><span class=\"ansi-green-fg\">634995.0</span></span>,\n",
       "  <span style=\"color: rgb(0, 187, 0)\"><span class=\"ansi-green-fg\">634995.0</span></span>,\n",
       "  <span style=\"color: rgb(0, 187, 0)\"><span class=\"ansi-green-fg\">634995.0</span></span>,\n",
       "  <span style=\"color: rgb(0, 187, 0)\"><span class=\"ansi-green-fg\">634995.0</span></span>,\n",
       "  <span style=\"color: rgb(0, 187, 0)\"><span class=\"ansi-green-fg\">634995.0</span></span>,\n",
       "  <span style=\"color: rgb(0, 187, 0)\"><span class=\"ansi-green-fg\">634995.0</span></span>,\n",
       "  <span style=\"color: rgb(0, 187, 0)\"><span class=\"ansi-green-fg\">634995.0</span></span>,\n",
       "  <span style=\"color: rgb(0, 187, 0)\"><span class=\"ansi-green-fg\">634995.0</span></span>,\n",
       "  <span style=\"color: rgb(0, 187, 0)\"><span class=\"ansi-green-fg\">634995.0</span></span>,\n",
       "  <span style=\"color: rgb(0, 187, 0)\"><span class=\"ansi-green-fg\">634995.0</span></span>,\n",
       "...</code></pre>\n",
       "</div>"
      ],
      "text/plain": [
       "\u001b[36mresultArray\u001b[39m: \u001b[32mArrayBuffer\u001b[39m[\u001b[32mDouble\u001b[39m] = \u001b[33mArrayBuffer\u001b[39m(\n",
       "  \u001b[32m634995.0\u001b[39m,\n",
       "  \u001b[32m634995.0\u001b[39m,\n",
       "  \u001b[32m634995.0\u001b[39m,\n",
       "  \u001b[32m634995.0\u001b[39m,\n",
       "  \u001b[32m634995.0\u001b[39m,\n",
       "  \u001b[32m634995.0\u001b[39m,\n",
       "  \u001b[32m634995.0\u001b[39m,\n",
       "  \u001b[32m634995.0\u001b[39m,\n",
       "  \u001b[32m634995.0\u001b[39m,\n",
       "  \u001b[32m634995.0\u001b[39m,\n",
       "  \u001b[32m634995.0\u001b[39m,\n",
       "  \u001b[32m634995.0\u001b[39m,\n",
       "  \u001b[32m634995.0\u001b[39m,\n",
       "  \u001b[32m634995.0\u001b[39m,\n",
       "  \u001b[32m634995.0\u001b[39m,\n",
       "  \u001b[32m634995.0\u001b[39m,\n",
       "  \u001b[32m634995.0\u001b[39m,\n",
       "  \u001b[32m634995.0\u001b[39m,\n",
       "  \u001b[32m634995.0\u001b[39m,\n",
       "  \u001b[32m634995.0\u001b[39m,\n",
       "  \u001b[32m634995.0\u001b[39m,\n",
       "  \u001b[32m634995.0\u001b[39m,\n",
       "  \u001b[32m634995.0\u001b[39m,\n",
       "  \u001b[32m634995.0\u001b[39m,\n",
       "  \u001b[32m634995.0\u001b[39m,\n",
       "  \u001b[32m634995.0\u001b[39m,\n",
       "  \u001b[32m634995.0\u001b[39m,\n",
       "  \u001b[32m634995.0\u001b[39m,\n",
       "  \u001b[32m634995.0\u001b[39m,\n",
       "  \u001b[32m634995.0\u001b[39m,\n",
       "  \u001b[32m634995.0\u001b[39m,\n",
       "  \u001b[32m634995.0\u001b[39m,\n",
       "  \u001b[32m634995.0\u001b[39m,\n",
       "  \u001b[32m634995.0\u001b[39m,\n",
       "  \u001b[32m634995.0\u001b[39m,\n",
       "  \u001b[32m634995.0\u001b[39m,\n",
       "  \u001b[32m634995.0\u001b[39m,\n",
       "  \u001b[32m634995.0\u001b[39m,\n",
       "..."
      ]
     },
     "metadata": {},
     "output_type": "display_data"
    }
   ],
   "source": [
    "var resultArray=likes++checkins\n",
    "resultArray=resultArray++returns\n",
    "resultArray=resultArray++category\n",
    "resultArray=resultArray++commbase\n",
    "resultArray=resultArray++comm24\n",
    "resultArray=resultArray++comm48\n",
    "resultArray=resultArray++comm24_1\n",
    "resultArray=resultArray++diff2448\n",
    "resultArray=resultArray++baseTime\n",
    "resultArray=resultArray++lengths\n",
    "resultArray=resultArray++shares\n",
    "resultArray=resultArray++hrs\n",
    "resultArray=resultArray++sun_pub\n",
    "resultArray=resultArray++mon_pub\n",
    "resultArray=resultArray++tue_pub\n",
    "resultArray=resultArray++wed_pub\n",
    "resultArray=resultArray++thu_pub\n",
    "resultArray=resultArray++fri_pub\n",
    "resultArray=resultArray++sat_pub\n",
    "resultArray=resultArray++sun_base\n",
    "resultArray=resultArray++mon_base\n",
    "resultArray=resultArray++tue_base\n",
    "resultArray=resultArray++wed_base\n",
    "resultArray=resultArray++thu_base\n",
    "resultArray=resultArray++fri_base\n",
    "resultArray=resultArray++sat_base\n",
    "resultArray=resultArray++output\n",
    "\n",
    "\n",
    "\n"
   ]
  },
  {
   "cell_type": "code",
   "execution_count": 33,
   "metadata": {},
   "outputs": [
    {
     "data": {
      "text/plain": [
       "\u001b[36mmat\u001b[39m: \u001b[32mDenseMatrix\u001b[39m[\u001b[32mDouble\u001b[39m] = 634995.0  0.0  463.0  1.0  0.0   0.0   0.0   0.0   0.0    65.0  ... (28 total)\n",
       "634995.0  0.0  463.0  1.0  0.0   0.0   0.0   0.0   0.0    10.0  ...\n",
       "634995.0  0.0  463.0  1.0  0.0   0.0   0.0   0.0   0.0    14.0  ...\n",
       "634995.0  0.0  463.0  1.0  7.0   0.0   3.0   7.0   -3.0   62.0  ...\n",
       "634995.0  0.0  463.0  1.0  1.0   0.0   0.0   1.0   0.0    58.0  ...\n",
       "634995.0  0.0  463.0  1.0  0.0   0.0   NaN   0.0   0.0    60.0  ...\n",
       "634995.0  0.0  463.0  1.0  0.0   0.0   NaN   0.0   0.0    68.0  ...\n",
       "634995.0  0.0  463.0  1.0  1.0   0.0   1.0   1.0   -1.0   32.0  ...\n",
       "634995.0  0.0  463.0  1.0  0.0   0.0   NaN   0.0   0.0    35.0  ...\n",
       "634995.0  0.0  463.0  1.0  0.0   0.0   NaN   0.0   0.0    48.0  ...\n",
       "634995.0  0.0  463.0  1.0  0.0   0.0   NaN   0.0   0.0    52.0  ...\n",
       "634995.0  0.0  463.0  1.0  1.0   0.0   NaN   1.0   0.0    69.0  ...\n",
       "634995.0  0.0  463.0  1.0  0.0   0.0   NaN   0.0   0.0    3.0   ...\n",
       "634995.0  0.0  463.0  1.0  1.0   1.0   0.0   1.0   1.0    37.0  ...\n",
       "634995.0  0.0  463.0  1.0  0.0   0.0   0.0   0.0   0.0    23.0  ...\n",
       "634995.0  0.0  463.0  1.0  3.0   0.0   3.0   3.0   -3.0   40.0  ...\n",
       "634995.0  0.0  463.0  1.0  3.0   0.0   3.0   2.0   -3.0   54.0  ...\n",
       "634995.0  0.0  463.0  1.0  0.0   0.0   0.0   0.0   0.0    29.0  ...\n",
       "634995.0  0.0  463.0  1.0  1.0   0.0   1.0   1.0   -1.0   36.0  ...\n",
       "634995.0  0.0  463.0  1.0  0.0   0.0   0.0   0.0   0.0    11.0  ...\n",
       "634995.0  0.0  463.0  1.0  0.0   0.0   0.0   0.0   0.0    62.0  ...\n",
       "634995.0  0.0  463.0  1.0  77.0  46.0  31.0  74.0  15.0   31.0  ...\n",
       "634995.0  0.0  463.0  1.0  6.0   0.0   1.0   6.0   -1.0   54.0  ...\n",
       "634995.0  0.0  463.0  1.0  0.0   0.0   0.0   0.0   0.0    69.0  ...\n",
       "634995.0  0.0  463.0  1.0  0.0   0.0   0.0   0.0   0.0    71.0  ...\n",
       "634995.0  0.0  463.0  1.0  0.0   0.0   0.0   0.0   0.0    61.0  ...\n",
       "634995.0  0.0  463.0  1.0  4.0   4.0   0.0   4.0   4.0    13.0  ...\n",
       "634995.0  0.0  463.0  1.0  29.0  3.0   11.0  25.0  -8.0   49.0  ...\n",
       "634995.0  0.0  463.0  1.0  3.0   1.0   2.0   3.0   -1.0   35.0  ...\n",
       "634995.0  0.0  463.0  1.0  2.0   2.0   0.0   2.0   2.0    11.0  ...\n",
       "634995.0  0.0  463.0  1.0  2.0   0.0   2.0   2.0   -2.0   37.0  ...\n",
       "634995.0  0.0  463.0  1.0  0.0   0.0   0.0   0.0   0.0    0.0   ...\n",
       "634995.0  0.0  463.0  1.0  2.0   2.0   0.0   2.0   2.0    11.0  ...\n",
       "634995.0  0.0  463.0  1.0  0.0   0.0   0.0   0.0   0.0    43.0  ...\n",
       "634995.0  0.0  463.0  1.0  2.0   2.0   0.0   2.0   2.0    18.0  ...\n",
       "634995.0  0.0  463.0  1.0  0.0   0.0   0.0   0.0   0.0    64.0  ...\n",
       "634995.0  0.0  463.0  1.0  0.0   0.0   0.0   0.0   0.0    51.0  ...\n",
       "634995.0  0.0  463.0  1.0  0.0   0.0   0.0   0.0   0.0    67.0  ...\n",
       "634995.0  0.0  463.0  1.0  8.0   8.0   0.0   8.0   8.0    12.0  ...\n",
       "..."
      ]
     },
     "execution_count": 33,
     "metadata": {},
     "output_type": "execute_result"
    }
   ],
   "source": [
    "val mat=new DenseMatrix(rows, 28, resultArray.toArray)\n",
    "                        \n",
    "                        \n",
    "                        \n",
    "                       \n",
    "                        "
   ]
  },
  {
   "cell_type": "code",
   "execution_count": 18,
   "metadata": {},
   "outputs": [
    {
     "data": {
      "text/plain": [
       "\u001b[36mres17\u001b[39m: \u001b[32mInt\u001b[39m = \u001b[32m40949\u001b[39m"
      ]
     },
     "execution_count": 18,
     "metadata": {},
     "output_type": "execute_result"
    }
   ],
   "source": [
    "mat.rows"
   ]
  },
  {
   "cell_type": "code",
   "execution_count": 19,
   "metadata": {},
   "outputs": [
    {
     "data": {
      "text/plain": [
       "\u001b[36mres18\u001b[39m: \u001b[32mInt\u001b[39m = \u001b[32m28\u001b[39m"
      ]
     },
     "execution_count": 19,
     "metadata": {},
     "output_type": "execute_result"
    }
   ],
   "source": [
    "mat.cols"
   ]
  },
  {
   "cell_type": "markdown",
   "metadata": {},
   "source": [
    "# Подготовка признаков"
   ]
  },
  {
   "cell_type": "code",
   "execution_count": 34,
   "metadata": {},
   "outputs": [
    {
     "data": {
      "text/plain": [
       "\u001b[36moutputs\u001b[39m: \u001b[32mDenseVector\u001b[39m[\u001b[32mDouble\u001b[39m] = DenseVector(0.0, 0.0, 0.0, 0.0, 0.0, 0.0, 0.0, 0.0, 0.0, 0.0, 0.0, 0.0, 3.0, 0.0, 0.0, 0.0, 0.0, 0.0, 0.0, 0.0, 0.0, 5.0, 0.0, 0.0, 0.0, 0.0, 2.0, 0.0, 0.0, 0.0, 0.0, 15.0, 0.0, 0.0, 0.0, 0.0, 0.0, 0.0, 2.0, 0.0, 0.0, 0.0, 0.0, 0.0, 0.0, 0.0, 2.0, 0.0, 0.0, 0.0, 0.0, 0.0, 0.0, 0.0, 0.0, 0.0, 0.0, 2.0, 1.0, 0.0, 0.0, 3.0, 0.0, 1.0, 0.0, 0.0, 3.0, 1.0, 1.0, 0.0, 0.0, 0.0, 0.0, 0.0, 0.0, 0.0, 0.0, 2.0, 2.0, 0.0, 0.0, 0.0, 0.0, 0.0, 0.0, 0.0, 0.0, 0.0, 0.0, 0.0, 0.0, 0.0, 1.0, 2.0, 0.0, 0.0, 0.0, 1.0, 0.0, 0.0, 1.0, 0.0, 3.0, 0.0, 0.0, 0.0, 1.0, 0.0, 1.0, 9.0, 0.0, 0.0, 0.0, 0.0, 0.0, 0.0, 2.0, 0.0, 0.0, 0.0, 3.0, 0.0, 342.0, 0.0, 0.0, 0.0, 0.0, 1.0, 0.0, 0.0, 0.0, 0.0, 0.0, 0.0, 35.0, 92.0, 51.0, 119.0, 2.0, 7.0, 71.0, 14.0, 8.0, 30.0, 2.0, 3.0, 4.0, 10.0, 7.0, 409.0, 28.0, 372.0, 23.0, 102.0, 26.0, 431.0, 4.0, 1.0, 6.0, 145.0, 7.0, 4.0, 90.0, 760.0, 57.0, 501.0, 6.0, 15.0, 56.0, 31.0, 642.0, 43.0, 320.0, 55.0, 7.0, 128.0, 233.0, 20.0, 53.0, 53.0, 280.0, 200.0, 94.0, 11.0, 161.0, 58.0, 3.0, 8.0, 187.0, 1.0, 4.0, 17.0, 2.0, 0.0, 206.0, 173.0, 34.0, 189.0, 3.0, 91.0, 1.0, 105.0, 49.0, 64.0, 3.0, 2.0, 2.0, 48.0, 25.0, 18.0, 13.0, 156.0, 0.0, 0.0, 2.0, 0.0, 3.0, 35.0, 0.0, 6.0, 0.0, 0.0, 0.0, 1.0, 0.0, 27.0, 0.0, 8.0, 1.0, 2.0, 4.0, 21.0, 1.0, 0.0, 0.0, 1.0, 0.0, 2.0, 0.0, 0.0, 0.0, 12.0, 3.0, 9.0, 0.0, 0.0, 0.0, 4.0, 8.0, 2.0, 2.0, 0.0, 1.0, 0.0, 0.0, 0.0, 0.0, 3.0, 1.0, 0.0, 0.0, 0.0, 0.0, 2.0, 44.0, 0.0, 0.0, 0.0, 23.0, 1.0, 0.0, 0.0, 1.0, 1.0, 14.0, 2.0, 1.0, 0.0, 0.0, 85.0, 1.0, 0.0, 0.0, 0.0, 174.0, 223.0, 2.0, 0.0, 0.0, 2.0, 0.0, 0.0, 18.0, 111.0, 0.0, 2.0, 380.0, 8.0, 3.0, 0.0, 253.0, 0.0, 4.0, 4.0, 5.0, 0.0, 0.0, 2.0, 0.0, 0.0, 8.0, 0.0, 1.0, 0.0, 0.0, 0.0, 3.0, 4.0, 0.0, 1.0, 107.0, 380.0, 0.0, 0.0, 0.0, 21.0, 0.0, 756.0, 2.0, 0.0, 2.0, 2.0, 39.0, 0.0, 0.0, 9.0, 323.0, 4.0, 0.0, 1.0, 0.0, 0.0, 0.0, 0.0, 0.0, 0.0, 0.0, 0.0, 4.0, 278.0, 21.0, 16.0, 3.0, 0.0, 19.0, 0.0, 4.0, 96.0, 5.0, 2.0, 64.0, 4.0, 5.0, 57.0, 10.0, 4.0, 17.0, 9.0, 1.0, 3.0, 7.0, 66.0, 0.0, 0.0, 7.0, 10.0, 2.0, 4.0, 1.0, 30.0, 6.0, 1.0, 3.0, 8.0, 4.0, 1.0, 0.0, 2.0, 2.0, 0.0, 0.0, 2.0, 5.0, 2.0, 0.0, 2.0, 13.0, 48.0, 14.0, 10.0, 20.0, 2.0, 9.0, 56.0, 3.0, 7.0, 3.0, 4.0, 10.0, 40.0, 1.0, 4.0, 0.0, 4.0, 1.0, 35.0, 3.0, 7.0, 2.0, 2.0, 45.0, 3.0, 0.0, 16.0, 0.0, 1.0, 1.0, 17.0, 0.0, 1.0, 0.0, 0.0, 0.0, 0.0, 0.0, 0.0, 79.0, 3.0, 1.0, 4.0, 1.0, 5.0, 0.0, 5.0, 4.0, 0.0, 18.0, 4.0, 8.0, 2.0, 2.0, 21.0, 4.0, 1.0, 2.0, 0.0, 22.0, 1.0, 5.0, 6.0, 23.0, 3.0, 18.0, 25.0, 11.0, 10.0, 0.0, 6.0, 7.0, 36.0, 53.0, 23.0, 6.0, 16.0, 7.0, 5.0, 10.0, 22.0, 22.0, 1.0, 12.0, 0.0, 2.0, 52.0, 1.0, 28.0, 24.0, 61.0, 19.0, 3.0, 30.0, 55.0, 48.0, 193.0, 1.0, 5.0, 14.0, 36.0, 13.0, 58.0, 21.0, 34.0, 2.0, 93.0, 2.0, 3.0, 8.0, 2.0, 10.0, 0.0, 0.0, 92.0, 67.0, 23.0, 23.0, 0.0, 14.0, 14.0, 16.0, 0.0, 3.0, 0.0, 63.0, 5.0, 14.0, 2.0, 7.0, 189.0, 25.0, 74.0, 3.0, 2.0, 3.0, 5.0, 9.0, 35.0, 1.0, 1.0, 0.0, 2.0, 1.0, 1.0, 38.0, 3.0, 3.0, 9.0, 4.0, 1.0, 2.0, 5.0, 12.0, 10.0, 2.0, 4.0, 98.0, 17.0, 25.0, 0.0, 1.0, 1.0, 1.0, 1.0, 13.0, 0.0, 0.0, 20.0, 2.0, 1.0, 0.0, 9.0, 0.0, 4.0, 19.0, 5.0, 6.0, 0.0, 0.0, 2.0, 1.0, 1.0, 2.0, 0.0, 0.0, 0.0,..."
      ]
     },
     "execution_count": 34,
     "metadata": {},
     "output_type": "execute_result"
    }
   ],
   "source": [
    "val outputs=mat(::,27)"
   ]
  },
  {
   "cell_type": "code",
   "execution_count": 35,
   "metadata": {},
   "outputs": [
    {
     "data": {
      "text/plain": [
       "\u001b[36mdata\u001b[39m: \u001b[32mDenseMatrix\u001b[39m[\u001b[32mDouble\u001b[39m] = 634995.0  0.0  463.0  1.0  0.0   0.0   0.0   0.0   0.0    65.0  ... (27 total)\n",
       "634995.0  0.0  463.0  1.0  0.0   0.0   0.0   0.0   0.0    10.0  ...\n",
       "634995.0  0.0  463.0  1.0  0.0   0.0   0.0   0.0   0.0    14.0  ...\n",
       "634995.0  0.0  463.0  1.0  7.0   0.0   3.0   7.0   -3.0   62.0  ...\n",
       "634995.0  0.0  463.0  1.0  1.0   0.0   0.0   1.0   0.0    58.0  ...\n",
       "634995.0  0.0  463.0  1.0  0.0   0.0   NaN   0.0   0.0    60.0  ...\n",
       "634995.0  0.0  463.0  1.0  0.0   0.0   NaN   0.0   0.0    68.0  ...\n",
       "634995.0  0.0  463.0  1.0  1.0   0.0   1.0   1.0   -1.0   32.0  ...\n",
       "634995.0  0.0  463.0  1.0  0.0   0.0   NaN   0.0   0.0    35.0  ...\n",
       "634995.0  0.0  463.0  1.0  0.0   0.0   NaN   0.0   0.0    48.0  ...\n",
       "634995.0  0.0  463.0  1.0  0.0   0.0   NaN   0.0   0.0    52.0  ...\n",
       "634995.0  0.0  463.0  1.0  1.0   0.0   NaN   1.0   0.0    69.0  ...\n",
       "634995.0  0.0  463.0  1.0  0.0   0.0   NaN   0.0   0.0    3.0   ...\n",
       "634995.0  0.0  463.0  1.0  1.0   1.0   0.0   1.0   1.0    37.0  ...\n",
       "634995.0  0.0  463.0  1.0  0.0   0.0   0.0   0.0   0.0    23.0  ...\n",
       "634995.0  0.0  463.0  1.0  3.0   0.0   3.0   3.0   -3.0   40.0  ...\n",
       "634995.0  0.0  463.0  1.0  3.0   0.0   3.0   2.0   -3.0   54.0  ...\n",
       "634995.0  0.0  463.0  1.0  0.0   0.0   0.0   0.0   0.0    29.0  ...\n",
       "634995.0  0.0  463.0  1.0  1.0   0.0   1.0   1.0   -1.0   36.0  ...\n",
       "634995.0  0.0  463.0  1.0  0.0   0.0   0.0   0.0   0.0    11.0  ...\n",
       "634995.0  0.0  463.0  1.0  0.0   0.0   0.0   0.0   0.0    62.0  ...\n",
       "634995.0  0.0  463.0  1.0  77.0  46.0  31.0  74.0  15.0   31.0  ...\n",
       "634995.0  0.0  463.0  1.0  6.0   0.0   1.0   6.0   -1.0   54.0  ...\n",
       "634995.0  0.0  463.0  1.0  0.0   0.0   0.0   0.0   0.0    69.0  ...\n",
       "634995.0  0.0  463.0  1.0  0.0   0.0   0.0   0.0   0.0    71.0  ...\n",
       "634995.0  0.0  463.0  1.0  0.0   0.0   0.0   0.0   0.0    61.0  ...\n",
       "634995.0  0.0  463.0  1.0  4.0   4.0   0.0   4.0   4.0    13.0  ...\n",
       "634995.0  0.0  463.0  1.0  29.0  3.0   11.0  25.0  -8.0   49.0  ...\n",
       "634995.0  0.0  463.0  1.0  3.0   1.0   2.0   3.0   -1.0   35.0  ...\n",
       "634995.0  0.0  463.0  1.0  2.0   2.0   0.0   2.0   2.0    11.0  ...\n",
       "634995.0  0.0  463.0  1.0  2.0   0.0   2.0   2.0   -2.0   37.0  ...\n",
       "634995.0  0.0  463.0  1.0  0.0   0.0   0.0   0.0   0.0    0.0   ...\n",
       "634995.0  0.0  463.0  1.0  2.0   2.0   0.0   2.0   2.0    11.0  ...\n",
       "634995.0  0.0  463.0  1.0  0.0   0.0   0.0   0.0   0.0    43.0  ...\n",
       "634995.0  0.0  463.0  1.0  2.0   2.0   0.0   2.0   2.0    18.0  ...\n",
       "634995.0  0.0  463.0  1.0  0.0   0.0   0.0   0.0   0.0    64.0  ...\n",
       "634995.0  0.0  463.0  1.0  0.0   0.0   0.0   0.0   0.0    51.0  ...\n",
       "634995.0  0.0  463.0  1.0  0.0   0.0   0.0   0.0   0.0    67.0  ...\n",
       "634995.0  0.0  463.0  1.0  8.0   8.0   0.0   8.0   8.0    12.0  ...\n",
       "..."
      ]
     },
     "execution_count": 35,
     "metadata": {},
     "output_type": "execute_result"
    }
   ],
   "source": [
    "val data=mat(::,0 to 26)"
   ]
  },
  {
   "cell_type": "markdown",
   "metadata": {},
   "source": [
    "Найти столбцы с неопределенными элементами"
   ]
  },
  {
   "cell_type": "code",
   "execution_count": 48,
   "metadata": {},
   "outputs": [
    {
     "data": {
      "text/plain": [
       "\u001b[36mres47\u001b[39m: \u001b[32mMap\u001b[39m[\u001b[32mInt\u001b[39m, \u001b[32mInt\u001b[39m] = \u001b[33mHashMap\u001b[39m(\n",
       "  \u001b[32m14\u001b[39m -> \u001b[32m1927\u001b[39m,\n",
       "  \u001b[32m6\u001b[39m -> \u001b[32m48\u001b[39m,\n",
       "  \u001b[32m21\u001b[39m -> \u001b[32m1970\u001b[39m,\n",
       "  \u001b[32m2\u001b[39m -> \u001b[32m51\u001b[39m,\n",
       "  \u001b[32m17\u001b[39m -> \u001b[32m3045\u001b[39m,\n",
       "  \u001b[32m3\u001b[39m -> \u001b[32m57\u001b[39m,\n",
       "  \u001b[32m11\u001b[39m -> \u001b[32m2449\u001b[39m,\n",
       "  \u001b[32m4\u001b[39m -> \u001b[32m60\u001b[39m\n",
       ")"
      ]
     },
     "execution_count": 48,
     "metadata": {},
     "output_type": "execute_result"
    }
   ],
   "source": [
    "data.findAll(_.isNaN).map(x=>x._2).groupBy(x=>x).map(x=>(x._1,x._2.size))"
   ]
  },
  {
   "cell_type": "code",
   "execution_count": 54,
   "metadata": {},
   "outputs": [
    {
     "data": {
      "text/plain": [
       "\u001b[36mdata_new\u001b[39m: \u001b[32mDenseMatrix\u001b[39m[\u001b[32mDouble\u001b[39m] = 634995.0  0.0  463.0  1.0  0.0   0.0   0.0   0.0   0.0    65.0  ... (23 total)\n",
       "634995.0  0.0  463.0  1.0  0.0   0.0   0.0   0.0   0.0    10.0  ...\n",
       "634995.0  0.0  463.0  1.0  0.0   0.0   0.0   0.0   0.0    14.0  ...\n",
       "634995.0  0.0  463.0  1.0  7.0   0.0   3.0   7.0   -3.0   62.0  ...\n",
       "634995.0  0.0  463.0  1.0  1.0   0.0   0.0   1.0   0.0    58.0  ...\n",
       "634995.0  0.0  463.0  1.0  0.0   0.0   0.0   0.0   0.0    60.0  ...\n",
       "634995.0  0.0  463.0  1.0  0.0   0.0   0.0   0.0   0.0    68.0  ...\n",
       "634995.0  0.0  463.0  1.0  1.0   0.0   1.0   1.0   -1.0   32.0  ...\n",
       "634995.0  0.0  463.0  1.0  0.0   0.0   0.0   0.0   0.0    35.0  ...\n",
       "634995.0  0.0  463.0  1.0  0.0   0.0   0.0   0.0   0.0    48.0  ...\n",
       "634995.0  0.0  463.0  1.0  0.0   0.0   0.0   0.0   0.0    52.0  ...\n",
       "634995.0  0.0  463.0  1.0  1.0   0.0   0.0   1.0   0.0    69.0  ...\n",
       "634995.0  0.0  463.0  1.0  0.0   0.0   0.0   0.0   0.0    3.0   ...\n",
       "634995.0  0.0  463.0  1.0  1.0   1.0   0.0   1.0   1.0    37.0  ...\n",
       "634995.0  0.0  463.0  1.0  0.0   0.0   0.0   0.0   0.0    23.0  ...\n",
       "634995.0  0.0  463.0  1.0  3.0   0.0   3.0   3.0   -3.0   40.0  ...\n",
       "634995.0  0.0  463.0  1.0  3.0   0.0   3.0   2.0   -3.0   54.0  ...\n",
       "634995.0  0.0  463.0  1.0  0.0   0.0   0.0   0.0   0.0    29.0  ...\n",
       "634995.0  0.0  463.0  1.0  1.0   0.0   1.0   1.0   -1.0   36.0  ...\n",
       "634995.0  0.0  463.0  1.0  0.0   0.0   0.0   0.0   0.0    11.0  ...\n",
       "634995.0  0.0  463.0  1.0  0.0   0.0   0.0   0.0   0.0    62.0  ...\n",
       "634995.0  0.0  463.0  1.0  77.0  46.0  31.0  74.0  15.0   31.0  ...\n",
       "634995.0  0.0  463.0  1.0  6.0   0.0   1.0   6.0   -1.0   54.0  ...\n",
       "634995.0  0.0  463.0  1.0  0.0   0.0   0.0   0.0   0.0    69.0  ...\n",
       "634995.0  0.0  463.0  1.0  0.0   0.0   0.0   0.0   0.0    71.0  ...\n",
       "634995.0  0.0  463.0  1.0  0.0   0.0   0.0   0.0   0.0    61.0  ...\n",
       "634995.0  0.0  463.0  1.0  4.0   4.0   0.0   4.0   4.0    13.0  ...\n",
       "634995.0  0.0  463.0  1.0  29.0  3.0   11.0  25.0  -8.0   49.0  ...\n",
       "634995.0  0.0  463.0  1.0  3.0   1.0   2.0   3.0   -1.0   35.0  ...\n",
       "634995.0  0.0  463.0  1.0  2.0   2.0   0.0   2.0   2.0    11.0  ...\n",
       "634995.0  0.0  463.0  1.0  2.0   0.0   2.0   2.0   -2.0   37.0  ...\n",
       "634995.0  0.0  463.0  1.0  0.0   0.0   0.0   0.0   0.0    0.0   ...\n",
       "634995.0  0.0  463.0  1.0  2.0   2.0   0.0   2.0   2.0    11.0  ...\n",
       "634995.0  0.0  463.0  1.0  0.0   0.0   0.0   0.0   0.0    43.0  ...\n",
       "634995.0  0.0  463.0  1.0  2.0   2.0   0.0   2.0   2.0    18.0  ...\n",
       "634995.0  0.0  463.0  1.0  0.0   0.0   0.0   0.0   0.0    64.0  ...\n",
       "634995.0  0.0  463.0  1.0  0.0   0.0   0.0   0.0   0.0    51.0  ...\n",
       "634995.0  0.0  463.0  1.0  0.0   0.0   0.0   0.0   0.0    67.0  ...\n",
       "634995.0  0.0  463.0  1.0  8.0   8.0   0.0   8.0   8.0    12.0  ...\n",
       "..."
      ]
     },
     "execution_count": 54,
     "metadata": {},
     "output_type": "execute_result"
    }
   ],
   "source": [
    "val data_new=data.map(x=>if(x.isNaN) 0.0 else x).delete(List(14,21,17,11),Axis._1)"
   ]
  },
  {
   "cell_type": "code",
   "execution_count": 55,
   "metadata": {},
   "outputs": [
    {
     "data": {
      "text/plain": [
       "\u001b[36mmvals\u001b[39m: \u001b[32mTranspose\u001b[39m[\u001b[32mDenseVector\u001b[39m[\u001b[32mDouble\u001b[39m]] = \u001b[33mTranspose\u001b[39m(\n",
       "  inner = DenseVector(1313813.7475396227, 4676.133751739932, 44800.24376663651, 24.238662726806666, 55.712032039854364, 22.186646804561587, 19.64953967129848, 52.631590515030936, 2.536960609538678, 35.32203472612261, 163.65247014579123, 23.767833158318854, 0.12234731006862196, 0.14974724657500693, 0.15748858335978969, 0.14615741532149895, 0.1369264206696141, 0.1416396004786438, 0.13763461867200558, 0.14859947739871524, 0.15084617450975712, 0.14388629758968483, 0.14488754304134405)\n",
       ")"
      ]
     },
     "execution_count": 55,
     "metadata": {},
     "output_type": "execute_result"
    }
   ],
   "source": [
    "val mvals=breeze.stats.mean(data_new(::,*))"
   ]
  },
  {
   "cell_type": "code",
   "execution_count": 56,
   "metadata": {},
   "outputs": [
    {
     "data": {
      "text/plain": [
       "\u001b[36msvals\u001b[39m: \u001b[32mTranspose\u001b[39m[\u001b[32mDenseVector\u001b[39m[\u001b[32mDouble\u001b[39m]] = \u001b[33mTranspose\u001b[39m(\n",
       "  inner = DenseVector(6785751.74784735, 20593.184863050174, 110933.80077100082, 19.95744994414867, 136.97888741476675, 77.12426279172584, 71.07861335688017, 128.1799197535962, 94.20297361088377, 20.916863962096603, 376.2643865983319, 1.9198288062251618, 0.32769050657584886, 0.35682785499601277, 0.3642652465210098, 0.3532682733054544, 0.34377385303781793, 0.3486843746618664, 0.3445202882295503, 0.35569757158449067, 0.3579032471191856, 0.3509786877221571, 0.3519917166397198)\n",
       ")"
      ]
     },
     "execution_count": 56,
     "metadata": {},
     "output_type": "execute_result"
    }
   ],
   "source": [
    "val svals=breeze.stats.stddev(data_new(::,*))"
   ]
  },
  {
   "cell_type": "code",
   "execution_count": 57,
   "metadata": {},
   "outputs": [
    {
     "data": {
      "text/plain": [
       "\u001b[36mdata_norm\u001b[39m: \u001b[32mDenseMatrix\u001b[39m[\u001b[32mDouble\u001b[39m] = -0.1000358947341339  -0.22707190669327695  -0.39967298928269207  ... (23 total)\n",
       "-0.1000358947341339  -0.22707190669327695  -0.39967298928269207  ...\n",
       "-0.1000358947341339  -0.22707190669327695  -0.39967298928269207  ...\n",
       "-0.1000358947341339  -0.22707190669327695  -0.39967298928269207  ...\n",
       "-0.1000358947341339  -0.22707190669327695  -0.39967298928269207  ...\n",
       "-0.1000358947341339  -0.22707190669327695  -0.39967298928269207  ...\n",
       "-0.1000358947341339  -0.22707190669327695  -0.39967298928269207  ...\n",
       "-0.1000358947341339  -0.22707190669327695  -0.39967298928269207  ...\n",
       "-0.1000358947341339  -0.22707190669327695  -0.39967298928269207  ...\n",
       "-0.1000358947341339  -0.22707190669327695  -0.39967298928269207  ...\n",
       "-0.1000358947341339  -0.22707190669327695  -0.39967298928269207  ...\n",
       "-0.1000358947341339  -0.22707190669327695  -0.39967298928269207  ...\n",
       "-0.1000358947341339  -0.22707190669327695  -0.39967298928269207  ...\n",
       "-0.1000358947341339  -0.22707190669327695  -0.39967298928269207  ...\n",
       "-0.1000358947341339  -0.22707190669327695  -0.39967298928269207  ...\n",
       "-0.1000358947341339  -0.22707190669327695  -0.39967298928269207  ...\n",
       "-0.1000358947341339  -0.22707190669327695  -0.39967298928269207  ...\n",
       "-0.1000358947341339  -0.22707190669327695  -0.39967298928269207  ...\n",
       "-0.1000358947341339  -0.22707190669327695  -0.39967298928269207  ...\n",
       "-0.1000358947341339  -0.22707190669327695  -0.39967298928269207  ...\n",
       "-0.1000358947341339  -0.22707190669327695  -0.39967298928269207  ...\n",
       "-0.1000358947341339  -0.22707190669327695  -0.39967298928269207  ...\n",
       "-0.1000358947341339  -0.22707190669327695  -0.39967298928269207  ...\n",
       "-0.1000358947341339  -0.22707190669327695  -0.39967298928269207  ...\n",
       "-0.1000358947341339  -0.22707190669327695  -0.39967298928269207  ...\n",
       "-0.1000358947341339  -0.22707190669327695  -0.39967298928269207  ...\n",
       "-0.1000358947341339  -0.22707190669327695  -0.39967298928269207  ...\n",
       "-0.1000358947341339  -0.22707190669327695  -0.39967298928269207  ...\n",
       "-0.1000358947341339  -0.22707190669327695  -0.39967298928269207  ...\n",
       "-0.1000358947341339  -0.22707190669327695  -0.39967298928269207  ...\n",
       "-0.1000358947341339  -0.22707190669327695  -0.39967298928269207  ...\n",
       "-0.1000358947341339  -0.22707190669327695  -0.39967298928269207  ...\n",
       "-0.1000358947341339  -0.22707190669327695  -0.39967298928269207  ...\n",
       "-0.1000358947341339  -0.22707190669327695  -0.39967298928269207  ...\n",
       "-0.1000358947341339  -0.22707190669327695  -0.39967298928269207  ...\n",
       "-0.1000358947341339  -0.22707190669327695  -0.39967298928269207  ...\n",
       "-0.1000358947341339  -0.22707190669327695  -0.39967298928269207  ...\n",
       "-0.1000358947341339  -0.22707190669327695  -0.39967298928269207  ...\n",
       "-0.1000358947341339  -0.22707190669327695  -0.39967298928269207  ...\n",
       "..."
      ]
     },
     "execution_count": 57,
     "metadata": {},
     "output_type": "execute_result"
    }
   ],
   "source": [
    "val data_norm=(data_new-tile(mvals,1,rows))/:/tile(svals,1,rows)"
   ]
  },
  {
   "cell_type": "markdown",
   "metadata": {},
   "source": [
    "# Моделирование"
   ]
  },
  {
   "cell_type": "code",
   "execution_count": 58,
   "metadata": {},
   "outputs": [
    {
     "data": {
      "text/plain": [
       "\u001b[32mimport \u001b[39m\u001b[36mbreeze.stats.regression._\u001b[39m"
      ]
     },
     "execution_count": 58,
     "metadata": {},
     "output_type": "execute_result"
    }
   ],
   "source": [
    "import breeze.stats.regression._"
   ]
  },
  {
   "cell_type": "code",
   "execution_count": 59,
   "metadata": {},
   "outputs": [
    {
     "data": {
      "text/plain": [
       "\u001b[32mimport \u001b[39m\u001b[36mscala.util.Random\u001b[39m"
      ]
     },
     "execution_count": 59,
     "metadata": {},
     "output_type": "execute_result"
    }
   ],
   "source": [
    "import scala.util.Random"
   ]
  },
  {
   "cell_type": "code",
   "execution_count": 60,
   "metadata": {},
   "outputs": [
    {
     "data": {
      "text/plain": [
       "\u001b[36mtrainTestSplitRatio\u001b[39m: \u001b[32mDouble\u001b[39m = \u001b[32m0.8\u001b[39m"
      ]
     },
     "execution_count": 60,
     "metadata": {},
     "output_type": "execute_result"
    }
   ],
   "source": [
    "val trainTestSplitRatio = 0.8"
   ]
  },
  {
   "cell_type": "code",
   "execution_count": 61,
   "metadata": {},
   "outputs": [
    {
     "data": {
      "text/plain": [
       "\u001b[36mindices\u001b[39m: \u001b[32mArray\u001b[39m[\u001b[32mInt\u001b[39m] = \u001b[33mArray\u001b[39m(\n",
       "  \u001b[32m0\u001b[39m,\n",
       "  \u001b[32m1\u001b[39m,\n",
       "  \u001b[32m2\u001b[39m,\n",
       "  \u001b[32m3\u001b[39m,\n",
       "  \u001b[32m4\u001b[39m,\n",
       "  \u001b[32m5\u001b[39m,\n",
       "  \u001b[32m6\u001b[39m,\n",
       "  \u001b[32m7\u001b[39m,\n",
       "  \u001b[32m8\u001b[39m,\n",
       "  \u001b[32m9\u001b[39m,\n",
       "  \u001b[32m10\u001b[39m,\n",
       "  \u001b[32m11\u001b[39m,\n",
       "  \u001b[32m12\u001b[39m,\n",
       "  \u001b[32m13\u001b[39m,\n",
       "  \u001b[32m14\u001b[39m,\n",
       "  \u001b[32m15\u001b[39m,\n",
       "  \u001b[32m16\u001b[39m,\n",
       "  \u001b[32m17\u001b[39m,\n",
       "  \u001b[32m18\u001b[39m,\n",
       "  \u001b[32m19\u001b[39m,\n",
       "  \u001b[32m20\u001b[39m,\n",
       "  \u001b[32m21\u001b[39m,\n",
       "  \u001b[32m22\u001b[39m,\n",
       "  \u001b[32m23\u001b[39m,\n",
       "  \u001b[32m24\u001b[39m,\n",
       "  \u001b[32m25\u001b[39m,\n",
       "  \u001b[32m26\u001b[39m,\n",
       "  \u001b[32m27\u001b[39m,\n",
       "  \u001b[32m28\u001b[39m,\n",
       "  \u001b[32m29\u001b[39m,\n",
       "  \u001b[32m30\u001b[39m,\n",
       "  \u001b[32m31\u001b[39m,\n",
       "  \u001b[32m32\u001b[39m,\n",
       "  \u001b[32m33\u001b[39m,\n",
       "  \u001b[32m34\u001b[39m,\n",
       "  \u001b[32m35\u001b[39m,\n",
       "  \u001b[32m36\u001b[39m,\n",
       "  \u001b[32m37\u001b[39m,\n",
       "..."
      ]
     },
     "execution_count": 61,
     "metadata": {},
     "output_type": "execute_result"
    }
   ],
   "source": [
    "val indices = (0 to (rows-1)).toArray"
   ]
  },
  {
   "cell_type": "code",
   "execution_count": 62,
   "metadata": {},
   "outputs": [
    {
     "data": {
      "text/plain": [
       "\u001b[36mres61\u001b[39m: \u001b[32mInt\u001b[39m = \u001b[32m40949\u001b[39m"
      ]
     },
     "execution_count": 62,
     "metadata": {},
     "output_type": "execute_result"
    }
   ],
   "source": [
    "indices.size"
   ]
  },
  {
   "cell_type": "code",
   "execution_count": 63,
   "metadata": {},
   "outputs": [
    {
     "data": {
      "text/plain": [
       "\u001b[36mtrain\u001b[39m: \u001b[32mcollection\u001b[39m.\u001b[32mmutable\u001b[39m.\u001b[32mArraySeq\u001b[39m[\u001b[32mInt\u001b[39m] = \u001b[33mArraySeq\u001b[39m(\n",
       "  \u001b[32m19537\u001b[39m,\n",
       "  \u001b[32m7152\u001b[39m,\n",
       "  \u001b[32m15998\u001b[39m,\n",
       "  \u001b[32m36030\u001b[39m,\n",
       "  \u001b[32m26161\u001b[39m,\n",
       "  \u001b[32m6827\u001b[39m,\n",
       "  \u001b[32m38486\u001b[39m,\n",
       "  \u001b[32m25252\u001b[39m,\n",
       "  \u001b[32m2319\u001b[39m,\n",
       "  \u001b[32m8568\u001b[39m,\n",
       "  \u001b[32m17994\u001b[39m,\n",
       "  \u001b[32m22520\u001b[39m,\n",
       "  \u001b[32m29250\u001b[39m,\n",
       "  \u001b[32m20810\u001b[39m,\n",
       "  \u001b[32m40731\u001b[39m,\n",
       "  \u001b[32m35364\u001b[39m,\n",
       "  \u001b[32m27155\u001b[39m,\n",
       "  \u001b[32m14751\u001b[39m,\n",
       "  \u001b[32m12580\u001b[39m,\n",
       "  \u001b[32m13525\u001b[39m,\n",
       "  \u001b[32m18369\u001b[39m,\n",
       "  \u001b[32m38952\u001b[39m,\n",
       "  \u001b[32m7066\u001b[39m,\n",
       "  \u001b[32m35408\u001b[39m,\n",
       "  \u001b[32m15343\u001b[39m,\n",
       "  \u001b[32m24839\u001b[39m,\n",
       "  \u001b[32m40017\u001b[39m,\n",
       "  \u001b[32m36603\u001b[39m,\n",
       "  \u001b[32m15069\u001b[39m,\n",
       "  \u001b[32m19357\u001b[39m,\n",
       "  \u001b[32m25891\u001b[39m,\n",
       "  \u001b[32m30838\u001b[39m,\n",
       "  \u001b[32m5725\u001b[39m,\n",
       "  \u001b[32m6467\u001b[39m,\n",
       "  \u001b[32m4504\u001b[39m,\n",
       "  \u001b[32m32499\u001b[39m,\n",
       "  \u001b[32m25437\u001b[39m,\n",
       "  \u001b[32m16713\u001b[39m,\n",
       "...\n",
       "\u001b[36mtest\u001b[39m: \u001b[32mcollection\u001b[39m.\u001b[32mmutable\u001b[39m.\u001b[32mArraySeq\u001b[39m[\u001b[32mInt\u001b[39m] = \u001b[33mArraySeq\u001b[39m(\n",
       "  \u001b[32m20850\u001b[39m,\n",
       "  \u001b[32m36551\u001b[39m,\n",
       "  \u001b[32m32812\u001b[39m,\n",
       "  \u001b[32m22312\u001b[39m,\n",
       "  \u001b[32m15805\u001b[39m,\n",
       "  \u001b[32m3848\u001b[39m,\n",
       "  \u001b[32m23162\u001b[39m,\n",
       "  \u001b[32m29319\u001b[39m,\n",
       "  \u001b[32m15325\u001b[39m,\n",
       "  \u001b[32m29257\u001b[39m,\n",
       "  \u001b[32m33982\u001b[39m,\n",
       "  \u001b[32m31424\u001b[39m,\n",
       "  \u001b[32m2765\u001b[39m,\n",
       "  \u001b[32m7335\u001b[39m,\n",
       "  \u001b[32m20340\u001b[39m,\n",
       "  \u001b[32m2413\u001b[39m,\n",
       "  \u001b[32m29560\u001b[39m,\n",
       "  \u001b[32m22471\u001b[39m,\n",
       "  \u001b[32m31417\u001b[39m,\n",
       "  \u001b[32m35751\u001b[39m,\n",
       "  \u001b[32m474\u001b[39m,\n",
       "  \u001b[32m10348\u001b[39m,\n",
       "  \u001b[32m25255\u001b[39m,\n",
       "  \u001b[32m25048\u001b[39m,\n",
       "  \u001b[32m25479\u001b[39m,\n",
       "  \u001b[32m14313\u001b[39m,\n",
       "  \u001b[32m30784\u001b[39m,\n",
       "  \u001b[32m16367\u001b[39m,\n",
       "  \u001b[32m33490\u001b[39m,\n",
       "  \u001b[32m9462\u001b[39m,\n",
       "  \u001b[32m33707\u001b[39m,\n",
       "  \u001b[32m38412\u001b[39m,\n",
       "  \u001b[32m33121\u001b[39m,\n",
       "  \u001b[32m14756\u001b[39m,\n",
       "  \u001b[32m13183\u001b[39m,\n",
       "  \u001b[32m16709\u001b[39m,\n",
       "  \u001b[32m16563\u001b[39m,\n",
       "  \u001b[32m36728\u001b[39m,\n",
       "..."
      ]
     },
     "execution_count": 63,
     "metadata": {},
     "output_type": "execute_result"
    }
   ],
   "source": [
    "val (train, test) = Random.shuffle(indices).splitAt((trainTestSplitRatio*indices.size).toInt)"
   ]
  },
  {
   "cell_type": "code",
   "execution_count": 64,
   "metadata": {},
   "outputs": [
    {
     "data": {
      "text/plain": [
       "\u001b[36mres63\u001b[39m: \u001b[32mInt\u001b[39m = \u001b[32m32759\u001b[39m"
      ]
     },
     "execution_count": 64,
     "metadata": {},
     "output_type": "execute_result"
    }
   ],
   "source": [
    "train.size"
   ]
  },
  {
   "cell_type": "code",
   "execution_count": 65,
   "metadata": {},
   "outputs": [
    {
     "data": {
      "text/plain": [
       "\u001b[36mres64\u001b[39m: \u001b[32mInt\u001b[39m = \u001b[32m8190\u001b[39m"
      ]
     },
     "execution_count": 65,
     "metadata": {},
     "output_type": "execute_result"
    }
   ],
   "source": [
    "test.size"
   ]
  },
  {
   "cell_type": "code",
   "execution_count": 66,
   "metadata": {
    "scrolled": true
   },
   "outputs": [
    {
     "data": {
      "text/plain": [
       "\u001b[36mtrain_data\u001b[39m: \u001b[32mDenseMatrix\u001b[39m[\u001b[32mDouble\u001b[39m] = 0.7464563162168785     -0.22707190669327695   ... (23 total)\n",
       "-0.061675959140767185  -0.21692291801620237   ...\n",
       "0.9212202987595945     -0.22707190669327695   ...\n",
       "-0.09504912226478521   -0.2268776676755339    ...\n",
       "-0.14296511036487247   -0.22707190669327695   ...\n",
       "-0.18735930738152065   -0.22707190669327695   ...\n",
       "-0.19021602845242477   -0.22707190669327695   ...\n",
       "-0.1394722033324985    -0.22707190669327695   ...\n",
       "-0.10820123912911227   -0.22707190669327695   ...\n",
       "-0.16232744557580622   -0.22707190669327695   ...\n",
       "-0.1897998623289152    -0.22707190669327695   ...\n",
       "-0.18885081493677577   -0.19473111023905842   ...\n",
       "-0.10927142269459619   -0.22707190669327695   ...\n",
       "-0.17496672316612005   -0.22707190669327695   ...\n",
       "-0.1479423039397353    -0.22644062988561203   ...\n",
       "-0.19027350181934005   -0.22707190669327695   ...\n",
       "0.027654158217607503   -0.22707190669327695   ...\n",
       "-0.19097497163092136   -0.2267319884122266    ...\n",
       "-0.19337544258908268   -0.22707190669327695   ...\n",
       "-0.1838414952234834    -0.19793605403181883   ...\n",
       "-0.1909261929528471    -0.22707190669327695   ...\n",
       "-0.19096951902944478   -0.22707190669327695   ...\n",
       "-0.18529115037821559   -0.22707190669327695   ...\n",
       "3.0546798678622498     -0.22707190669327695   ...\n",
       "1.6487900925655945     -0.2270233469388412    ...\n",
       "-0.03959808102689043   -0.22707190669327695   ...\n",
       "0.12415149916553195    -0.2215360946875999    ...\n",
       "0.003970857387897392   1.42080336008436       ...\n",
       "-0.17933101486149408   -0.2222159312497006    ...\n",
       "0.5014953948970976     -0.22707190669327695   ...\n",
       "-0.15723103160649607   -0.2263435103767405    ...\n",
       "-0.19302058139028272   -0.22707190669327695   ...\n",
       "-0.17654783022672002   -0.22707190669327695   ...\n",
       "-0.18881087831515003   -0.22080769837106345   ...\n",
       "-0.1782819048638791    -0.22707190669327695   ...\n",
       "-0.15320435909984742   -0.22707190669327695   ...\n",
       "-0.1394722033324985    -0.22707190669327695   ...\n",
       "-0.14792977769309992   -0.22571223356907558   ...\n",
       "-0.1934072739922973    -0.2243525604448742    ...\n",
       "..."
      ]
     },
     "execution_count": 66,
     "metadata": {},
     "output_type": "execute_result"
    }
   ],
   "source": [
    "val train_data=data_norm(train.toVector,::).toDenseMatrix"
   ]
  },
  {
   "cell_type": "code",
   "execution_count": 67,
   "metadata": {},
   "outputs": [
    {
     "data": {
      "text/plain": [
       "\u001b[36mtest_data\u001b[39m: \u001b[32mDenseMatrix\u001b[39m[\u001b[32mDouble\u001b[39m] = -0.1935845572240898   -0.22707190669327695  ... (23 total)\n",
       "0.003970857387897392  1.42080336008436      ...\n",
       "0.17612864379241705   -0.22707190669327695  ...\n",
       "-0.18508262521363839  -0.22707190669327695  ...\n",
       "-0.19336748473827903  -0.22707190669327695  ...\n",
       "-0.1910545501389579   -0.22707190669327695  ...\n",
       "-0.1895935476784501   -0.22663486890335507  ...\n",
       "-0.10927142269459619  -0.22707190669327695  ...\n",
       "1.6487900925655945    -0.2270233469388412   ...\n",
       "-0.10927142269459619  -0.22707190669327695  ...\n",
       "-0.17163533103153877  -0.22707190669327695  ...\n",
       "0.11271267810570998   -0.09523217340017885  ...\n",
       "-0.1308713876574313   -0.12038612619790438  ...\n",
       "-0.12849228500235388  -0.22707190669327695  ...\n",
       "-0.18988798815818528  -0.21347517545126315  ...\n",
       "-0.10820123912911227  -0.22707190669327695  ...\n",
       "0.5305194451893115    -0.22415832142713113  ...\n",
       "-0.19030002798868556  -0.22707190669327695  ...\n",
       "0.11271267810570998   -0.09523217340017885  ...\n",
       "-0.1925833416989042   -0.22707190669327695  ...\n",
       "0.03519363238363927   -0.22707190669327695  ...\n",
       "-0.1796276658553414   -0.22707190669327695  ...\n",
       "-0.1394722033324985   -0.22707190669327695  ...\n",
       "-0.15941560901970642  -0.22707190669327695  ...\n",
       "-0.18928215992385528  -0.22707190669327695  ...\n",
       "-0.1898228516756813   -0.22707190669327695  ...\n",
       "-0.16754086942545157  -0.22707190669327695  ...\n",
       "-0.18722800284326035  -0.15248412387994412  ...\n",
       "-0.05126178505571934  -0.22707190669327695  ...\n",
       "-0.06577425230464873  -0.22707190669327695  ...\n",
       "-0.10032753522932705  -0.21818547163153224  ...\n",
       "-0.19021602845242477  -0.22707190669327695  ...\n",
       "-0.19064693133668187  -0.22644062988561203  ...\n",
       "-0.19097497163092136  -0.2267319884122266   ...\n",
       "-0.11030682750471599  -0.22707190669327695  ...\n",
       "-0.14792977769309992  -0.22571223356907558  ...\n",
       "0.2951614392754283    -0.08906508458683687  ...\n",
       "-0.09915286803014332  -0.22707190669327695  ...\n",
       "-0.1921341652313202   -0.2268776676755339   ...\n",
       "..."
      ]
     },
     "execution_count": 67,
     "metadata": {},
     "output_type": "execute_result"
    }
   ],
   "source": [
    "val test_data=data_norm(test.toVector,::).toDenseMatrix"
   ]
  },
  {
   "cell_type": "code",
   "execution_count": 68,
   "metadata": {},
   "outputs": [
    {
     "data": {
      "text/plain": [
       "\u001b[36mtrain_outputs\u001b[39m: \u001b[32mDenseVector\u001b[39m[\u001b[32mDouble\u001b[39m] = DenseVector(4.0, 57.0, 0.0, 0.0, 1.0, 0.0, 0.0, 0.0, 1.0, 0.0, 0.0, 0.0, 0.0, 0.0, 0.0, 6.0, 0.0, 0.0, 2.0, 0.0, 0.0, 0.0, 0.0, 2.0, 6.0, 1.0, 0.0, 0.0, 0.0, 7.0, 0.0, 0.0, 1.0, 0.0, 2.0, 1.0, 5.0, 0.0, 0.0, 0.0, 1.0, 1.0, 5.0, 7.0, 1.0, 0.0, 1.0, 0.0, 6.0, 1.0, 0.0, 1.0, 0.0, 1.0, 18.0, 0.0, 0.0, 0.0, 10.0, 4.0, 0.0, 1.0, 0.0, 15.0, 0.0, 13.0, 11.0, 0.0, 0.0, 6.0, 0.0, 0.0, 0.0, 2.0, 3.0, 3.0, 8.0, 0.0, 11.0, 1.0, 2.0, 17.0, 3.0, 0.0, 1.0, 0.0, 0.0, 0.0, 2.0, 0.0, 1.0, 1.0, 4.0, 0.0, 52.0, 15.0, 0.0, 0.0, 1.0, 0.0, 0.0, 2.0, 0.0, 0.0, 4.0, 0.0, 3.0, 0.0, 2.0, 2.0, 5.0, 0.0, 1.0, 0.0, 1.0, 0.0, 0.0, 19.0, 0.0, 0.0, 2.0, 0.0, 4.0, 0.0, 0.0, 6.0, 0.0, 4.0, 0.0, 0.0, 7.0, 8.0, 0.0, 10.0, 1.0, 3.0, 0.0, 0.0, 12.0, 9.0, 4.0, 0.0, 0.0, 2.0, 0.0, 0.0, 0.0, 0.0, 0.0, 1.0, 0.0, 0.0, 0.0, 0.0, 0.0, 0.0, 3.0, 23.0, 2.0, 2.0, 1.0, 4.0, 0.0, 0.0, 4.0, 0.0, 1.0, 0.0, 1.0, 2.0, 0.0, 2.0, 0.0, 1.0, 0.0, 0.0, 2.0, 8.0, 9.0, 1.0, 0.0, 0.0, 24.0, 1.0, 0.0, 0.0, 0.0, 9.0, 0.0, 0.0, 18.0, 1.0, 3.0, 0.0, 1.0, 0.0, 10.0, 0.0, 0.0, 8.0, 0.0, 0.0, 0.0, 5.0, 4.0, 16.0, 123.0, 23.0, 1.0, 0.0, 0.0, 0.0, 0.0, 0.0, 18.0, 5.0, 0.0, 3.0, 0.0, 0.0, 0.0, 0.0, 1.0, 11.0, 0.0, 104.0, 1.0, 56.0, 0.0, 35.0, 0.0, 0.0, 24.0, 0.0, 1.0, 5.0, 0.0, 7.0, 3.0, 0.0, 0.0, 0.0, 0.0, 0.0, 3.0, 1.0, 126.0, 0.0, 0.0, 4.0, 0.0, 0.0, 2.0, 0.0, 1.0, 1.0, 0.0, 0.0, 0.0, 0.0, 0.0, 3.0, 0.0, 60.0, 1.0, 10.0, 0.0, 3.0, 0.0, 0.0, 0.0, 0.0, 0.0, 1.0, 0.0, 0.0, 0.0, 0.0, 0.0, 33.0, 0.0, 6.0, 0.0, 2.0, 4.0, 0.0, 0.0, 0.0, 0.0, 0.0, 21.0, 1.0, 0.0, 0.0, 3.0, 0.0, 0.0, 0.0, 0.0, 0.0, 0.0, 1.0, 0.0, 1.0, 0.0, 0.0, 9.0, 0.0, 0.0, 18.0, 1.0, 1.0, 0.0, 0.0, 1.0, 9.0, 2.0, 0.0, 0.0, 0.0, 0.0, 9.0, 0.0, 0.0, 0.0, 0.0, 0.0, 1.0, 0.0, 187.0, 0.0, 0.0, 2.0, 0.0, 8.0, 0.0, 0.0, 0.0, 10.0, 14.0, 0.0, 0.0, 43.0, 0.0, 9.0, 13.0, 18.0, 0.0, 0.0, 42.0, 0.0, 0.0, 0.0, 0.0, 0.0, 0.0, 1.0, 7.0, 3.0, 0.0, 0.0, 7.0, 0.0, 2.0, 1.0, 2.0, 1.0, 26.0, 0.0, 0.0, 0.0, 6.0, 0.0, 0.0, 0.0, 1.0, 0.0, 0.0, 3.0, 2.0, 1.0, 1.0, 0.0, 0.0, 0.0, 18.0, 1.0, 1.0, 1.0, 2.0, 0.0, 1.0, 1.0, 0.0, 0.0, 0.0, 0.0, 0.0, 1.0, 1.0, 193.0, 1.0, 0.0, 0.0, 0.0, 5.0, 0.0, 3.0, 1.0, 0.0, 0.0, 17.0, 0.0, 32.0, 0.0, 0.0, 2.0, 0.0, 0.0, 2.0, 1.0, 0.0, 32.0, 1.0, 29.0, 0.0, 3.0, 0.0, 7.0, 0.0, 11.0, 0.0, 0.0, 0.0, 0.0, 0.0, 1.0, 1.0, 0.0, 183.0, 0.0, 1.0, 0.0, 0.0, 0.0, 0.0, 2.0, 0.0, 0.0, 0.0, 4.0, 0.0, 0.0, 6.0, 0.0, 0.0, 0.0, 21.0, 0.0, 0.0, 0.0, 0.0, 0.0, 0.0, 0.0, 17.0, 0.0, 0.0, 1.0, 0.0, 0.0, 1.0, 0.0, 0.0, 0.0, 0.0, 0.0, 0.0, 0.0, 91.0, 26.0, 0.0, 4.0, 0.0, 11.0, 0.0, 28.0, 8.0, 23.0, 0.0, 0.0, 0.0, 0.0, 1.0, 1.0, 0.0, 0.0, 64.0, 47.0, 2.0, 0.0, 0.0, 3.0, 0.0, 0.0, 0.0, 1.0, 0.0, 0.0, 0.0, 0.0, 0.0, 7.0, 0.0, 0.0, 14.0, 0.0, 0.0, 14.0, 1.0, 40.0, 1.0, 2.0, 0.0, 0.0, 0.0, 0.0, 0.0, 10.0, 0.0, 5.0, 0.0, 131.0, 11.0, 98.0, 0.0, 2.0, 1.0, 0.0, 1.0, 0.0, 0.0, 0.0, 11.0, 2.0, 1.0, 4.0, 1.0, 0.0, 0.0, 0.0, 0.0, 0.0, 7.0, 1.0, 0.0, 0.0, 0.0, 1.0, 4.0, 0.0, 2.0, 0.0, 5.0, 0.0, 0.0, 0.0, 496.0, 0.0, 0.0, 1.0, 2.0, 0.0, 2.0, 12.0, 0.0, 1.0, 0.0, 0.0, 0.0, 11.0, 1.0, 0.0, 3.0, 0.0, 1.0, 12.0, 0.0, 1.0, 0.0, 0.0, 7.0, 0.0, 0.0, 0.0, 0.0, 0.0, 1.0, 0.0, 3.0, 0.0, 0.0, 1.0, 1.0, 0.0, 0.0, 0..."
      ]
     },
     "execution_count": 68,
     "metadata": {},
     "output_type": "execute_result"
    }
   ],
   "source": [
    "val train_outputs=outputs(train.toVector).toDenseVector"
   ]
  },
  {
   "cell_type": "code",
   "execution_count": 69,
   "metadata": {},
   "outputs": [
    {
     "data": {
      "text/plain": [
       "\u001b[36mtest_outputs\u001b[39m: \u001b[32mDenseVector\u001b[39m[\u001b[32mDouble\u001b[39m] = DenseVector(0.0, 0.0, 1.0, 0.0, 0.0, 0.0, 0.0, 0.0, 18.0, 0.0, 0.0, 20.0, 13.0, 70.0, 0.0, 0.0, 1.0, 0.0, 0.0, 0.0, 7.0, 0.0, 0.0, 0.0, 0.0, 2.0, 0.0, 1.0, 5.0, 163.0, 68.0, 0.0, 0.0, 0.0, 64.0, 2.0, 0.0, 1.0, 1.0, 54.0, 7.0, 3.0, 0.0, 58.0, 0.0, 0.0, 3.0, 0.0, 0.0, 0.0, 1.0, 2.0, 70.0, 9.0, 1.0, 0.0, 32.0, 0.0, 0.0, 0.0, 1.0, 48.0, 11.0, 0.0, 9.0, 31.0, 0.0, 2.0, 8.0, 0.0, 0.0, 0.0, 0.0, 0.0, 0.0, 17.0, 3.0, 1.0, 0.0, 0.0, 0.0, 0.0, 0.0, 0.0, 6.0, 1.0, 0.0, 0.0, 0.0, 0.0, 0.0, 2.0, 0.0, 0.0, 0.0, 1.0, 0.0, 1.0, 2.0, 49.0, 0.0, 5.0, 1.0, 0.0, 16.0, 0.0, 17.0, 15.0, 0.0, 0.0, 0.0, 0.0, 0.0, 5.0, 2.0, 0.0, 1.0, 0.0, 23.0, 1.0, 29.0, 12.0, 0.0, 0.0, 5.0, 0.0, 0.0, 0.0, 0.0, 0.0, 8.0, 1.0, 0.0, 28.0, 0.0, 0.0, 3.0, 0.0, 0.0, 0.0, 0.0, 0.0, 0.0, 1.0, 2.0, 0.0, 0.0, 61.0, 0.0, 0.0, 10.0, 2.0, 0.0, 1.0, 1.0, 3.0, 0.0, 0.0, 23.0, 34.0, 28.0, 0.0, 0.0, 0.0, 1.0, 0.0, 0.0, 0.0, 3.0, 1.0, 0.0, 9.0, 0.0, 0.0, 0.0, 2.0, 0.0, 0.0, 5.0, 0.0, 1.0, 1.0, 0.0, 0.0, 0.0, 0.0, 5.0, 0.0, 0.0, 0.0, 0.0, 0.0, 1.0, 57.0, 0.0, 0.0, 22.0, 5.0, 0.0, 0.0, 0.0, 2.0, 0.0, 3.0, 0.0, 0.0, 2.0, 3.0, 7.0, 0.0, 0.0, 8.0, 0.0, 0.0, 0.0, 0.0, 0.0, 0.0, 0.0, 6.0, 442.0, 0.0, 1.0, 0.0, 0.0, 0.0, 0.0, 0.0, 0.0, 98.0, 22.0, 8.0, 0.0, 23.0, 0.0, 0.0, 0.0, 0.0, 0.0, 0.0, 5.0, 0.0, 0.0, 0.0, 0.0, 0.0, 0.0, 0.0, 14.0, 0.0, 13.0, 1.0, 0.0, 82.0, 1.0, 0.0, 0.0, 0.0, 0.0, 4.0, 225.0, 0.0, 0.0, 0.0, 3.0, 0.0, 0.0, 2.0, 0.0, 1.0, 0.0, 7.0, 55.0, 0.0, 5.0, 4.0, 0.0, 0.0, 0.0, 9.0, 0.0, 4.0, 0.0, 1.0, 0.0, 0.0, 0.0, 0.0, 0.0, 2.0, 1.0, 233.0, 0.0, 381.0, 1.0, 0.0, 0.0, 0.0, 0.0, 0.0, 7.0, 1.0, 0.0, 1.0, 37.0, 0.0, 0.0, 0.0, 9.0, 0.0, 11.0, 0.0, 0.0, 0.0, 0.0, 2.0, 2.0, 8.0, 0.0, 0.0, 196.0, 0.0, 4.0, 1.0, 2.0, 0.0, 0.0, 0.0, 12.0, 0.0, 1.0, 0.0, 7.0, 1.0, 1.0, 0.0, 0.0, 1.0, 0.0, 0.0, 0.0, 6.0, 0.0, 4.0, 95.0, 3.0, 0.0, 0.0, 1.0, 0.0, 0.0, 0.0, 1.0, 0.0, 0.0, 2.0, 11.0, 3.0, 1.0, 0.0, 0.0, 1.0, 0.0, 0.0, 0.0, 7.0, 0.0, 6.0, 0.0, 0.0, 0.0, 38.0, 0.0, 0.0, 0.0, 0.0, 4.0, 99.0, 2.0, 0.0, 0.0, 1.0, 23.0, 0.0, 0.0, 0.0, 0.0, 0.0, 16.0, 0.0, 19.0, 0.0, 1.0, 3.0, 0.0, 0.0, 0.0, 3.0, 1.0, 0.0, 0.0, 0.0, 0.0, 3.0, 0.0, 0.0, 0.0, 0.0, 0.0, 1.0, 1.0, 0.0, 1.0, 0.0, 0.0, 6.0, 0.0, 0.0, 2.0, 0.0, 2.0, 0.0, 0.0, 0.0, 3.0, 2.0, 7.0, 1.0, 16.0, 3.0, 0.0, 0.0, 0.0, 0.0, 0.0, 0.0, 0.0, 1.0, 0.0, 0.0, 5.0, 17.0, 7.0, 0.0, 0.0, 0.0, 0.0, 1.0, 0.0, 0.0, 8.0, 0.0, 0.0, 18.0, 52.0, 0.0, 0.0, 0.0, 0.0, 8.0, 0.0, 0.0, 0.0, 0.0, 0.0, 2.0, 0.0, 7.0, 0.0, 0.0, 0.0, 0.0, 0.0, 0.0, 0.0, 0.0, 10.0, 0.0, 7.0, 0.0, 21.0, 0.0, 4.0, 1.0, 0.0, 3.0, 17.0, 18.0, 0.0, 0.0, 0.0, 4.0, 1.0, 0.0, 1.0, 0.0, 0.0, 6.0, 0.0, 4.0, 0.0, 13.0, 0.0, 1.0, 26.0, 0.0, 5.0, 0.0, 2.0, 0.0, 0.0, 0.0, 0.0, 1.0, 0.0, 0.0, 1.0, 4.0, 0.0, 2.0, 0.0, 17.0, 0.0, 0.0, 1.0, 4.0, 2.0, 1.0, 0.0, 10.0, 0.0, 1.0, 0.0, 0.0, 1.0, 6.0, 2.0, 11.0, 2.0, 5.0, 0.0, 0.0, 0.0, 0.0, 0.0, 0.0, 0.0, 0.0, 14.0, 11.0, 0.0, 0.0, 0.0, 1.0, 5.0, 2.0, 0.0, 14.0, 0.0, 3.0, 4.0, 1.0, 0.0, 10.0, 3.0, 0.0, 2.0, 0.0, 1.0, 1.0, 0.0, 0.0, 1.0, 7.0, 1.0, 0.0, 9.0, 2.0, 36.0, 0.0, 0.0, 73.0, 6.0, 1.0, 0.0, 0.0, 3.0, 3.0, 0.0, 0.0, 0.0, 1.0, 0.0, 0.0, 0.0, 0.0, 1.0, 0.0, 5.0, 1.0, 31.0, 0.0, 8.0, 0.0, 0.0, 0.0, ..."
      ]
     },
     "execution_count": 69,
     "metadata": {},
     "output_type": "execute_result"
    }
   ],
   "source": [
    "val test_outputs=outputs(test.toVector).toDenseVector"
   ]
  },
  {
   "cell_type": "code",
   "execution_count": 70,
   "metadata": {},
   "outputs": [
    {
     "name": "stderr",
     "output_type": "stream",
     "text": [
      "апр 25, 2021 9:05:51 PM com.github.fommil.jni.JniLoader liberalLoad\n",
      "INFO: successfully loaded /var/folders/98/lrln9h414fd4cbggmyx_l2vm0000gn/T/jniloader8084462930645454768netlib-native_system-osx-x86_64.jnilib\n"
     ]
    },
    {
     "data": {
      "text/plain": [
       "\u001b[36mregress\u001b[39m: \u001b[32mLeastSquaresRegressionResult\u001b[39m = \u001b[33mLeastSquaresRegressionResult\u001b[39m(\n",
       "  coefficients = DenseVector(-0.8403417461121733, -0.5167415408525297, 2.5003605458387304, -0.6756392968045853, 21.520044056091358, 107.37974610989983, -83.6348639764077, -21.428476999466252, -109.11804910469097, -4.301521829058243, -0.08582546532246081, 0.9121248759894239, -0.08324004185063708, -0.17253881131782023, 0.043619239989190976, 0.11257819361065176, -0.2267425325481979, -0.36121506110975926, -0.42687147497721567, -0.15388731351128054, -0.1971239783092229, -0.015773988346081885, -0.3173062295232176),\n",
       "  rSquared = \u001b[32m3.357812482147092E7\u001b[39m\n",
       ")"
      ]
     },
     "execution_count": 70,
     "metadata": {},
     "output_type": "execute_result"
    }
   ],
   "source": [
    "val regress=leastSquares(train_data,train_outputs)"
   ]
  },
  {
   "cell_type": "code",
   "execution_count": 71,
   "metadata": {},
   "outputs": [
    {
     "name": "stderr",
     "output_type": "stream",
     "text": [
      "апр 25, 2021 9:05:51 PM com.github.fommil.jni.JniLoader load\n",
      "INFO: already loaded netlib-native_system-osx-x86_64.jnilib\n"
     ]
    },
    {
     "data": {
      "text/plain": [
       "\u001b[36mpredictions\u001b[39m: \u001b[32mDenseVector\u001b[39m[\u001b[32mDouble\u001b[39m] = DenseVector(-6.486956610041105, -4.804346799647863, -10.442431483261512, -12.42595304788351, -2.367657646240648, -3.2087880908032975, -9.106405899578291, -7.649981093749751, 6.406712837640022, -5.333344143427809, -10.555355168028054, 7.269327221191006, 17.98008983246926, 23.6000849855199, -0.01112339323328193, -8.487260578367096, -6.083917678123143, 0.15900746035151236, -3.4659820848815954, -3.2614862254987393, -1.1997562318028479, -11.701885467942265, -10.723780168008602, -9.919458371036843, -11.877026128918533, 2.370435884107904, -6.305204716955885, -2.627212691713442, 5.385573393609402, 9.393970785904436, 57.00219147551161, -1.5679200554832438, -7.0670228871254075, -4.726926894995337, 47.673874570619546, -10.779548334981754, -7.258149987886739, 1.2381871450577524, -4.294794571011206, 27.761569211752544, 9.019474726501343, 1.0627693615861595, -4.261183592272035, 5.87628525313806, -12.037966109306538, -4.846674095134809, -8.085019015394767, -4.229685726444398, -4.358489586621886, -8.828016620345874, -9.372089066323227, 3.4680272638737613, 54.934354739094886, 9.85734961693893, -7.353548594043488, -13.011083999492243, 42.90613821306988, 2.906118260891988, -10.309832135042214, -8.446139916632752, -12.146261815041992, 14.937540512023574, 9.73817393865324, -6.096289429447065, 9.126770432276935, 6.607775425364249, -6.6753140422493615, -3.700183269900016, 0.07943733642392026, -3.801162217531221, -10.463287246009546, -7.600222625788987, -7.738650915144568, -8.623628438870352, -7.019724518291987, 0.28164559939840217, -1.247049532664601, 1.7762037936127797, -4.2281832497062375, -11.36808994989537, -9.623266858927135, -6.400497598116189, -1.1331897496393193, -10.020324725985667, 10.331115039797027, 14.95017022494471, -10.311404795846482, -7.165359710327259, -13.806618155128476, -9.796117778551341, -19.821857951832282, -11.027593890605441, -13.17977417811014, -10.769742085854006, -0.9669588022726678, -5.536216241048962, -4.233992551428784, -5.572420649896465, 5.383679812045685, 84.59418507326433, -11.524203315275404, -6.971995052612645, -5.456140509883735, -6.438206639740844, 13.41926988158546, -14.245708919893929, 13.056906639310448, 11.657870037231952, -7.140260982725401, -0.38055620634894183, -5.887819363809715, -7.921419516519826, -4.509772244457714, 4.4499506173754675, -10.035568336178326, -4.1147641145295015, 0.1321048397857041, -10.291125250318668, 17.43732986441554, -2.3478865395870727, 49.01339785187611, 3.2447814163175446, -7.313900190290553, -11.321045334233908, 6.5238428026251105, -9.979160468124284, -8.375590445165109, -4.652949041600667, -9.117348135343821, -7.375481127756103, 4.233236276246371, -5.44598929146925, -4.102213079659574, 36.20966982490333, -9.049277694743147, 3.4946580541550283, -8.126515097461223, -9.954342843402227, -6.001045664772789, -1.1858716479226459, -4.778546175879228, -9.241448419312803, -11.872127302566298, -2.0271900133709995, -9.985226127339864, -9.43106862180938, -12.46863647830061, -5.101075753840405, -12.04450687221697, -4.497572098179063, 4.089501515220386, -9.245650775529512, -9.576540839987231, 1.8145702687024041, 0.1759782030335..."
      ]
     },
     "execution_count": 71,
     "metadata": {},
     "output_type": "execute_result"
    }
   ],
   "source": [
    "val predictions=test_data*regress.coefficients"
   ]
  },
  {
   "cell_type": "code",
   "execution_count": 72,
   "metadata": {},
   "outputs": [
    {
     "data": {
      "text/plain": [
       "\u001b[36mdiffs\u001b[39m: \u001b[32mDenseVector\u001b[39m[\u001b[32mDouble\u001b[39m] = DenseVector(-6.486956610041105, -4.804346799647863, -11.442431483261512, -12.42595304788351, -2.367657646240648, -3.2087880908032975, -9.106405899578291, -7.649981093749751, -11.593287162359978, -5.333344143427809, -10.555355168028054, -12.730672778808994, 4.980089832469261, -46.3999150144801, -0.01112339323328193, -8.487260578367096, -7.083917678123143, 0.15900746035151236, -3.4659820848815954, -3.2614862254987393, -8.199756231802848, -11.701885467942265, -10.723780168008602, -9.919458371036843, -11.877026128918533, 0.37043588410790385, -6.305204716955885, -3.627212691713442, 0.3855733936094019, -153.60602921409557, -10.997808524488391, -1.5679200554832438, -7.0670228871254075, -4.726926894995337, -16.326125429380454, -12.779548334981754, -7.258149987886739, 0.2381871450577524, -5.294794571011206, -26.238430788247456, 2.0194747265013433, -1.9372306384138405, -4.261183592272035, -52.12371474686194, -12.037966109306538, -4.846674095134809, -11.085019015394767, -4.229685726444398, -4.358489586621886, -8.828016620345874, -10.372089066323227, 1.4680272638737613, -15.065645260905114, 0.8573496169389294, -8.353548594043488, -13.011083999492243, 10.90613821306988, 2.906118260891988, -10.309832135042214, -8.446139916632752, -13.146261815041992, -33.062459487976426, -1.2618260613467598, -6.096289429447065, 0.12677043227693474, -24.39222457463575, -6.6753140422493615, -5.700183269900016, -7.92056266357608, -3.801162217531221, -10.463287246009546, -7.600222625788987, -7.738650915144568, -8.623628438870352, -7.019724518291987, -16.718354400601598, -4.247049532664601, 0.7762037936127797, -4.2281832497062375, -11.36808994989537, -9.623266858927135, -6.400497598116189, -1.1331897496393193, -10.020324725985667, 4.331115039797027, 13.95017022494471, -10.311404795846482, -7.165359710327259, -13.806618155128476, -9.796117778551341, -19.821857951832282, -13.027593890605441, -13.17977417811014, -10.769742085854006, -0.9669588022726678, -6.536216241048962, -4.233992551428784, -6.572420649896465, 3.383679812045685, 35.59418507326433, -11.524203315275404, -11.971995052612645, -6.456140509883735, -6.438206639740844, -2.5807301184145395, -14.245708919893929, -3.943093360689552, -3.3421299627680483, -7.140260982725401, -0.38055620634894183, -5.887819363809715, -7.921419516519826, -4.509772244457714, -0.5500493826245325, -12.035568336178326, -4.1147641145295015, -0.8678951602142959, -10.291125250318668, -5.562670135584462, -3.3478865395870727, 20.013397851876107, -8.755218583682456, -7.313900190290553, -11.321045334233908, 1.5238428026251105, -9.979160468124284, -8.375590445165109, -4.652949041600667, -9.117348135343821, -7.375481127756103, -3.7667637237536287, -6.44598929146925, -4.102213079659574, 8.20966982490333, -9.049277694743147, 3.4946580541550283, -11.126515097461223, -9.954342843402227, -6.001045664772789, -1.1858716479226459, -4.778546175879228, -9.241448419312803, -11.872127302566298, -3.0271900133709995, -11.985226127339864, -9.43106862180938, -12.46863647830061, -66.1010757538404, -12.04450687221697, -4.497572098179063, -5.910498484779614, -11.245650775529512, -9.57654083998723..."
      ]
     },
     "execution_count": 72,
     "metadata": {},
     "output_type": "execute_result"
    }
   ],
   "source": [
    "val diffs=predictions-test_outputs"
   ]
  },
  {
   "cell_type": "markdown",
   "metadata": {},
   "source": [
    "Метрика MAE"
   ]
  },
  {
   "cell_type": "code",
   "execution_count": 73,
   "metadata": {},
   "outputs": [
    {
     "data": {
      "text/plain": [
       "\u001b[36mmae\u001b[39m: \u001b[32mDouble\u001b[39m = \u001b[32m9.55140657885978\u001b[39m"
      ]
     },
     "execution_count": 73,
     "metadata": {},
     "output_type": "execute_result"
    }
   ],
   "source": [
    "val mae=sum(abs(diffs))/diffs.size"
   ]
  },
  {
   "cell_type": "markdown",
   "metadata": {},
   "source": [
    "Метрика MSE"
   ]
  },
  {
   "cell_type": "code",
   "execution_count": 75,
   "metadata": {},
   "outputs": [
    {
     "data": {
      "text/plain": [
       "\u001b[36mmse\u001b[39m: \u001b[32mDouble\u001b[39m = \u001b[32m586.136771069337\u001b[39m"
      ]
     },
     "execution_count": 75,
     "metadata": {},
     "output_type": "execute_result"
    }
   ],
   "source": [
    "val mse=sum(pow(diffs,2))/diffs.size"
   ]
  },
  {
   "cell_type": "markdown",
   "metadata": {},
   "source": [
    "# Реализация линейной регрессии руками"
   ]
  },
  {
   "cell_type": "code",
   "execution_count": 80,
   "metadata": {},
   "outputs": [
    {
     "data": {
      "text/plain": [
       "\u001b[36mepochs\u001b[39m: \u001b[32mInt\u001b[39m = \u001b[32m1000\u001b[39m"
      ]
     },
     "execution_count": 80,
     "metadata": {},
     "output_type": "execute_result"
    }
   ],
   "source": [
    "val epochs=1000"
   ]
  },
  {
   "cell_type": "code",
   "execution_count": 81,
   "metadata": {},
   "outputs": [
    {
     "data": {
      "text/plain": [
       "\u001b[36mlearningRate\u001b[39m: \u001b[32mDouble\u001b[39m = \u001b[32m1.0E-4\u001b[39m"
      ]
     },
     "execution_count": 81,
     "metadata": {},
     "output_type": "execute_result"
    }
   ],
   "source": [
    "val learningRate=0.0001"
   ]
  },
  {
   "cell_type": "code",
   "execution_count": 122,
   "metadata": {},
   "outputs": [
    {
     "data": {
      "text/html": [
       "<div class=\"jp-RenderedText\">\n",
       "<pre><code><span style=\"color: rgb(0, 187, 187)\"><span class=\"ansi-cyan-fg\">weightVector</span></span>: <span style=\"color: rgb(0, 187, 0)\"><span class=\"ansi-green-fg\">DenseVector</span></span>[<span style=\"color: rgb(0, 187, 0)\"><span class=\"ansi-green-fg\">Double</span></span>] = <style>@keyframes fadein { from { opacity: 0; } to { opacity: 1; } }</style><span style=\"animation: fadein 2s;\">DenseVector(2.5300348961764256, 2.682777919889527, 2.326550659246271, 2.172478292297333, 2.041153525998072, 2.080102349786082, 2.0463008349344434, 2.801023008261731, 2.495630962884232, 2.1318089291334346, 2.143250088055371, 1.9955219472737733, 2.5635843538587104, 2.2802746903638127, 2.614272891733173, 2.6816076826706894, 2.665290514608745, 2.4936135716321233, 2.3562631886384957, 2.668136595073164, 2.1326226750085504, 2.1119647218759026, 2.5500618686741343)</span></code></pre>\n",
       "</div>"
      ],
      "text/plain": [
       "\u001b[36mweightVector\u001b[39m: \u001b[32mDenseVector\u001b[39m[\u001b[32mDouble\u001b[39m] = DenseVector(2.5300348961764256, 2.682777919889527, 2.326550659246271, 2.172478292297333, 2.041153525998072, 2.080102349786082, 2.0463008349344434, 2.801023008261731, 2.495630962884232, 2.1318089291334346, 2.143250088055371, 1.9955219472737733, 2.5635843538587104, 2.2802746903638127, 2.614272891733173, 2.6816076826706894, 2.665290514608745, 2.4936135716321233, 2.3562631886384957, 2.668136595073164, 2.1326226750085504, 2.1119647218759026, 2.5500618686741343)"
      ]
     },
     "metadata": {},
     "output_type": "display_data"
    }
   ],
   "source": [
    "var weightVector=DenseVector.rand(test_data.cols)"
   ]
  },
  {
   "cell_type": "code",
   "execution_count": 123,
   "metadata": {},
   "outputs": [
    {
     "data": {
      "text/html": [
       "<div class=\"jp-RenderedText\">\n",
       "<pre><code><span style=\"color: rgb(0, 187, 187)\"><span class=\"ansi-cyan-fg\">intercept</span></span>: <span style=\"color: rgb(0, 187, 0)\"><span class=\"ansi-green-fg\">Double</span></span> = <style>@keyframes fadein { from { opacity: 0; } to { opacity: 1; } }</style><span style=\"animation: fadein 2s;\"><span style=\"color: rgb(0, 187, 0)\"><span class=\"ansi-green-fg\">1.534948287600428</span></span></span></code></pre>\n",
       "</div>"
      ],
      "text/plain": [
       "\u001b[36mintercept\u001b[39m: \u001b[32mDouble\u001b[39m = \u001b[32m1.534948287600428\u001b[39m"
      ]
     },
     "metadata": {},
     "output_type": "display_data"
    }
   ],
   "source": [
    "var intercept=Random.nextDouble()"
   ]
  },
  {
   "cell_type": "code",
   "execution_count": 124,
   "metadata": {},
   "outputs": [
    {
     "data": {
      "text/html": [
       "<div class=\"jp-RenderedText\">\n",
       "<pre><code><span style=\"color: rgb(0, 187, 187)\"><span class=\"ansi-cyan-fg\">y_current</span></span>: <span style=\"color: rgb(0, 187, 0)\"><span class=\"ansi-green-fg\">DenseVector</span></span>[<span style=\"color: rgb(0, 187, 0)\"><span class=\"ansi-green-fg\">Double</span></span>] = <style>@keyframes fadein { from { opacity: 0; } to { opacity: 1; } }</style><span style=\"animation: fadein 2s;\">DenseVector(-7.750638070873564, -14.915871642839729, -1.2832501350979655, -10.425131437974898, 5.619612623666088, -8.112810188848865, -0.27283882840421736, 6.93549434480365, 0.5601366381771178, -1.661932194854462, -1.5478511067641092, 0.9254595269721646, 3.2445940271476714, -1.3986111540902368, -3.5296223715565445, 6.287916832604712, 3.245059586873486, 1.1686587211746637, -17.423099743869994, 3.7265673174568468, -0.4908437823184304, -0.9454932193649475, -2.05029174000698, 27.351466677811445, 0.13572577094762295, -2.315621337066995, -5.022926234970778, 5.230226333331724, 0.9582620339784511, 17.373894756333453, -1.1258451550797957, -8.966405891794473, 0.8992835729666808, -6.313712859421858, -11.596940262193769, 2.651526848065615, 5.778259628959376, -0.21364204155292787, -4.750136305197752, 0.4692601206315925, -4.704391408038318, -0.6517817816097122, -0.6103585140241687, 3.489023517561958, -0.835085693000647, 6.5407589018659165, -4.8076072808551995, -11.031691570434734, 8.417305279540674, 6.2739644451991525, -3.8554803331682512, 5.803724564246795, -1.0389368324398438, 11.632808503941213, -3.0739504558700004, 3.154309146197876, -7.346755353034095, -2.735068694542597, 17.739932845324233, 8.7312997867812, 1.415635484418015, 3.04998339852611, 4.247353117651876, 13.69440633191083, -8.806451403933654, -1.6921138573606767, -7.875107024668927, -2.388651732377776, 4.514948047726022, -9.96195807012733, -4.493811069127587, -9.008586268400862, 89.0095370946858, -5.124012964480515, 3.4058061969681277, -0.7168867419478193, -2.9206004822407063, -10.683192274888803, -1.5020259970202527, 3.198505594793229, -3.4263911134708973, 23.365742792988343, 1.925853459005162, 3.6012827239995016, -7.808358889698012, -7.234008661092571, -0.43501979674650215, -10.136812012090179, -10.117013628779077, -8.275668052585889, 24.461838356762094, -3.4498917088447474, 1.3958583999419467, -9.684397801974303, 3.7942338108534814, 8.534390239035709, -0.3705501634260999, -1.3460594749851302, 0.23704240952798195, -1.9322699221224777, 17.98743391974108, -5.0002780491455905, -8.849990648661041, -6.486577111313138, 1.0189916454105457, -4.409366407660765, -3.7963783117449674, -18.649635129546905, -8.32277738145877, -4.325538659064193, 0.07275338302587198, -8.852705932524998, -10.912564079116493, -7.818548201559653, -0.7257374343649614, -6.23265153577118, 4.4374604923124075, 2.5804821168613636, 0.9356580442635893, -6.516280080025289, 11.634732166732789, -2.0775710332401247, -4.045308924384509, -5.508583263411214, 34.63578602113476, -3.4836729667811115, -3.653502115630829, 5.805076648504948, -7.13380382095331, -5.292690171477891, -7.576936891486141, -2.6630389661802463, 0.6597479761081235, 14.680262032654735, 2.8289946487553177, -10.1660730372773, 1.0424805142465563, 0.636296424059648, 13.14057637959852, 23.536906613633974, -17.528990254940922, 4.057771022050638, 6.657256229241701, 5.465662865149657, 5.014890243317117, 2.3669503571039114, -7.484394414697824, 0.9115761029188842, -8.754422784125563, 29.19817122263178, -1.1288878657630974, 3.0225371998505635, 3.716209018172159, -2.4229129774427953, -7.929316929893129, 5...</span></code></pre>\n",
       "</div>"
      ],
      "text/plain": [
       "\u001b[36my_current\u001b[39m: \u001b[32mDenseVector\u001b[39m[\u001b[32mDouble\u001b[39m] = DenseVector(-7.750638070873564, -14.915871642839729, -1.2832501350979655, -10.425131437974898, 5.619612623666088, -8.112810188848865, -0.27283882840421736, 6.93549434480365, 0.5601366381771178, -1.661932194854462, -1.5478511067641092, 0.9254595269721646, 3.2445940271476714, -1.3986111540902368, -3.5296223715565445, 6.287916832604712, 3.245059586873486, 1.1686587211746637, -17.423099743869994, 3.7265673174568468, -0.4908437823184304, -0.9454932193649475, -2.05029174000698, 27.351466677811445, 0.13572577094762295, -2.315621337066995, -5.022926234970778, 5.230226333331724, 0.9582620339784511, 17.373894756333453, -1.1258451550797957, -8.966405891794473, 0.8992835729666808, -6.313712859421858, -11.596940262193769, 2.651526848065615, 5.778259628959376, -0.21364204155292787, -4.750136305197752, 0.4692601206315925, -4.704391408038318, -0.6517817816097122, -0.6103585140241687, 3.489023517561958, -0.835085693000647, 6.5407589018659165, -4.8076072808551995, -11.031691570434734, 8.417305279540674, 6.2739644451991525, -3.8554803331682512, 5.803724564246795, -1.0389368324398438, 11.632808503941213, -3.0739504558700004, 3.154309146197876, -7.346755353034095, -2.735068694542597, 17.739932845324233, 8.7312997867812, 1.415635484418015, 3.04998339852611, 4.247353117651876, 13.69440633191083, -8.806451403933654, -1.6921138573606767, -7.875107024668927, -2.388651732377776, 4.514948047726022, -9.96195807012733, -4.493811069127587, -9.008586268400862, 89.0095370946858, -5.124012964480515, 3.4058061969681277, -0.7168867419478193, -2.9206004822407063, -10.683192274888803, -1.5020259970202527, 3.198505594793229, -3.4263911134708973, 23.365742792988343, 1.925853459005162, 3.6012827239995016, -7.808358889698012, -7.234008661092571, -0.43501979674650215, -10.136812012090179, -10.117013628779077, -8.275668052585889, 24.461838356762094, -3.4498917088447474, 1.3958583999419467, -9.684397801974303, 3.7942338108534814, 8.534390239035709, -0.3705501634260999, -1.3460594749851302, 0.23704240952798195, -1.9322699221224777, 17.98743391974108, -5.0002780491455905, -8.849990648661041, -6.486577111313138, 1.0189916454105457, -4.409366407660765, -3.7963783117449674, -18.649635129546905, -8.32277738145877, -4.325538659064193, 0.07275338302587198, -8.852705932524998, -10.912564079116493, -7.818548201559653, -0.7257374343649614, -6.23265153577118, 4.4374604923124075, 2.5804821168613636, 0.9356580442635893, -6.516280080025289, 11.634732166732789, -2.0775710332401247, -4.045308924384509, -5.508583263411214, 34.63578602113476, -3.4836729667811115, -3.653502115630829, 5.805076648504948, -7.13380382095331, -5.292690171477891, -7.576936891486141, -2.6630389661802463, 0.6597479761081235, 14.680262032654735, 2.8289946487553177, -10.1660730372773, 1.0424805142465563, 0.636296424059648, 13.14057637959852, 23.536906613633974, -17.528990254940922, 4.057771022050638, 6.657256229241701, 5.465662865149657, 5.014890243317117, 2.3669503571039114, -7.484394414697824, 0.9115761029188842, -8.754422784125563, 29.19817122263178, -1.1288878657630974, 3.0225371998505635, 3.716209018172159, -2.4229129774427953, -7.929316929893129, 5..."
      ]
     },
     "metadata": {},
     "output_type": "display_data"
    }
   ],
   "source": [
    "var y_current=(train_data*weightVector) + intercept"
   ]
  },
  {
   "cell_type": "code",
   "execution_count": null,
   "metadata": {},
   "outputs": [],
   "source": []
  },
  {
   "cell_type": "code",
   "execution_count": 125,
   "metadata": {},
   "outputs": [
    {
     "data": {
      "text/plain": [
       "\u001b[36mN\u001b[39m: \u001b[32mInt\u001b[39m = \u001b[32m32759\u001b[39m"
      ]
     },
     "execution_count": 125,
     "metadata": {},
     "output_type": "execute_result"
    }
   ],
   "source": [
    "val N=y_current.size"
   ]
  },
  {
   "cell_type": "code",
   "execution_count": 126,
   "metadata": {},
   "outputs": [],
   "source": [
    "for {i<-0 until epochs} {\n",
    "         y_current = (train_data*weightVector) + intercept\n",
    "         var D_w = (-2.0/N) * (train_data.t*(train_outputs-y_current)).sum\n",
    "         var D_i = (-2.0/N) * (train_outputs - y_current).sum\n",
    "         weightVector = weightVector - learningRate*D_w\n",
    "         intercept = intercept - learningRate*D_i\n",
    "}"
   ]
  },
  {
   "cell_type": "code",
   "execution_count": 127,
   "metadata": {},
   "outputs": [
    {
     "data": {
      "text/plain": [
       "\u001b[36mres126\u001b[39m: \u001b[32mDenseVector\u001b[39m[\u001b[32mDouble\u001b[39m] = DenseVector(2.5300348961764256, 2.682777919889527, 2.326550659246271, 2.172478292297333, 2.041153525998072, 2.080102349786082, 2.0463008349344434, 2.801023008261731, 2.495630962884232, 2.1318089291334346, 2.143250088055371, 1.9955219472737733, 2.5635843538587104, 2.2802746903638127, 2.614272891733173, 2.6816076826706894, 2.665290514608745, 2.4936135716321233, 2.3562631886384957, 2.668136595073164, 2.1326226750085504, 2.1119647218759026, 2.5500618686741343)"
      ]
     },
     "execution_count": 127,
     "metadata": {},
     "output_type": "execute_result"
    }
   ],
   "source": [
    "weightVector"
   ]
  },
  {
   "cell_type": "code",
   "execution_count": 128,
   "metadata": {},
   "outputs": [
    {
     "data": {
      "text/plain": [
       "\u001b[36mres127\u001b[39m: \u001b[32mDouble\u001b[39m = \u001b[32m1.534948287600428\u001b[39m"
      ]
     },
     "execution_count": 128,
     "metadata": {},
     "output_type": "execute_result"
    }
   ],
   "source": [
    "intercept"
   ]
  },
  {
   "cell_type": "code",
   "execution_count": 129,
   "metadata": {},
   "outputs": [
    {
     "data": {
      "text/plain": [
       "\u001b[36mpredictions\u001b[39m: \u001b[32mDenseVector\u001b[39m[\u001b[32mDouble\u001b[39m] = DenseVector(-7.87904267020262, 3.186118996423331, 5.224883256398392, 4.443219002138072, -4.535034600352994, -5.072591832185274, -1.9823914536850151, 2.9656380123985615, 2.147404862506292, 1.4132580394790155, -7.604528725395775, 13.435129050966008, 5.792761778636462, -1.8151152448896184, -4.055717549484181, -3.710887925813519, 9.147151466085798, -6.247617652385775, 2.1398207572914183, 4.497934059424608, 9.808442905593328, 2.7176392585849403, 2.5748744059687665, 1.8132876744670847, 8.263141378786923, -18.667100893259214, -5.225523872810507, -1.15877495099617, -1.8022017031955517, -3.727625064671554, 33.88424335958908, -1.094915318123653, -6.708801856239668, 0.2598139933768091, 16.38843544557841, -2.16699190884907, 3.386255423842228, -1.2028326593533492, -4.77217521468055, 24.236240133738914, 0.03241491060480195, 0.6946687961421221, 3.7757857237204773, -8.291084114800661, -5.372143160095281, -8.214543528580588, 5.827037657436219, 0.09104332934146964, -6.443652374025083, 8.577961713364042, 9.282594887286276, -6.457139250891249, 19.619346173088765, -7.05368127891114, -4.641318190733998, 10.672485928594686, 33.66282746402302, -6.073410991372656, 4.409286743704365, -3.831145171504221, -2.80014695432705, -10.824023826973573, -2.7354553463579325, 5.222253084546009, -7.442973690448185, 5.852183845232357, 2.57716193552492, 0.06354649215913977, 2.3629632421911264, -3.0477690166866482, -1.0003074995659933, -1.4837180600267774, 2.5861515741510885, -2.8980757274502267, -13.917061372999836, 10.347395865786641, -7.001555699209757, -0.4532382186083215, -2.332999937790049, -4.5753550411729735, -5.455259871217817, -1.2901962955323798, -10.631671522673837, 9.11974504069973, 4.757891184996529, 34.14030262546641, 5.074992187287481, -12.976803673253794, 33.33653627116329, -6.224118334054311, -20.30583922784665, -0.049082995594704304, -1.4861273971046094, -6.623134157966963, -5.279271674879457, 21.83369456958524, -1.721720980804255, -7.942003378262604, -7.646685453724126, 36.29275870271246, 2.6137276755426266, 2.1492422083360623, -7.229860259336999, 5.964829761041106, 3.5936049795457414, 30.866021521440686, 2.6505193933249496, 11.423033084660826, -0.9276724628719881, 0.6012816672858827, 4.96339522178426, 12.996451471050651, 0.4660174396581338, 8.785788288346208, 6.93689837082324, -1.625808051478045, 0.5334350145388838, 5.455743441406459, 8.86480925151831, -2.047401769992807, 20.35043378807271, 0.40964914527110796, -1.482294377674692, 5.908705097509894, 19.756320256025415, -3.5519706880555777, 8.170497800963084, 0.48465059927741017, 3.2094138967693224, -2.3548208583961188, -0.9498709893889434, 2.641088353844524, -3.592443416806817, 9.746479238407463, -4.461686717432918, 3.485396329308534, -2.20487695194047, 10.466678684561671, 3.2817584024958277, -3.134084173515876, 1.6801642356064148, -0.5594500530147903, 3.987748273708744, -7.294194058283851, 7.9297237163886205, -3.939665182389226, 7.429410655958161, -4.9827637644428115, -7.81141175736627, -0.5548425760101079, -3.8695975842497603, 1.1899399776347943, 2.444847906923342, -5.418385020156612, -5.126967413288839, -0.7462036031017059, -2.55505..."
      ]
     },
     "execution_count": 129,
     "metadata": {},
     "output_type": "execute_result"
    }
   ],
   "source": [
    "val predictions=test_data*weightVector+intercept"
   ]
  },
  {
   "cell_type": "code",
   "execution_count": 130,
   "metadata": {},
   "outputs": [
    {
     "data": {
      "text/plain": [
       "\u001b[36mdiffs\u001b[39m: \u001b[32mDenseVector\u001b[39m[\u001b[32mDouble\u001b[39m] = DenseVector(-7.87904267020262, 3.186118996423331, 4.224883256398392, 4.443219002138072, -4.535034600352994, -5.072591832185274, -1.9823914536850151, 2.9656380123985615, -15.852595137493708, 1.4132580394790155, -7.604528725395775, -6.564870949033992, -7.207238221363538, -71.81511524488963, -4.055717549484181, -3.710887925813519, 8.147151466085798, -6.247617652385775, 2.1398207572914183, 4.497934059424608, 2.8084429055933278, 2.7176392585849403, 2.5748744059687665, 1.8132876744670847, 8.263141378786923, -20.667100893259214, -5.225523872810507, -2.15877495099617, -6.802201703195552, -166.72762506467154, -34.11575664041092, -1.094915318123653, -6.708801856239668, 0.2598139933768091, -47.61156455442159, -4.16699190884907, 3.386255423842228, -2.202832659353349, -5.77217521468055, -29.763759866261086, -6.9675850893951985, -2.305331203857878, 3.7757857237204773, -66.29108411480067, -5.372143160095281, -8.214543528580588, 2.827037657436219, 0.09104332934146964, -6.443652374025083, 8.577961713364042, 8.282594887286276, -8.457139250891249, -50.380653826911235, -16.05368127891114, -5.641318190733998, 10.672485928594686, 1.6628274640230174, -6.073410991372656, 4.409286743704365, -3.831145171504221, -3.80014695432705, -58.82402382697357, -13.735455346357933, 5.222253084546009, -16.442973690448184, -25.147816154767643, 2.57716193552492, -1.9364535078408602, -5.637036757808874, -3.0477690166866482, -1.0003074995659933, -1.4837180600267774, 2.5861515741510885, -2.8980757274502267, -13.917061372999836, -6.652604134213359, -10.001555699209757, -1.4532382186083215, -2.332999937790049, -4.5753550411729735, -5.455259871217817, -1.2901962955323798, -10.631671522673837, 9.11974504069973, -1.242108815003471, 33.14030262546641, 5.074992187287481, -12.976803673253794, 33.33653627116329, -6.224118334054311, -20.30583922784665, -2.0490829955947043, -1.4861273971046094, -6.623134157966963, -5.279271674879457, 20.83369456958524, -1.721720980804255, -8.942003378262605, -9.646685453724125, -12.707241297287538, 2.6137276755426266, -2.8507577916639377, -8.229860259336998, 5.964829761041106, -12.406395020454259, 30.866021521440686, -14.349480606675051, -3.576966915339174, -0.9276724628719881, 0.6012816672858827, 4.96339522178426, 12.996451471050651, 0.4660174396581338, 3.7857882883462075, 4.93689837082324, -1.625808051478045, -0.46656498546111624, 5.455743441406459, -14.13519074848169, -3.047401769992807, -8.64956621192729, -11.590350854728893, -1.482294377674692, 5.908705097509894, 14.756320256025415, -3.5519706880555777, 8.170497800963084, 0.48465059927741017, 3.2094138967693224, -2.3548208583961188, -8.949870989388943, 1.6410883538445238, -3.592443416806817, -18.253520761592537, -4.461686717432918, 3.485396329308534, -5.20487695194047, 10.466678684561671, 3.2817584024958277, -3.134084173515876, 1.6801642356064148, -0.5594500530147903, 3.987748273708744, -8.29419405828385, 5.9297237163886205, -3.939665182389226, 7.429410655958161, -65.98276376444281, -7.81141175736627, -0.5548425760101079, -13.86959758424976, -0.8100600223652057, 2.444847906923342, -6.418385020156612, -6.126967413288839, -3.746203..."
      ]
     },
     "execution_count": 130,
     "metadata": {},
     "output_type": "execute_result"
    }
   ],
   "source": [
    "val diffs=predictions-test_outputs"
   ]
  },
  {
   "cell_type": "markdown",
   "metadata": {},
   "source": [
    "Метрика MAE"
   ]
  },
  {
   "cell_type": "code",
   "execution_count": 131,
   "metadata": {},
   "outputs": [
    {
     "data": {
      "text/plain": [
       "\u001b[36mmae\u001b[39m: \u001b[32mDouble\u001b[39m = \u001b[32m9.950664979236224\u001b[39m"
      ]
     },
     "execution_count": 131,
     "metadata": {},
     "output_type": "execute_result"
    }
   ],
   "source": [
    "val mae=sum(abs(diffs))/diffs.size"
   ]
  },
  {
   "cell_type": "code",
   "execution_count": 132,
   "metadata": {},
   "outputs": [
    {
     "data": {
      "text/plain": [
       "\u001b[36mmse\u001b[39m: \u001b[32mDouble\u001b[39m = \u001b[32m785.0846275276465\u001b[39m"
      ]
     },
     "execution_count": 132,
     "metadata": {},
     "output_type": "execute_result"
    }
   ],
   "source": [
    "val mse=sum(pow(diffs,2))/diffs.size"
   ]
  },
  {
   "cell_type": "code",
   "execution_count": null,
   "metadata": {},
   "outputs": [],
   "source": []
  }
 ],
 "metadata": {
  "kernelspec": {
   "display_name": "Scala",
   "language": "scala",
   "name": "scala"
  },
  "language_info": {
   "codemirror_mode": "text/x-scala",
   "file_extension": ".sc",
   "mimetype": "text/x-scala",
   "name": "scala",
   "nbconvert_exporter": "script",
   "version": "2.13.4"
  }
 },
 "nbformat": 4,
 "nbformat_minor": 4
}
