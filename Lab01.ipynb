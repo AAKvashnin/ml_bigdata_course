{
 "cells": [
  {
   "cell_type": "code",
   "execution_count": 1,
   "metadata": {},
   "outputs": [
    {
     "data": {
      "text/plain": [
       "\u001b[32mimport \u001b[39m\u001b[36m$ivy.$                             \n",
       "\u001b[39m"
      ]
     },
     "execution_count": 1,
     "metadata": {},
     "output_type": "execute_result"
    }
   ],
   "source": [
    "import $ivy.`org.scalanlp:breeze_2.13:1.2`\n"
   ]
  },
  {
   "cell_type": "code",
   "execution_count": 2,
   "metadata": {},
   "outputs": [
    {
     "data": {
      "text/plain": [
       "\u001b[32mimport \u001b[39m\u001b[36m$ivy.$                                     \u001b[39m"
      ]
     },
     "execution_count": 2,
     "metadata": {},
     "output_type": "execute_result"
    }
   ],
   "source": [
    "import $ivy.`org.scalanlp:breeze-natives_2.13:1.2`"
   ]
  },
  {
   "cell_type": "code",
   "execution_count": 3,
   "metadata": {},
   "outputs": [
    {
     "data": {
      "text/plain": [
       "\u001b[32mimport \u001b[39m\u001b[36m$ivy.$                                 \u001b[39m"
      ]
     },
     "execution_count": 3,
     "metadata": {},
     "output_type": "execute_result"
    }
   ],
   "source": [
    "import $ivy.`org.scalanlp:breeze-viz_2.13:1.2`"
   ]
  },
  {
   "cell_type": "code",
   "execution_count": 85,
   "metadata": {},
   "outputs": [
    {
     "data": {
      "text/plain": [
       "\u001b[32mimport \u001b[39m\u001b[36mbreeze.linalg._\u001b[39m"
      ]
     },
     "execution_count": 85,
     "metadata": {},
     "output_type": "execute_result"
    }
   ],
   "source": [
    "import breeze.linalg._"
   ]
  },
  {
   "cell_type": "code",
   "execution_count": 85,
   "metadata": {},
   "outputs": [
    {
     "name": "stderr",
     "output_type": "stream",
     "text": [
      "cmd85.sc:798: object mean is not a member of package breeze.linalg\n",
      "did you mean max or min?\n",
      "possible cause: maybe a semicolon is missing before `object mean`?\n",
      "import breeze.linalg.mean\n",
      "       ^Compilation Failed"
     ]
    },
    {
     "ename": "",
     "evalue": "",
     "output_type": "error",
     "traceback": [
      "Compilation Failed"
     ]
    }
   ],
   "source": [
    "import breeze.linalg.mean"
   ]
  },
  {
   "cell_type": "code",
   "execution_count": 80,
   "metadata": {},
   "outputs": [
    {
     "data": {
      "text/plain": [
       "\u001b[32mimport \u001b[39m\u001b[36mbreeze.numerics._\u001b[39m"
      ]
     },
     "execution_count": 80,
     "metadata": {},
     "output_type": "execute_result"
    }
   ],
   "source": [
    "import breeze.numerics._"
   ]
  },
  {
   "cell_type": "markdown",
   "metadata": {},
   "source": [
    "# Загрузка данных"
   ]
  },
  {
   "cell_type": "code",
   "execution_count": 5,
   "metadata": {},
   "outputs": [
    {
     "data": {
      "text/plain": [
       "\u001b[32mimport \u001b[39m\u001b[36mscala.io.Source._\u001b[39m"
      ]
     },
     "execution_count": 5,
     "metadata": {},
     "output_type": "execute_result"
    }
   ],
   "source": [
    "import scala.io.Source._"
   ]
  },
  {
   "cell_type": "code",
   "execution_count": 6,
   "metadata": {},
   "outputs": [
    {
     "data": {
      "text/plain": [
       "\u001b[32mimport \u001b[39m\u001b[36mscala.collection.mutable.ArrayBuffer\u001b[39m"
      ]
     },
     "execution_count": 6,
     "metadata": {},
     "output_type": "execute_result"
    }
   ],
   "source": [
    "import scala.collection.mutable.ArrayBuffer"
   ]
  },
  {
   "cell_type": "code",
   "execution_count": 7,
   "metadata": {},
   "outputs": [
    {
     "data": {
      "text/plain": [
       "\u001b[36mbufferedSource\u001b[39m: \u001b[32mscala\u001b[39m.\u001b[32mio\u001b[39m.\u001b[32mBufferedSource\u001b[39m = \u001b[32mnon-empty iterator\u001b[39m"
      ]
     },
     "execution_count": 7,
     "metadata": {},
     "output_type": "execute_result"
    }
   ],
   "source": [
    "val bufferedSource = scala.io.Source.fromFile(\"./data/Dataset.csv\")"
   ]
  },
  {
   "cell_type": "code",
   "execution_count": 8,
   "metadata": {},
   "outputs": [
    {
     "data": {
      "text/html": [
       "<div class=\"jp-RenderedText\">\n",
       "<pre><code><span style=\"color: rgb(0, 187, 187)\"><span class=\"ansi-cyan-fg\">likes</span></span>: <span style=\"color: rgb(0, 187, 0)\"><span class=\"ansi-green-fg\">ArrayBuffer</span></span>[<span style=\"color: rgb(0, 187, 0)\"><span class=\"ansi-green-fg\">Int</span></span>] = <span style=\"color: yellow\"><span class=\"ansi-yellow-fg\">ArrayBuffer</span></span>()\n",
       "<span style=\"color: rgb(0, 187, 187)\"><span class=\"ansi-cyan-fg\">checkins</span></span>: <span style=\"color: rgb(0, 187, 0)\"><span class=\"ansi-green-fg\">ArrayBuffer</span></span>[<span style=\"color: rgb(0, 187, 0)\"><span class=\"ansi-green-fg\">Int</span></span>] = <span style=\"color: yellow\"><span class=\"ansi-yellow-fg\">ArrayBuffer</span></span>()\n",
       "<span style=\"color: rgb(0, 187, 187)\"><span class=\"ansi-cyan-fg\">returns</span></span>: <span style=\"color: rgb(0, 187, 0)\"><span class=\"ansi-green-fg\">ArrayBuffer</span></span>[<span style=\"color: rgb(0, 187, 0)\"><span class=\"ansi-green-fg\">Int</span></span>] = <span style=\"color: yellow\"><span class=\"ansi-yellow-fg\">ArrayBuffer</span></span>()\n",
       "<span style=\"color: rgb(0, 187, 187)\"><span class=\"ansi-cyan-fg\">category</span></span>: <span style=\"color: rgb(0, 187, 0)\"><span class=\"ansi-green-fg\">ArrayBuffer</span></span>[<span style=\"color: rgb(0, 187, 0)\"><span class=\"ansi-green-fg\">Int</span></span>] = <span style=\"color: yellow\"><span class=\"ansi-yellow-fg\">ArrayBuffer</span></span>()\n",
       "<span style=\"color: rgb(0, 187, 187)\"><span class=\"ansi-cyan-fg\">commbase</span></span>: <span style=\"color: rgb(0, 187, 0)\"><span class=\"ansi-green-fg\">ArrayBuffer</span></span>[<span style=\"color: rgb(0, 187, 0)\"><span class=\"ansi-green-fg\">Int</span></span>] = <span style=\"color: yellow\"><span class=\"ansi-yellow-fg\">ArrayBuffer</span></span>()\n",
       "<span style=\"color: rgb(0, 187, 187)\"><span class=\"ansi-cyan-fg\">comm24</span></span>: <span style=\"color: rgb(0, 187, 0)\"><span class=\"ansi-green-fg\">ArrayBuffer</span></span>[<span style=\"color: rgb(0, 187, 0)\"><span class=\"ansi-green-fg\">Int</span></span>] = <span style=\"color: yellow\"><span class=\"ansi-yellow-fg\">ArrayBuffer</span></span>()\n",
       "<span style=\"color: rgb(0, 187, 187)\"><span class=\"ansi-cyan-fg\">comm48</span></span>: <span style=\"color: rgb(0, 187, 0)\"><span class=\"ansi-green-fg\">ArrayBuffer</span></span>[<span style=\"color: rgb(0, 187, 0)\"><span class=\"ansi-green-fg\">Int</span></span>] = <span style=\"color: yellow\"><span class=\"ansi-yellow-fg\">ArrayBuffer</span></span>()\n",
       "<span style=\"color: rgb(0, 187, 187)\"><span class=\"ansi-cyan-fg\">comm24_1</span></span>: <span style=\"color: rgb(0, 187, 0)\"><span class=\"ansi-green-fg\">ArrayBuffer</span></span>[<span style=\"color: rgb(0, 187, 0)\"><span class=\"ansi-green-fg\">Int</span></span>] = <span style=\"color: yellow\"><span class=\"ansi-yellow-fg\">ArrayBuffer</span></span>()\n",
       "<span style=\"color: rgb(0, 187, 187)\"><span class=\"ansi-cyan-fg\">diff2448</span></span>: <span style=\"color: rgb(0, 187, 0)\"><span class=\"ansi-green-fg\">ArrayBuffer</span></span>[<span style=\"color: rgb(0, 187, 0)\"><span class=\"ansi-green-fg\">Int</span></span>] = <span style=\"color: yellow\"><span class=\"ansi-yellow-fg\">ArrayBuffer</span></span>()\n",
       "<span style=\"color: rgb(0, 187, 187)\"><span class=\"ansi-cyan-fg\">baseTime</span></span>: <span style=\"color: rgb(0, 187, 0)\"><span class=\"ansi-green-fg\">ArrayBuffer</span></span>[<span style=\"color: rgb(0, 187, 0)\"><span class=\"ansi-green-fg\">Int</span></span>] = <span style=\"color: yellow\"><span class=\"ansi-yellow-fg\">ArrayBuffer</span></span>()\n",
       "<span style=\"color: rgb(0, 187, 187)\"><span class=\"ansi-cyan-fg\">lengths</span></span>: <span style=\"color: rgb(0, 187, 0)\"><span class=\"ansi-green-fg\">ArrayBuffer</span></span>[<span style=\"color: rgb(0, 187, 0)\"><span class=\"ansi-green-fg\">Int</span></span>] = <span style=\"color: yellow\"><span class=\"ansi-yellow-fg\">ArrayBuffer</span></span>()\n",
       "<span style=\"color: rgb(0, 187, 187)\"><span class=\"ansi-cyan-fg\">shares</span></span>: <span style=\"color: rgb(0, 187, 0)\"><span class=\"ansi-green-fg\">ArrayBuffer</span></span>[<span style=\"color: rgb(0, 187, 0)\"><span class=\"ansi-green-fg\">Int</span></span>] = <span style=\"color: yellow\"><span class=\"ansi-yellow-fg\">ArrayBuffer</span></span>()\n",
       "<span style=\"color: rgb(0, 187, 187)\"><span class=\"ansi-cyan-fg\">hrs</span></span>: <span style=\"color: rgb(0, 187, 0)\"><span class=\"ansi-green-fg\">ArrayBuffer</span></span>[<span style=\"color: rgb(0, 187, 0)\"><span class=\"ansi-green-fg\">Int</span></span>] = <span style=\"color: yellow\"><span class=\"ansi-yellow-fg\">ArrayBuffer</span></span>()\n",
       "<span style=\"color: rgb(0, 187, 187)\"><span class=\"ansi-cyan-fg\">sun_pub</span></span>: <span style=\"color: rgb(0, 187, 0)\"><span class=\"ansi-green-fg\">ArrayBuffer</span></span>[<span style=\"color: rgb(0, 187, 0)\"><span class=\"ansi-green-fg\">Int</span></span>] = <span style=\"color: yellow\"><span class=\"ansi-yellow-fg\">ArrayBuffer</span></span>()\n",
       "<span style=\"color: rgb(0, 187, 187)\"><span class=\"ansi-cyan-fg\">mon_pub</span></span>: <span style=\"color: rgb(0, 187, 0)\"><span class=\"ansi-green-fg\">ArrayBuffer</span></span>[<span style=\"color: rgb(0, 187, 0)\"><span class=\"ansi-green-fg\">Int</span></span>] = <span style=\"color: yellow\"><span class=\"ansi-yellow-fg\">ArrayBuffer</span></span>()\n",
       "<span style=\"color: rgb(0, 187, 187)\"><span class=\"ansi-cyan-fg\">tue_pub</span></span>: <span style=\"color: rgb(0, 187, 0)\"><span class=\"ansi-green-fg\">ArrayBuffer</span></span>[<span style=\"color: rgb(0, 187, 0)\"><span class=\"ansi-green-fg\">Int</span></span>] = <span style=\"color: yellow\"><span class=\"ansi-yellow-fg\">ArrayBuffer</span></span>()\n",
       "<span style=\"color: rgb(0, 187, 187)\"><span class=\"ansi-cyan-fg\">wed_pub</span></span>: <span style=\"color: rgb(0, 187, 0)\"><span class=\"ansi-green-fg\">ArrayBuffer</span></span>[<span style=\"color: rgb(0, 187, 0)\"><span class=\"ansi-green-fg\">Int</span></span>] = <span style=\"color: yellow\"><span class=\"ansi-yellow-fg\">ArrayBuffer</span></span>()\n",
       "<span style=\"color: rgb(0, 187, 187)\"><span class=\"ansi-cyan-fg\">thu_pub</span></span>: <span style=\"color: rgb(0, 187, 0)\"><span class=\"ansi-green-fg\">ArrayBuffer</span></span>[<span style=\"color: rgb(0, 187, 0)\"><span class=\"ansi-green-fg\">Int</span></span>] = <span style=\"color: yellow\"><span class=\"ansi-yellow-fg\">ArrayBuffer</span></span>()\n",
       "<span style=\"color: rgb(0, 187, 187)\"><span class=\"ansi-cyan-fg\">fri_pub</span></span>: <span style=\"color: rgb(0, 187, 0)\"><span class=\"ansi-green-fg\">ArrayBuffer</span></span>[<span style=\"color: rgb(0, 187, 0)\"><span class=\"ansi-green-fg\">Int</span></span>] = <span style=\"color: yellow\"><span class=\"ansi-yellow-fg\">ArrayBuffer</span></span>()\n",
       "<span style=\"color: rgb(0, 187, 187)\"><span class=\"ansi-cyan-fg\">sat_pub</span></span>: <span style=\"color: rgb(0, 187, 0)\"><span class=\"ansi-green-fg\">ArrayBuffer</span></span>[<span style=\"color: rgb(0, 187, 0)\"><span class=\"ansi-green-fg\">Int</span></span>] = <span style=\"color: yellow\"><span class=\"ansi-yellow-fg\">ArrayBuffer</span></span>()\n",
       "<span style=\"color: rgb(0, 187, 187)\"><span class=\"ansi-cyan-fg\">sun_base</span></span>: <span style=\"color: rgb(0, 187, 0)\"><span class=\"ansi-green-fg\">ArrayBuffer</span></span>[<span style=\"color: rgb(0, 187, 0)\"><span class=\"ansi-green-fg\">Int</span></span>] = <span style=\"color: yellow\"><span class=\"ansi-yellow-fg\">ArrayBuffer</span></span>()\n",
       "<span style=\"color: rgb(0, 187, 187)\"><span class=\"ansi-cyan-fg\">mon_base</span></span>: <span style=\"color: rgb(0, 187, 0)\"><span class=\"ansi-green-fg\">ArrayBuffer</span></span>[<span style=\"color: rgb(0, 187, 0)\"><span class=\"ansi-green-fg\">Int</span></span>] = <span style=\"color: yellow\"><span class=\"ansi-yellow-fg\">ArrayBuffer</span></span>()\n",
       "<span style=\"color: rgb(0, 187, 187)\"><span class=\"ansi-cyan-fg\">tue_base</span></span>: <span style=\"color: rgb(0, 187, 0)\"><span class=\"ansi-green-fg\">ArrayBuffer</span></span>[<span style=\"color: rgb(0, 187, 0)\"><span class=\"ansi-green-fg\">Int</span></span>] = <span style=\"color: yellow\"><span class=\"ansi-yellow-fg\">ArrayBuffer</span></span>()\n",
       "<span style=\"color: rgb(0, 187, 187)\"><span class=\"ansi-cyan-fg\">wed_base</span></span>: <span style=\"color: rgb(0, 187, 0)\"><span class=\"ansi-green-fg\">ArrayBuffer</span></span>[<span style=\"color: rgb(0, 187, 0)\"><span class=\"ansi-green-fg\">Int</span></span>] = <span style=\"color: yellow\"><span class=\"ansi-yellow-fg\">ArrayBuffer</span></span>()\n",
       "<span style=\"color: rgb(0, 187, 187)\"><span class=\"ansi-cyan-fg\">thu_base</span></span>: <span style=\"color: rgb(0, 187, 0)\"><span class=\"ansi-green-fg\">ArrayBuffer</span></span>[<span style=\"color: rgb(0, 187, 0)\"><span class=\"ansi-green-fg\">Int</span></span>] = <span style=\"color: yellow\"><span class=\"ansi-yellow-fg\">ArrayBuffer</span></span>()\n",
       "<span style=\"color: rgb(0, 187, 187)\"><span class=\"ansi-cyan-fg\">fri_base</span></span>: <span style=\"color: rgb(0, 187, 0)\"><span class=\"ansi-green-fg\">ArrayBuffer</span></span>[<span style=\"color: rgb(0, 187, 0)\"><span class=\"ansi-green-fg\">Int</span></span>] = <span style=\"color: yellow\"><span class=\"ansi-yellow-fg\">ArrayBuffer</span></span>()\n",
       "<span style=\"color: rgb(0, 187, 187)\"><span class=\"ansi-cyan-fg\">sat_base</span></span>: <span style=\"color: rgb(0, 187, 0)\"><span class=\"ansi-green-fg\">ArrayBuffer</span></span>[<span style=\"color: rgb(0, 187, 0)\"><span class=\"ansi-green-fg\">Int</span></span>] = <span style=\"color: yellow\"><span class=\"ansi-yellow-fg\">ArrayBuffer</span></span>()\n",
       "<span style=\"color: rgb(0, 187, 187)\"><span class=\"ansi-cyan-fg\">output</span></span>: <span style=\"color: rgb(0, 187, 0)\"><span class=\"ansi-green-fg\">ArrayBuffer</span></span>[<span style=\"color: rgb(0, 187, 0)\"><span class=\"ansi-green-fg\">Int</span></span>] = <span style=\"color: yellow\"><span class=\"ansi-yellow-fg\">ArrayBuffer</span></span>()</code></pre>\n",
       "</div>"
      ],
      "text/plain": [
       "\u001b[36mlikes\u001b[39m: \u001b[32mArrayBuffer\u001b[39m[\u001b[32mInt\u001b[39m] = \u001b[33mArrayBuffer\u001b[39m()\n",
       "\u001b[36mcheckins\u001b[39m: \u001b[32mArrayBuffer\u001b[39m[\u001b[32mInt\u001b[39m] = \u001b[33mArrayBuffer\u001b[39m()\n",
       "\u001b[36mreturns\u001b[39m: \u001b[32mArrayBuffer\u001b[39m[\u001b[32mInt\u001b[39m] = \u001b[33mArrayBuffer\u001b[39m()\n",
       "\u001b[36mcategory\u001b[39m: \u001b[32mArrayBuffer\u001b[39m[\u001b[32mInt\u001b[39m] = \u001b[33mArrayBuffer\u001b[39m()\n",
       "\u001b[36mcommbase\u001b[39m: \u001b[32mArrayBuffer\u001b[39m[\u001b[32mInt\u001b[39m] = \u001b[33mArrayBuffer\u001b[39m()\n",
       "\u001b[36mcomm24\u001b[39m: \u001b[32mArrayBuffer\u001b[39m[\u001b[32mInt\u001b[39m] = \u001b[33mArrayBuffer\u001b[39m()\n",
       "\u001b[36mcomm48\u001b[39m: \u001b[32mArrayBuffer\u001b[39m[\u001b[32mInt\u001b[39m] = \u001b[33mArrayBuffer\u001b[39m()\n",
       "\u001b[36mcomm24_1\u001b[39m: \u001b[32mArrayBuffer\u001b[39m[\u001b[32mInt\u001b[39m] = \u001b[33mArrayBuffer\u001b[39m()\n",
       "\u001b[36mdiff2448\u001b[39m: \u001b[32mArrayBuffer\u001b[39m[\u001b[32mInt\u001b[39m] = \u001b[33mArrayBuffer\u001b[39m()\n",
       "\u001b[36mbaseTime\u001b[39m: \u001b[32mArrayBuffer\u001b[39m[\u001b[32mInt\u001b[39m] = \u001b[33mArrayBuffer\u001b[39m()\n",
       "\u001b[36mlengths\u001b[39m: \u001b[32mArrayBuffer\u001b[39m[\u001b[32mInt\u001b[39m] = \u001b[33mArrayBuffer\u001b[39m()\n",
       "\u001b[36mshares\u001b[39m: \u001b[32mArrayBuffer\u001b[39m[\u001b[32mInt\u001b[39m] = \u001b[33mArrayBuffer\u001b[39m()\n",
       "\u001b[36mhrs\u001b[39m: \u001b[32mArrayBuffer\u001b[39m[\u001b[32mInt\u001b[39m] = \u001b[33mArrayBuffer\u001b[39m()\n",
       "\u001b[36msun_pub\u001b[39m: \u001b[32mArrayBuffer\u001b[39m[\u001b[32mInt\u001b[39m] = \u001b[33mArrayBuffer\u001b[39m()\n",
       "\u001b[36mmon_pub\u001b[39m: \u001b[32mArrayBuffer\u001b[39m[\u001b[32mInt\u001b[39m] = \u001b[33mArrayBuffer\u001b[39m()\n",
       "\u001b[36mtue_pub\u001b[39m: \u001b[32mArrayBuffer\u001b[39m[\u001b[32mInt\u001b[39m] = \u001b[33mArrayBuffer\u001b[39m()\n",
       "\u001b[36mwed_pub\u001b[39m: \u001b[32mArrayBuffer\u001b[39m[\u001b[32mInt\u001b[39m] = \u001b[33mArrayBuffer\u001b[39m()\n",
       "\u001b[36mthu_pub\u001b[39m: \u001b[32mArrayBuffer\u001b[39m[\u001b[32mInt\u001b[39m] = \u001b[33mArrayBuffer\u001b[39m()\n",
       "\u001b[36mfri_pub\u001b[39m: \u001b[32mArrayBuffer\u001b[39m[\u001b[32mInt\u001b[39m] = \u001b[33mArrayBuffer\u001b[39m()\n",
       "\u001b[36msat_pub\u001b[39m: \u001b[32mArrayBuffer\u001b[39m[\u001b[32mInt\u001b[39m] = \u001b[33mArrayBuffer\u001b[39m()\n",
       "\u001b[36msun_base\u001b[39m: \u001b[32mArrayBuffer\u001b[39m[\u001b[32mInt\u001b[39m] = \u001b[33mArrayBuffer\u001b[39m()\n",
       "\u001b[36mmon_base\u001b[39m: \u001b[32mArrayBuffer\u001b[39m[\u001b[32mInt\u001b[39m] = \u001b[33mArrayBuffer\u001b[39m()\n",
       "\u001b[36mtue_base\u001b[39m: \u001b[32mArrayBuffer\u001b[39m[\u001b[32mInt\u001b[39m] = \u001b[33mArrayBuffer\u001b[39m()\n",
       "\u001b[36mwed_base\u001b[39m: \u001b[32mArrayBuffer\u001b[39m[\u001b[32mInt\u001b[39m] = \u001b[33mArrayBuffer\u001b[39m()\n",
       "\u001b[36mthu_base\u001b[39m: \u001b[32mArrayBuffer\u001b[39m[\u001b[32mInt\u001b[39m] = \u001b[33mArrayBuffer\u001b[39m()\n",
       "\u001b[36mfri_base\u001b[39m: \u001b[32mArrayBuffer\u001b[39m[\u001b[32mInt\u001b[39m] = \u001b[33mArrayBuffer\u001b[39m()\n",
       "\u001b[36msat_base\u001b[39m: \u001b[32mArrayBuffer\u001b[39m[\u001b[32mInt\u001b[39m] = \u001b[33mArrayBuffer\u001b[39m()\n",
       "\u001b[36moutput\u001b[39m: \u001b[32mArrayBuffer\u001b[39m[\u001b[32mInt\u001b[39m] = \u001b[33mArrayBuffer\u001b[39m()"
      ]
     },
     "metadata": {},
     "output_type": "display_data"
    }
   ],
   "source": [
    "var likes = ArrayBuffer[Int]()\n",
    "var checkins = ArrayBuffer[Int]() \n",
    "var returns = ArrayBuffer[Int]()\n",
    "var category= ArrayBuffer[Int]()\n",
    "var commbase=ArrayBuffer[Int]()\n",
    "var comm24=ArrayBuffer[Int]()\n",
    "var comm48=ArrayBuffer[Int]()\n",
    "var comm24_1=ArrayBuffer[Int]()\n",
    "var diff2448=ArrayBuffer[Int]()\n",
    "var baseTime=ArrayBuffer[Int]()\n",
    "var lengths=ArrayBuffer[Int]()\n",
    "var shares=ArrayBuffer[Int]()\n",
    "var hrs=ArrayBuffer[Int]()\n",
    "var sun_pub=ArrayBuffer[Int]()\n",
    "var mon_pub=ArrayBuffer[Int]()\n",
    "var tue_pub=ArrayBuffer[Int]()\n",
    "var wed_pub=ArrayBuffer[Int]()\n",
    "var thu_pub=ArrayBuffer[Int]()\n",
    "var fri_pub=ArrayBuffer[Int]()\n",
    "var sat_pub=ArrayBuffer[Int]()\n",
    "var sun_base=ArrayBuffer[Int]()\n",
    "var mon_base=ArrayBuffer[Int]()\n",
    "var tue_base=ArrayBuffer[Int]()\n",
    "var wed_base=ArrayBuffer[Int]()\n",
    "var thu_base=ArrayBuffer[Int]()\n",
    "var fri_base=ArrayBuffer[Int]()\n",
    "var sat_base=ArrayBuffer[Int]()\n",
    "var output=ArrayBuffer[Int]()\n"
   ]
  },
  {
   "cell_type": "code",
   "execution_count": 32,
   "metadata": {},
   "outputs": [
    {
     "data": {
      "text/plain": [
       "defined \u001b[32mfunction\u001b[39m \u001b[36mparse_col\u001b[39m"
      ]
     },
     "execution_count": 32,
     "metadata": {},
     "output_type": "execute_result"
    }
   ],
   "source": [
    "def parse_col(col:String):Int={if (!col.equals(\"\")) col.toInt else 0 }"
   ]
  },
  {
   "cell_type": "code",
   "execution_count": 10,
   "metadata": {},
   "outputs": [],
   "source": [
    "for (line <- bufferedSource.getLines.drop(1)) { \n",
    "        val cols = line.split(\",\").map(_.trim)\n",
    "        // do whatever you want with the columns here\n",
    "        likes+=parse_col(cols(0))      \n",
    "        checkins+=parse_col(cols(1))\n",
    "        returns+=parse_col(cols(2))\n",
    "        category+=parse_col(cols(3))\n",
    "        commbase+=parse_col(cols(4))\n",
    "        comm24+=parse_col(cols(5))\n",
    "        comm48+=parse_col(cols(6))\n",
    "        comm24_1+=parse_col(cols(7))\n",
    "        diff2448+=parse_col(cols(8))\n",
    "        baseTime+=parse_col(cols(9))\n",
    "        lengths+=parse_col(cols(10))\n",
    "        shares+=parse_col(cols(11))\n",
    "        hrs+=parse_col(cols(12))\n",
    "        sun_pub+=parse_col(cols(13))\n",
    "        mon_pub+=parse_col(cols(14))\n",
    "        tue_pub+=parse_col(cols(15))\n",
    "        wed_pub+=parse_col(cols(16))\n",
    "        thu_pub+=parse_col(cols(17))\n",
    "        fri_pub+=parse_col(cols(18))\n",
    "        sat_pub+=parse_col(cols(19))\n",
    "        sun_base+=parse_col(cols(20))\n",
    "        mon_base+=parse_col(cols(21))\n",
    "        tue_base+=parse_col(cols(22))\n",
    "        wed_base+=parse_col(cols(23))\n",
    "        thu_base+=parse_col(cols(24))\n",
    "        fri_base+=parse_col(cols(25))\n",
    "        sat_base+=parse_col(cols(26))\n",
    "        output+=parse_col(cols(27))\n",
    "    }"
   ]
  },
  {
   "cell_type": "code",
   "execution_count": 11,
   "metadata": {},
   "outputs": [],
   "source": [
    "bufferedSource.close"
   ]
  },
  {
   "cell_type": "code",
   "execution_count": 12,
   "metadata": {},
   "outputs": [
    {
     "data": {
      "text/plain": [
       "\u001b[36mrows\u001b[39m: \u001b[32mInt\u001b[39m = \u001b[32m40949\u001b[39m"
      ]
     },
     "execution_count": 12,
     "metadata": {},
     "output_type": "execute_result"
    }
   ],
   "source": [
    "val rows=likes.length"
   ]
  },
  {
   "cell_type": "code",
   "execution_count": 13,
   "metadata": {},
   "outputs": [
    {
     "data": {
      "text/html": [
       "<div class=\"jp-RenderedText\">\n",
       "<pre><code><span style=\"color: rgb(0, 187, 187)\"><span class=\"ansi-cyan-fg\">resultArray</span></span>: <span style=\"color: rgb(0, 187, 0)\"><span class=\"ansi-green-fg\">ArrayBuffer</span></span>[<span style=\"color: rgb(0, 187, 0)\"><span class=\"ansi-green-fg\">Int</span></span>] = <span style=\"color: yellow\"><span class=\"ansi-yellow-fg\">ArrayBuffer</span></span>(\n",
       "  <span style=\"color: rgb(0, 187, 0)\"><span class=\"ansi-green-fg\">634995</span></span>,\n",
       "  <span style=\"color: rgb(0, 187, 0)\"><span class=\"ansi-green-fg\">634995</span></span>,\n",
       "  <span style=\"color: rgb(0, 187, 0)\"><span class=\"ansi-green-fg\">634995</span></span>,\n",
       "  <span style=\"color: rgb(0, 187, 0)\"><span class=\"ansi-green-fg\">634995</span></span>,\n",
       "  <span style=\"color: rgb(0, 187, 0)\"><span class=\"ansi-green-fg\">634995</span></span>,\n",
       "  <span style=\"color: rgb(0, 187, 0)\"><span class=\"ansi-green-fg\">634995</span></span>,\n",
       "  <span style=\"color: rgb(0, 187, 0)\"><span class=\"ansi-green-fg\">634995</span></span>,\n",
       "  <span style=\"color: rgb(0, 187, 0)\"><span class=\"ansi-green-fg\">634995</span></span>,\n",
       "  <span style=\"color: rgb(0, 187, 0)\"><span class=\"ansi-green-fg\">634995</span></span>,\n",
       "  <span style=\"color: rgb(0, 187, 0)\"><span class=\"ansi-green-fg\">634995</span></span>,\n",
       "  <span style=\"color: rgb(0, 187, 0)\"><span class=\"ansi-green-fg\">634995</span></span>,\n",
       "  <span style=\"color: rgb(0, 187, 0)\"><span class=\"ansi-green-fg\">634995</span></span>,\n",
       "  <span style=\"color: rgb(0, 187, 0)\"><span class=\"ansi-green-fg\">634995</span></span>,\n",
       "  <span style=\"color: rgb(0, 187, 0)\"><span class=\"ansi-green-fg\">634995</span></span>,\n",
       "  <span style=\"color: rgb(0, 187, 0)\"><span class=\"ansi-green-fg\">634995</span></span>,\n",
       "  <span style=\"color: rgb(0, 187, 0)\"><span class=\"ansi-green-fg\">634995</span></span>,\n",
       "  <span style=\"color: rgb(0, 187, 0)\"><span class=\"ansi-green-fg\">634995</span></span>,\n",
       "  <span style=\"color: rgb(0, 187, 0)\"><span class=\"ansi-green-fg\">634995</span></span>,\n",
       "  <span style=\"color: rgb(0, 187, 0)\"><span class=\"ansi-green-fg\">634995</span></span>,\n",
       "  <span style=\"color: rgb(0, 187, 0)\"><span class=\"ansi-green-fg\">634995</span></span>,\n",
       "  <span style=\"color: rgb(0, 187, 0)\"><span class=\"ansi-green-fg\">634995</span></span>,\n",
       "  <span style=\"color: rgb(0, 187, 0)\"><span class=\"ansi-green-fg\">634995</span></span>,\n",
       "  <span style=\"color: rgb(0, 187, 0)\"><span class=\"ansi-green-fg\">634995</span></span>,\n",
       "  <span style=\"color: rgb(0, 187, 0)\"><span class=\"ansi-green-fg\">634995</span></span>,\n",
       "  <span style=\"color: rgb(0, 187, 0)\"><span class=\"ansi-green-fg\">634995</span></span>,\n",
       "  <span style=\"color: rgb(0, 187, 0)\"><span class=\"ansi-green-fg\">634995</span></span>,\n",
       "  <span style=\"color: rgb(0, 187, 0)\"><span class=\"ansi-green-fg\">634995</span></span>,\n",
       "  <span style=\"color: rgb(0, 187, 0)\"><span class=\"ansi-green-fg\">634995</span></span>,\n",
       "  <span style=\"color: rgb(0, 187, 0)\"><span class=\"ansi-green-fg\">634995</span></span>,\n",
       "  <span style=\"color: rgb(0, 187, 0)\"><span class=\"ansi-green-fg\">634995</span></span>,\n",
       "  <span style=\"color: rgb(0, 187, 0)\"><span class=\"ansi-green-fg\">634995</span></span>,\n",
       "  <span style=\"color: rgb(0, 187, 0)\"><span class=\"ansi-green-fg\">634995</span></span>,\n",
       "  <span style=\"color: rgb(0, 187, 0)\"><span class=\"ansi-green-fg\">634995</span></span>,\n",
       "  <span style=\"color: rgb(0, 187, 0)\"><span class=\"ansi-green-fg\">634995</span></span>,\n",
       "  <span style=\"color: rgb(0, 187, 0)\"><span class=\"ansi-green-fg\">634995</span></span>,\n",
       "  <span style=\"color: rgb(0, 187, 0)\"><span class=\"ansi-green-fg\">634995</span></span>,\n",
       "  <span style=\"color: rgb(0, 187, 0)\"><span class=\"ansi-green-fg\">634995</span></span>,\n",
       "  <span style=\"color: rgb(0, 187, 0)\"><span class=\"ansi-green-fg\">634995</span></span>,\n",
       "...</code></pre>\n",
       "</div>"
      ],
      "text/plain": [
       "\u001b[36mresultArray\u001b[39m: \u001b[32mArrayBuffer\u001b[39m[\u001b[32mInt\u001b[39m] = \u001b[33mArrayBuffer\u001b[39m(\n",
       "  \u001b[32m634995\u001b[39m,\n",
       "  \u001b[32m634995\u001b[39m,\n",
       "  \u001b[32m634995\u001b[39m,\n",
       "  \u001b[32m634995\u001b[39m,\n",
       "  \u001b[32m634995\u001b[39m,\n",
       "  \u001b[32m634995\u001b[39m,\n",
       "  \u001b[32m634995\u001b[39m,\n",
       "  \u001b[32m634995\u001b[39m,\n",
       "  \u001b[32m634995\u001b[39m,\n",
       "  \u001b[32m634995\u001b[39m,\n",
       "  \u001b[32m634995\u001b[39m,\n",
       "  \u001b[32m634995\u001b[39m,\n",
       "  \u001b[32m634995\u001b[39m,\n",
       "  \u001b[32m634995\u001b[39m,\n",
       "  \u001b[32m634995\u001b[39m,\n",
       "  \u001b[32m634995\u001b[39m,\n",
       "  \u001b[32m634995\u001b[39m,\n",
       "  \u001b[32m634995\u001b[39m,\n",
       "  \u001b[32m634995\u001b[39m,\n",
       "  \u001b[32m634995\u001b[39m,\n",
       "  \u001b[32m634995\u001b[39m,\n",
       "  \u001b[32m634995\u001b[39m,\n",
       "  \u001b[32m634995\u001b[39m,\n",
       "  \u001b[32m634995\u001b[39m,\n",
       "  \u001b[32m634995\u001b[39m,\n",
       "  \u001b[32m634995\u001b[39m,\n",
       "  \u001b[32m634995\u001b[39m,\n",
       "  \u001b[32m634995\u001b[39m,\n",
       "  \u001b[32m634995\u001b[39m,\n",
       "  \u001b[32m634995\u001b[39m,\n",
       "  \u001b[32m634995\u001b[39m,\n",
       "  \u001b[32m634995\u001b[39m,\n",
       "  \u001b[32m634995\u001b[39m,\n",
       "  \u001b[32m634995\u001b[39m,\n",
       "  \u001b[32m634995\u001b[39m,\n",
       "  \u001b[32m634995\u001b[39m,\n",
       "  \u001b[32m634995\u001b[39m,\n",
       "  \u001b[32m634995\u001b[39m,\n",
       "..."
      ]
     },
     "metadata": {},
     "output_type": "display_data"
    }
   ],
   "source": [
    "var resultArray=likes++checkins\n",
    "resultArray=resultArray++returns\n",
    "resultArray=resultArray++category\n",
    "resultArray=resultArray++commbase\n",
    "resultArray=resultArray++comm24\n",
    "resultArray=resultArray++comm48\n",
    "resultArray=resultArray++comm24_1\n",
    "resultArray=resultArray++diff2448\n",
    "resultArray=resultArray++baseTime\n",
    "resultArray=resultArray++lengths\n",
    "resultArray=resultArray++shares\n",
    "resultArray=resultArray++hrs\n",
    "resultArray=resultArray++sun_pub\n",
    "resultArray=resultArray++mon_pub\n",
    "resultArray=resultArray++tue_pub\n",
    "resultArray=resultArray++wed_pub\n",
    "resultArray=resultArray++thu_pub\n",
    "resultArray=resultArray++fri_pub\n",
    "resultArray=resultArray++sat_pub\n",
    "resultArray=resultArray++sun_base\n",
    "resultArray=resultArray++mon_base\n",
    "resultArray=resultArray++tue_base\n",
    "resultArray=resultArray++wed_base\n",
    "resultArray=resultArray++thu_base\n",
    "resultArray=resultArray++fri_base\n",
    "resultArray=resultArray++sat_base\n",
    "resultArray=resultArray++output\n",
    "\n",
    "\n",
    "\n"
   ]
  },
  {
   "cell_type": "code",
   "execution_count": 14,
   "metadata": {},
   "outputs": [
    {
     "data": {
      "text/plain": [
       "\u001b[36mmat\u001b[39m: \u001b[32mDenseMatrix\u001b[39m[\u001b[32mInt\u001b[39m] = 634995  0  463  1  0   0   0   0   0    65  166  2   24  0  0  ... (28 total)\n",
       "634995  0  463  1  0   0   0   0   0    10  132  1   24  0  0  ...\n",
       "634995  0  463  1  0   0   0   0   0    14  133  2   24  0  0  ...\n",
       "634995  0  463  1  7   0   3   7   -3   62  131  1   24  0  0  ...\n",
       "634995  0  463  1  1   0   0   1   0    58  142  5   24  0  0  ...\n",
       "634995  0  463  1  0   0   0   0   0    60  166  1   24  0  0  ...\n",
       "634995  0  463  1  0   0   0   0   0    68  145  2   24  0  0  ...\n",
       "634995  0  463  1  1   0   1   1   -1   32  157  2   24  0  0  ...\n",
       "634995  0  463  1  0   0   0   0   0    35  177  5   24  0  0  ...\n",
       "634995  0  463  1  0   0   0   0   0    48  126  1   24  0  0  ...\n",
       "634995  0  463  1  0   0   0   0   0    52  188  1   24  0  0  ...\n",
       "634995  0  463  1  1   0   0   1   0    69  172  4   24  0  0  ...\n",
       "634995  0  463  1  0   0   0   0   0    3   157  4   24  0  0  ...\n",
       "634995  0  463  1  1   1   0   1   1    37  126  1   24  0  0  ...\n",
       "634995  0  463  1  0   0   0   0   0    23  103  1   24  0  0  ...\n",
       "634995  0  463  1  3   0   3   3   -3   40  158  4   24  0  0  ...\n",
       "634995  0  463  1  3   0   3   2   -3   54  151  0   24  0  0  ...\n",
       "634995  0  463  1  0   0   0   0   0    29  133  1   24  0  0  ...\n",
       "634995  0  463  1  1   0   1   1   -1   36  137  0   24  0  0  ...\n",
       "634995  0  463  1  0   0   0   0   0    11  106  0   24  0  0  ...\n",
       "634995  0  463  1  0   0   0   0   0    62  149  1   24  0  0  ...\n",
       "634995  0  463  1  77  46  31  74  15   31  135  19  24  0  0  ...\n",
       "634995  0  463  1  6   0   1   6   -1   54  64   1   24  0  0  ...\n",
       "634995  0  463  1  0   0   0   0   0    69  111  4   24  0  0  ...\n",
       "634995  0  463  1  0   0   0   0   0    71  156  0   24  0  0  ...\n",
       "634995  0  463  1  0   0   0   0   0    61  199  0   24  0  0  ...\n",
       "634995  0  463  1  4   4   0   4   4    13  300  0   24  0  0  ...\n",
       "634995  0  463  1  29  3   11  25  -8   49  96   0   24  0  0  ...\n",
       "634995  0  463  1  3   1   2   3   -1   35  67   0   24  0  0  ...\n",
       "634995  0  463  1  2   2   0   2   2    11  0    0   24  0  0  ...\n",
       "634995  0  463  1  2   0   2   2   -2   37  168  0   24  0  0  ...\n",
       "634995  0  463  1  0   0   0   0   0    0   84   0   24  0  0  ...\n",
       "634995  0  463  1  2   2   0   2   2    11  116  4   24  0  0  ...\n",
       "634995  0  463  1  0   0   0   0   0    43  64   0   24  0  0  ...\n",
       "634995  0  463  1  2   2   0   2   2    18  133  4   24  0  0  ...\n",
       "634995  0  463  1  0   0   0   0   0    64  186  3   24  0  0  ...\n",
       "634995  0  463  1  0   0   0   0   0    51  205  0   24  0  0  ...\n",
       "634995  0  463  1  0   0   0   0   0    67  210  28  24  0  0  ...\n",
       "634995  0  463  1  8   8   0   8   8    12  114  13  24  0  0  ...\n",
       "..."
      ]
     },
     "execution_count": 14,
     "metadata": {},
     "output_type": "execute_result"
    }
   ],
   "source": [
    "val mat=new DenseMatrix(rows, 28, resultArray.toArray)\n",
    "                        \n",
    "                        \n",
    "                        \n",
    "                       \n",
    "                        "
   ]
  },
  {
   "cell_type": "code",
   "execution_count": 15,
   "metadata": {},
   "outputs": [
    {
     "data": {
      "text/plain": [
       "\u001b[36mres14\u001b[39m: \u001b[32mInt\u001b[39m = \u001b[32m40949\u001b[39m"
      ]
     },
     "execution_count": 15,
     "metadata": {},
     "output_type": "execute_result"
    }
   ],
   "source": [
    "mat.rows"
   ]
  },
  {
   "cell_type": "code",
   "execution_count": 16,
   "metadata": {},
   "outputs": [
    {
     "data": {
      "text/plain": [
       "\u001b[36mres15\u001b[39m: \u001b[32mInt\u001b[39m = \u001b[32m28\u001b[39m"
      ]
     },
     "execution_count": 16,
     "metadata": {},
     "output_type": "execute_result"
    }
   ],
   "source": [
    "mat.cols"
   ]
  },
  {
   "cell_type": "code",
   "execution_count": 17,
   "metadata": {},
   "outputs": [
    {
     "data": {
      "text/plain": [
       "\u001b[36mres16\u001b[39m: \u001b[32mDenseMatrix\u001b[39m[\u001b[32mInt\u001b[39m] = 634995  0  463  1  0   0   0   0   0    65  166  2   24  0  0  ... (28 total)\n",
       "634995  0  463  1  0   0   0   0   0    10  132  1   24  0  0  ...\n",
       "634995  0  463  1  0   0   0   0   0    14  133  2   24  0  0  ...\n",
       "634995  0  463  1  7   0   3   7   -3   62  131  1   24  0  0  ...\n",
       "634995  0  463  1  1   0   0   1   0    58  142  5   24  0  0  ...\n",
       "634995  0  463  1  0   0   0   0   0    60  166  1   24  0  0  ...\n",
       "634995  0  463  1  0   0   0   0   0    68  145  2   24  0  0  ...\n",
       "634995  0  463  1  1   0   1   1   -1   32  157  2   24  0  0  ...\n",
       "634995  0  463  1  0   0   0   0   0    35  177  5   24  0  0  ...\n",
       "634995  0  463  1  0   0   0   0   0    48  126  1   24  0  0  ...\n",
       "634995  0  463  1  0   0   0   0   0    52  188  1   24  0  0  ...\n",
       "634995  0  463  1  1   0   0   1   0    69  172  4   24  0  0  ...\n",
       "634995  0  463  1  0   0   0   0   0    3   157  4   24  0  0  ...\n",
       "634995  0  463  1  1   1   0   1   1    37  126  1   24  0  0  ...\n",
       "634995  0  463  1  0   0   0   0   0    23  103  1   24  0  0  ...\n",
       "634995  0  463  1  3   0   3   3   -3   40  158  4   24  0  0  ...\n",
       "634995  0  463  1  3   0   3   2   -3   54  151  0   24  0  0  ...\n",
       "634995  0  463  1  0   0   0   0   0    29  133  1   24  0  0  ...\n",
       "634995  0  463  1  1   0   1   1   -1   36  137  0   24  0  0  ...\n",
       "634995  0  463  1  0   0   0   0   0    11  106  0   24  0  0  ...\n",
       "634995  0  463  1  0   0   0   0   0    62  149  1   24  0  0  ...\n",
       "634995  0  463  1  77  46  31  74  15   31  135  19  24  0  0  ...\n",
       "634995  0  463  1  6   0   1   6   -1   54  64   1   24  0  0  ...\n",
       "634995  0  463  1  0   0   0   0   0    69  111  4   24  0  0  ...\n",
       "634995  0  463  1  0   0   0   0   0    71  156  0   24  0  0  ...\n",
       "634995  0  463  1  0   0   0   0   0    61  199  0   24  0  0  ...\n",
       "634995  0  463  1  4   4   0   4   4    13  300  0   24  0  0  ...\n",
       "634995  0  463  1  29  3   11  25  -8   49  96   0   24  0  0  ...\n",
       "634995  0  463  1  3   1   2   3   -1   35  67   0   24  0  0  ...\n",
       "634995  0  463  1  2   2   0   2   2    11  0    0   24  0  0  ...\n",
       "634995  0  463  1  2   0   2   2   -2   37  168  0   24  0  0  ...\n",
       "634995  0  463  1  0   0   0   0   0    0   84   0   24  0  0  ...\n",
       "634995  0  463  1  2   2   0   2   2    11  116  4   24  0  0  ...\n",
       "634995  0  463  1  0   0   0   0   0    43  64   0   24  0  0  ...\n",
       "634995  0  463  1  2   2   0   2   2    18  133  4   24  0  0  ...\n",
       "634995  0  463  1  0   0   0   0   0    64  186  3   24  0  0  ...\n",
       "634995  0  463  1  0   0   0   0   0    51  205  0   24  0  0  ...\n",
       "634995  0  463  1  0   0   0   0   0    67  210  28  24  0  0  ...\n",
       "634995  0  463  1  8   8   0   8   8    12  114  13  24  0  0  ...\n",
       "..."
      ]
     },
     "execution_count": 17,
     "metadata": {},
     "output_type": "execute_result"
    }
   ],
   "source": [
    "mat"
   ]
  },
  {
   "cell_type": "markdown",
   "metadata": {},
   "source": [
    "# Подготовка признаков"
   ]
  },
  {
   "cell_type": "code",
   "execution_count": 18,
   "metadata": {},
   "outputs": [
    {
     "data": {
      "text/plain": [
       "\u001b[36mmatd\u001b[39m: \u001b[32mDenseMatrix\u001b[39m[\u001b[32mDouble\u001b[39m] = 634995.0  0.0  463.0  1.0  0.0   0.0   0.0   0.0   0.0    65.0  ... (28 total)\n",
       "634995.0  0.0  463.0  1.0  0.0   0.0   0.0   0.0   0.0    10.0  ...\n",
       "634995.0  0.0  463.0  1.0  0.0   0.0   0.0   0.0   0.0    14.0  ...\n",
       "634995.0  0.0  463.0  1.0  7.0   0.0   3.0   7.0   -3.0   62.0  ...\n",
       "634995.0  0.0  463.0  1.0  1.0   0.0   0.0   1.0   0.0    58.0  ...\n",
       "634995.0  0.0  463.0  1.0  0.0   0.0   0.0   0.0   0.0    60.0  ...\n",
       "634995.0  0.0  463.0  1.0  0.0   0.0   0.0   0.0   0.0    68.0  ...\n",
       "634995.0  0.0  463.0  1.0  1.0   0.0   1.0   1.0   -1.0   32.0  ...\n",
       "634995.0  0.0  463.0  1.0  0.0   0.0   0.0   0.0   0.0    35.0  ...\n",
       "634995.0  0.0  463.0  1.0  0.0   0.0   0.0   0.0   0.0    48.0  ...\n",
       "634995.0  0.0  463.0  1.0  0.0   0.0   0.0   0.0   0.0    52.0  ...\n",
       "634995.0  0.0  463.0  1.0  1.0   0.0   0.0   1.0   0.0    69.0  ...\n",
       "634995.0  0.0  463.0  1.0  0.0   0.0   0.0   0.0   0.0    3.0   ...\n",
       "634995.0  0.0  463.0  1.0  1.0   1.0   0.0   1.0   1.0    37.0  ...\n",
       "634995.0  0.0  463.0  1.0  0.0   0.0   0.0   0.0   0.0    23.0  ...\n",
       "634995.0  0.0  463.0  1.0  3.0   0.0   3.0   3.0   -3.0   40.0  ...\n",
       "634995.0  0.0  463.0  1.0  3.0   0.0   3.0   2.0   -3.0   54.0  ...\n",
       "634995.0  0.0  463.0  1.0  0.0   0.0   0.0   0.0   0.0    29.0  ...\n",
       "634995.0  0.0  463.0  1.0  1.0   0.0   1.0   1.0   -1.0   36.0  ...\n",
       "634995.0  0.0  463.0  1.0  0.0   0.0   0.0   0.0   0.0    11.0  ...\n",
       "634995.0  0.0  463.0  1.0  0.0   0.0   0.0   0.0   0.0    62.0  ...\n",
       "634995.0  0.0  463.0  1.0  77.0  46.0  31.0  74.0  15.0   31.0  ...\n",
       "634995.0  0.0  463.0  1.0  6.0   0.0   1.0   6.0   -1.0   54.0  ...\n",
       "634995.0  0.0  463.0  1.0  0.0   0.0   0.0   0.0   0.0    69.0  ...\n",
       "634995.0  0.0  463.0  1.0  0.0   0.0   0.0   0.0   0.0    71.0  ...\n",
       "634995.0  0.0  463.0  1.0  0.0   0.0   0.0   0.0   0.0    61.0  ...\n",
       "634995.0  0.0  463.0  1.0  4.0   4.0   0.0   4.0   4.0    13.0  ...\n",
       "634995.0  0.0  463.0  1.0  29.0  3.0   11.0  25.0  -8.0   49.0  ...\n",
       "634995.0  0.0  463.0  1.0  3.0   1.0   2.0   3.0   -1.0   35.0  ...\n",
       "634995.0  0.0  463.0  1.0  2.0   2.0   0.0   2.0   2.0    11.0  ...\n",
       "634995.0  0.0  463.0  1.0  2.0   0.0   2.0   2.0   -2.0   37.0  ...\n",
       "634995.0  0.0  463.0  1.0  0.0   0.0   0.0   0.0   0.0    0.0   ...\n",
       "634995.0  0.0  463.0  1.0  2.0   2.0   0.0   2.0   2.0    11.0  ...\n",
       "634995.0  0.0  463.0  1.0  0.0   0.0   0.0   0.0   0.0    43.0  ...\n",
       "634995.0  0.0  463.0  1.0  2.0   2.0   0.0   2.0   2.0    18.0  ...\n",
       "634995.0  0.0  463.0  1.0  0.0   0.0   0.0   0.0   0.0    64.0  ...\n",
       "634995.0  0.0  463.0  1.0  0.0   0.0   0.0   0.0   0.0    51.0  ...\n",
       "634995.0  0.0  463.0  1.0  0.0   0.0   0.0   0.0   0.0    67.0  ...\n",
       "634995.0  0.0  463.0  1.0  8.0   8.0   0.0   8.0   8.0    12.0  ...\n",
       "..."
      ]
     },
     "execution_count": 18,
     "metadata": {},
     "output_type": "execute_result"
    }
   ],
   "source": [
    "val matd=breeze.linalg.convert(mat, Double)"
   ]
  },
  {
   "cell_type": "code",
   "execution_count": 23,
   "metadata": {},
   "outputs": [
    {
     "data": {
      "text/plain": [
       "\u001b[36moutputs\u001b[39m: \u001b[32mDenseVector\u001b[39m[\u001b[32mDouble\u001b[39m] = DenseVector(0.0, 0.0, 0.0, 0.0, 0.0, 0.0, 0.0, 0.0, 0.0, 0.0, 0.0, 0.0, 3.0, 0.0, 0.0, 0.0, 0.0, 0.0, 0.0, 0.0, 0.0, 5.0, 0.0, 0.0, 0.0, 0.0, 2.0, 0.0, 0.0, 0.0, 0.0, 15.0, 0.0, 0.0, 0.0, 0.0, 0.0, 0.0, 2.0, 0.0, 0.0, 0.0, 0.0, 0.0, 0.0, 0.0, 2.0, 0.0, 0.0, 0.0, 0.0, 0.0, 0.0, 0.0, 0.0, 0.0, 0.0, 2.0, 1.0, 0.0, 0.0, 3.0, 0.0, 1.0, 0.0, 0.0, 3.0, 1.0, 1.0, 0.0, 0.0, 0.0, 0.0, 0.0, 0.0, 0.0, 0.0, 2.0, 2.0, 0.0, 0.0, 0.0, 0.0, 0.0, 0.0, 0.0, 0.0, 0.0, 0.0, 0.0, 0.0, 0.0, 1.0, 2.0, 0.0, 0.0, 0.0, 1.0, 0.0, 0.0, 1.0, 0.0, 3.0, 0.0, 0.0, 0.0, 1.0, 0.0, 1.0, 9.0, 0.0, 0.0, 0.0, 0.0, 0.0, 0.0, 2.0, 0.0, 0.0, 0.0, 3.0, 0.0, 342.0, 0.0, 0.0, 0.0, 0.0, 1.0, 0.0, 0.0, 0.0, 0.0, 0.0, 0.0, 35.0, 92.0, 51.0, 119.0, 2.0, 7.0, 71.0, 14.0, 8.0, 30.0, 2.0, 3.0, 4.0, 10.0, 7.0, 409.0, 28.0, 372.0, 23.0, 102.0, 26.0, 431.0, 4.0, 1.0, 6.0, 145.0, 7.0, 4.0, 90.0, 760.0, 57.0, 501.0, 6.0, 15.0, 56.0, 31.0, 642.0, 43.0, 320.0, 55.0, 7.0, 128.0, 233.0, 20.0, 53.0, 53.0, 280.0, 200.0, 94.0, 11.0, 161.0, 58.0, 3.0, 8.0, 187.0, 1.0, 4.0, 17.0, 2.0, 0.0, 206.0, 173.0, 34.0, 189.0, 3.0, 91.0, 1.0, 105.0, 49.0, 64.0, 3.0, 2.0, 2.0, 48.0, 25.0, 18.0, 13.0, 156.0, 0.0, 0.0, 2.0, 0.0, 3.0, 35.0, 0.0, 6.0, 0.0, 0.0, 0.0, 1.0, 0.0, 27.0, 0.0, 8.0, 1.0, 2.0, 4.0, 21.0, 1.0, 0.0, 0.0, 1.0, 0.0, 2.0, 0.0, 0.0, 0.0, 12.0, 3.0, 9.0, 0.0, 0.0, 0.0, 4.0, 8.0, 2.0, 2.0, 0.0, 1.0, 0.0, 0.0, 0.0, 0.0, 3.0, 1.0, 0.0, 0.0, 0.0, 0.0, 2.0, 44.0, 0.0, 0.0, 0.0, 23.0, 1.0, 0.0, 0.0, 1.0, 1.0, 14.0, 2.0, 1.0, 0.0, 0.0, 85.0, 1.0, 0.0, 0.0, 0.0, 174.0, 223.0, 2.0, 0.0, 0.0, 2.0, 0.0, 0.0, 18.0, 111.0, 0.0, 2.0, 380.0, 8.0, 3.0, 0.0, 253.0, 0.0, 4.0, 4.0, 5.0, 0.0, 0.0, 2.0, 0.0, 0.0, 8.0, 0.0, 1.0, 0.0, 0.0, 0.0, 3.0, 4.0, 0.0, 1.0, 107.0, 380.0, 0.0, 0.0, 0.0, 21.0, 0.0, 756.0, 2.0, 0.0, 2.0, 2.0, 39.0, 0.0, 0.0, 9.0, 323.0, 4.0, 0.0, 1.0, 0.0, 0.0, 0.0, 0.0, 0.0, 0.0, 0.0, 0.0, 4.0, 278.0, 21.0, 16.0, 3.0, 0.0, 19.0, 0.0, 4.0, 96.0, 5.0, 2.0, 64.0, 4.0, 5.0, 57.0, 10.0, 4.0, 17.0, 9.0, 1.0, 3.0, 7.0, 66.0, 0.0, 0.0, 7.0, 10.0, 2.0, 4.0, 1.0, 30.0, 6.0, 1.0, 3.0, 8.0, 4.0, 1.0, 0.0, 2.0, 2.0, 0.0, 0.0, 2.0, 5.0, 2.0, 0.0, 2.0, 13.0, 48.0, 14.0, 10.0, 20.0, 2.0, 9.0, 56.0, 3.0, 7.0, 3.0, 4.0, 10.0, 40.0, 1.0, 4.0, 0.0, 4.0, 1.0, 35.0, 3.0, 7.0, 2.0, 2.0, 45.0, 3.0, 0.0, 16.0, 0.0, 1.0, 1.0, 17.0, 0.0, 1.0, 0.0, 0.0, 0.0, 0.0, 0.0, 0.0, 79.0, 3.0, 1.0, 4.0, 1.0, 5.0, 0.0, 5.0, 4.0, 0.0, 18.0, 4.0, 8.0, 2.0, 2.0, 21.0, 4.0, 1.0, 2.0, 0.0, 22.0, 1.0, 5.0, 6.0, 23.0, 3.0, 18.0, 25.0, 11.0, 10.0, 0.0, 6.0, 7.0, 36.0, 53.0, 23.0, 6.0, 16.0, 7.0, 5.0, 10.0, 22.0, 22.0, 1.0, 12.0, 0.0, 2.0, 52.0, 1.0, 28.0, 24.0, 61.0, 19.0, 3.0, 30.0, 55.0, 48.0, 193.0, 1.0, 5.0, 14.0, 36.0, 13.0, 58.0, 21.0, 34.0, 2.0, 93.0, 2.0, 3.0, 8.0, 2.0, 10.0, 0.0, 0.0, 92.0, 67.0, 23.0, 23.0, 0.0, 14.0, 14.0, 16.0, 0.0, 3.0, 0.0, 63.0, 5.0, 14.0, 2.0, 7.0, 189.0, 25.0, 74.0, 3.0, 2.0, 3.0, 5.0, 9.0, 35.0, 1.0, 1.0, 0.0, 2.0, 1.0, 1.0, 38.0, 3.0, 3.0, 9.0, 4.0, 1.0, 2.0, 5.0, 12.0, 10.0, 2.0, 4.0, 98.0, 17.0, 25.0, 0.0, 1.0, 1.0, 1.0, 1.0, 13.0, 0.0, 0.0, 20.0, 2.0, 1.0, 0.0, 9.0, 0.0, 4.0, 19.0, 5.0, 6.0, 0.0, 0.0, 2.0, 1.0, 1.0, 2.0, 0.0, 0.0, 0.0,..."
      ]
     },
     "execution_count": 23,
     "metadata": {},
     "output_type": "execute_result"
    }
   ],
   "source": [
    "val outputs=matd(::,27)"
   ]
  },
  {
   "cell_type": "code",
   "execution_count": 24,
   "metadata": {},
   "outputs": [
    {
     "data": {
      "text/plain": [
       "\u001b[36mdata\u001b[39m: \u001b[32mDenseMatrix\u001b[39m[\u001b[32mDouble\u001b[39m] = 634995.0  0.0  463.0  1.0  0.0   0.0   0.0   0.0   0.0    65.0  ... (27 total)\n",
       "634995.0  0.0  463.0  1.0  0.0   0.0   0.0   0.0   0.0    10.0  ...\n",
       "634995.0  0.0  463.0  1.0  0.0   0.0   0.0   0.0   0.0    14.0  ...\n",
       "634995.0  0.0  463.0  1.0  7.0   0.0   3.0   7.0   -3.0   62.0  ...\n",
       "634995.0  0.0  463.0  1.0  1.0   0.0   0.0   1.0   0.0    58.0  ...\n",
       "634995.0  0.0  463.0  1.0  0.0   0.0   0.0   0.0   0.0    60.0  ...\n",
       "634995.0  0.0  463.0  1.0  0.0   0.0   0.0   0.0   0.0    68.0  ...\n",
       "634995.0  0.0  463.0  1.0  1.0   0.0   1.0   1.0   -1.0   32.0  ...\n",
       "634995.0  0.0  463.0  1.0  0.0   0.0   0.0   0.0   0.0    35.0  ...\n",
       "634995.0  0.0  463.0  1.0  0.0   0.0   0.0   0.0   0.0    48.0  ...\n",
       "634995.0  0.0  463.0  1.0  0.0   0.0   0.0   0.0   0.0    52.0  ...\n",
       "634995.0  0.0  463.0  1.0  1.0   0.0   0.0   1.0   0.0    69.0  ...\n",
       "634995.0  0.0  463.0  1.0  0.0   0.0   0.0   0.0   0.0    3.0   ...\n",
       "634995.0  0.0  463.0  1.0  1.0   1.0   0.0   1.0   1.0    37.0  ...\n",
       "634995.0  0.0  463.0  1.0  0.0   0.0   0.0   0.0   0.0    23.0  ...\n",
       "634995.0  0.0  463.0  1.0  3.0   0.0   3.0   3.0   -3.0   40.0  ...\n",
       "634995.0  0.0  463.0  1.0  3.0   0.0   3.0   2.0   -3.0   54.0  ...\n",
       "634995.0  0.0  463.0  1.0  0.0   0.0   0.0   0.0   0.0    29.0  ...\n",
       "634995.0  0.0  463.0  1.0  1.0   0.0   1.0   1.0   -1.0   36.0  ...\n",
       "634995.0  0.0  463.0  1.0  0.0   0.0   0.0   0.0   0.0    11.0  ...\n",
       "634995.0  0.0  463.0  1.0  0.0   0.0   0.0   0.0   0.0    62.0  ...\n",
       "634995.0  0.0  463.0  1.0  77.0  46.0  31.0  74.0  15.0   31.0  ...\n",
       "634995.0  0.0  463.0  1.0  6.0   0.0   1.0   6.0   -1.0   54.0  ...\n",
       "634995.0  0.0  463.0  1.0  0.0   0.0   0.0   0.0   0.0    69.0  ...\n",
       "634995.0  0.0  463.0  1.0  0.0   0.0   0.0   0.0   0.0    71.0  ...\n",
       "634995.0  0.0  463.0  1.0  0.0   0.0   0.0   0.0   0.0    61.0  ...\n",
       "634995.0  0.0  463.0  1.0  4.0   4.0   0.0   4.0   4.0    13.0  ...\n",
       "634995.0  0.0  463.0  1.0  29.0  3.0   11.0  25.0  -8.0   49.0  ...\n",
       "634995.0  0.0  463.0  1.0  3.0   1.0   2.0   3.0   -1.0   35.0  ...\n",
       "634995.0  0.0  463.0  1.0  2.0   2.0   0.0   2.0   2.0    11.0  ...\n",
       "634995.0  0.0  463.0  1.0  2.0   0.0   2.0   2.0   -2.0   37.0  ...\n",
       "634995.0  0.0  463.0  1.0  0.0   0.0   0.0   0.0   0.0    0.0   ...\n",
       "634995.0  0.0  463.0  1.0  2.0   2.0   0.0   2.0   2.0    11.0  ...\n",
       "634995.0  0.0  463.0  1.0  0.0   0.0   0.0   0.0   0.0    43.0  ...\n",
       "634995.0  0.0  463.0  1.0  2.0   2.0   0.0   2.0   2.0    18.0  ...\n",
       "634995.0  0.0  463.0  1.0  0.0   0.0   0.0   0.0   0.0    64.0  ...\n",
       "634995.0  0.0  463.0  1.0  0.0   0.0   0.0   0.0   0.0    51.0  ...\n",
       "634995.0  0.0  463.0  1.0  0.0   0.0   0.0   0.0   0.0    67.0  ...\n",
       "634995.0  0.0  463.0  1.0  8.0   8.0   0.0   8.0   8.0    12.0  ...\n",
       "..."
      ]
     },
     "execution_count": 24,
     "metadata": {},
     "output_type": "execute_result"
    }
   ],
   "source": [
    "val data=matd(::,0 to 26)"
   ]
  },
  {
   "cell_type": "code",
   "execution_count": 89,
   "metadata": {},
   "outputs": [
    {
     "data": {
      "text/plain": [
       "\u001b[36mmvals\u001b[39m: \u001b[32mTranspose\u001b[39m[\u001b[32mDenseVector\u001b[39m[\u001b[32mDouble\u001b[39m]] = \u001b[33mTranspose\u001b[39m(\n",
       "  inner = DenseVector(1313813.7475396227, 4676.133751739932, 44800.24376663651, 24.238662726806666, 55.712032039854364, 22.186646804561587, 19.64953967129848, 52.631590515030936, 2.536960609538678, 35.32203472612261, 163.65247014579123, 117.12146816772118, 23.767833158318854, 0.12234731006862196, 0.12036923978607494, 0.14974724657500693, 0.15748858335978969, 0.12549757014823368, 0.14615741532149895, 0.1369264206696141, 0.1416396004786438, 0.08439766538865452, 0.13763461867200558, 0.14859947739871524, 0.15084617450975712, 0.14388629758968483, 0.14488754304134405)\n",
       ")"
      ]
     },
     "execution_count": 89,
     "metadata": {},
     "output_type": "execute_result"
    }
   ],
   "source": [
    "val mvals=breeze.stats.mean(data(::,*))"
   ]
  },
  {
   "cell_type": "code",
   "execution_count": 90,
   "metadata": {},
   "outputs": [
    {
     "data": {
      "text/plain": [
       "\u001b[36msvals\u001b[39m: \u001b[32mTranspose\u001b[39m[\u001b[32mDenseVector\u001b[39m[\u001b[32mDouble\u001b[39m]] = \u001b[33mTranspose\u001b[39m(\n",
       "  inner = DenseVector(6785751.74784735, 20593.184863050174, 110933.80077100082, 19.95744994414867, 136.97888741476675, 77.12426279172584, 71.07861335688017, 128.1799197535962, 94.20297361088377, 20.916863962096603, 376.2643865983319, 945.0224135766251, 1.9198288062251618, 0.32769050657584886, 0.32539679105629726, 0.35682785499601277, 0.3642652465210098, 0.3312862964463732, 0.3532682733054544, 0.34377385303781793, 0.3486843746618664, 0.2779866662410545, 0.3445202882295503, 0.35569757158449067, 0.3579032471191856, 0.3509786877221571, 0.3519917166397198)\n",
       ")"
      ]
     },
     "execution_count": 90,
     "metadata": {},
     "output_type": "execute_result"
    }
   ],
   "source": [
    "val svals=breeze.stats.stddev(data(::,*))"
   ]
  },
  {
   "cell_type": "code",
   "execution_count": 98,
   "metadata": {},
   "outputs": [
    {
     "data": {
      "text/plain": [
       "\u001b[36mdata_norm\u001b[39m: \u001b[32mDenseMatrix\u001b[39m[\u001b[32mDouble\u001b[39m] = -0.1000358947341339  -0.22707190669327695  -0.39967298928269207  ... (27 total)\n",
       "-0.1000358947341339  -0.22707190669327695  -0.39967298928269207  ...\n",
       "-0.1000358947341339  -0.22707190669327695  -0.39967298928269207  ...\n",
       "-0.1000358947341339  -0.22707190669327695  -0.39967298928269207  ...\n",
       "-0.1000358947341339  -0.22707190669327695  -0.39967298928269207  ...\n",
       "-0.1000358947341339  -0.22707190669327695  -0.39967298928269207  ...\n",
       "-0.1000358947341339  -0.22707190669327695  -0.39967298928269207  ...\n",
       "-0.1000358947341339  -0.22707190669327695  -0.39967298928269207  ...\n",
       "-0.1000358947341339  -0.22707190669327695  -0.39967298928269207  ...\n",
       "-0.1000358947341339  -0.22707190669327695  -0.39967298928269207  ...\n",
       "-0.1000358947341339  -0.22707190669327695  -0.39967298928269207  ...\n",
       "-0.1000358947341339  -0.22707190669327695  -0.39967298928269207  ...\n",
       "-0.1000358947341339  -0.22707190669327695  -0.39967298928269207  ...\n",
       "-0.1000358947341339  -0.22707190669327695  -0.39967298928269207  ...\n",
       "-0.1000358947341339  -0.22707190669327695  -0.39967298928269207  ...\n",
       "-0.1000358947341339  -0.22707190669327695  -0.39967298928269207  ...\n",
       "-0.1000358947341339  -0.22707190669327695  -0.39967298928269207  ...\n",
       "-0.1000358947341339  -0.22707190669327695  -0.39967298928269207  ...\n",
       "-0.1000358947341339  -0.22707190669327695  -0.39967298928269207  ...\n",
       "-0.1000358947341339  -0.22707190669327695  -0.39967298928269207  ...\n",
       "-0.1000358947341339  -0.22707190669327695  -0.39967298928269207  ...\n",
       "-0.1000358947341339  -0.22707190669327695  -0.39967298928269207  ...\n",
       "-0.1000358947341339  -0.22707190669327695  -0.39967298928269207  ...\n",
       "-0.1000358947341339  -0.22707190669327695  -0.39967298928269207  ...\n",
       "-0.1000358947341339  -0.22707190669327695  -0.39967298928269207  ...\n",
       "-0.1000358947341339  -0.22707190669327695  -0.39967298928269207  ...\n",
       "-0.1000358947341339  -0.22707190669327695  -0.39967298928269207  ...\n",
       "-0.1000358947341339  -0.22707190669327695  -0.39967298928269207  ...\n",
       "-0.1000358947341339  -0.22707190669327695  -0.39967298928269207  ...\n",
       "-0.1000358947341339  -0.22707190669327695  -0.39967298928269207  ...\n",
       "-0.1000358947341339  -0.22707190669327695  -0.39967298928269207  ...\n",
       "-0.1000358947341339  -0.22707190669327695  -0.39967298928269207  ...\n",
       "-0.1000358947341339  -0.22707190669327695  -0.39967298928269207  ...\n",
       "-0.1000358947341339  -0.22707190669327695  -0.39967298928269207  ...\n",
       "-0.1000358947341339  -0.22707190669327695  -0.39967298928269207  ...\n",
       "-0.1000358947341339  -0.22707190669327695  -0.39967298928269207  ...\n",
       "-0.1000358947341339  -0.22707190669327695  -0.39967298928269207  ...\n",
       "-0.1000358947341339  -0.22707190669327695  -0.39967298928269207  ...\n",
       "-0.1000358947341339  -0.22707190669327695  -0.39967298928269207  ...\n",
       "..."
      ]
     },
     "execution_count": 98,
     "metadata": {},
     "output_type": "execute_result"
    }
   ],
   "source": [
    "val data_norm=(data-tile(mvals,1,rows))/:/tile(svals,1,rows)"
   ]
  },
  {
   "cell_type": "markdown",
   "metadata": {},
   "source": [
    "# Моделирование"
   ]
  },
  {
   "cell_type": "code",
   "execution_count": 19,
   "metadata": {},
   "outputs": [
    {
     "data": {
      "text/plain": [
       "\u001b[32mimport \u001b[39m\u001b[36mbreeze.stats.regression._\u001b[39m"
      ]
     },
     "execution_count": 19,
     "metadata": {},
     "output_type": "execute_result"
    }
   ],
   "source": [
    "import breeze.stats.regression._"
   ]
  },
  {
   "cell_type": "code",
   "execution_count": 27,
   "metadata": {},
   "outputs": [
    {
     "data": {
      "text/plain": [
       "\u001b[32mimport \u001b[39m\u001b[36mscala.util.Random\u001b[39m"
      ]
     },
     "execution_count": 27,
     "metadata": {},
     "output_type": "execute_result"
    }
   ],
   "source": [
    "import scala.util.Random"
   ]
  },
  {
   "cell_type": "code",
   "execution_count": 28,
   "metadata": {},
   "outputs": [
    {
     "data": {
      "text/plain": [
       "\u001b[36mtrainTestSplitRatio\u001b[39m: \u001b[32mDouble\u001b[39m = \u001b[32m0.7\u001b[39m"
      ]
     },
     "execution_count": 28,
     "metadata": {},
     "output_type": "execute_result"
    }
   ],
   "source": [
    "val trainTestSplitRatio = 0.7"
   ]
  },
  {
   "cell_type": "code",
   "execution_count": 57,
   "metadata": {},
   "outputs": [
    {
     "data": {
      "text/plain": [
       "\u001b[36mindices\u001b[39m: \u001b[32mArray\u001b[39m[\u001b[32mInt\u001b[39m] = \u001b[33mArray\u001b[39m(\n",
       "  \u001b[32m0\u001b[39m,\n",
       "  \u001b[32m1\u001b[39m,\n",
       "  \u001b[32m2\u001b[39m,\n",
       "  \u001b[32m3\u001b[39m,\n",
       "  \u001b[32m4\u001b[39m,\n",
       "  \u001b[32m5\u001b[39m,\n",
       "  \u001b[32m6\u001b[39m,\n",
       "  \u001b[32m7\u001b[39m,\n",
       "  \u001b[32m8\u001b[39m,\n",
       "  \u001b[32m9\u001b[39m,\n",
       "  \u001b[32m10\u001b[39m,\n",
       "  \u001b[32m11\u001b[39m,\n",
       "  \u001b[32m12\u001b[39m,\n",
       "  \u001b[32m13\u001b[39m,\n",
       "  \u001b[32m14\u001b[39m,\n",
       "  \u001b[32m15\u001b[39m,\n",
       "  \u001b[32m16\u001b[39m,\n",
       "  \u001b[32m17\u001b[39m,\n",
       "  \u001b[32m18\u001b[39m,\n",
       "  \u001b[32m19\u001b[39m,\n",
       "  \u001b[32m20\u001b[39m,\n",
       "  \u001b[32m21\u001b[39m,\n",
       "  \u001b[32m22\u001b[39m,\n",
       "  \u001b[32m23\u001b[39m,\n",
       "  \u001b[32m24\u001b[39m,\n",
       "  \u001b[32m25\u001b[39m,\n",
       "  \u001b[32m26\u001b[39m,\n",
       "  \u001b[32m27\u001b[39m,\n",
       "  \u001b[32m28\u001b[39m,\n",
       "  \u001b[32m29\u001b[39m,\n",
       "  \u001b[32m30\u001b[39m,\n",
       "  \u001b[32m31\u001b[39m,\n",
       "  \u001b[32m32\u001b[39m,\n",
       "  \u001b[32m33\u001b[39m,\n",
       "  \u001b[32m34\u001b[39m,\n",
       "  \u001b[32m35\u001b[39m,\n",
       "  \u001b[32m36\u001b[39m,\n",
       "  \u001b[32m37\u001b[39m,\n",
       "..."
      ]
     },
     "execution_count": 57,
     "metadata": {},
     "output_type": "execute_result"
    }
   ],
   "source": [
    "val indices = (0 to (rows-1)).toArray"
   ]
  },
  {
   "cell_type": "code",
   "execution_count": 58,
   "metadata": {},
   "outputs": [
    {
     "data": {
      "text/plain": [
       "\u001b[36mres57\u001b[39m: \u001b[32mInt\u001b[39m = \u001b[32m40949\u001b[39m"
      ]
     },
     "execution_count": 58,
     "metadata": {},
     "output_type": "execute_result"
    }
   ],
   "source": [
    "indices.size"
   ]
  },
  {
   "cell_type": "code",
   "execution_count": 54,
   "metadata": {},
   "outputs": [
    {
     "data": {
      "text/plain": [
       "\u001b[36mtrain\u001b[39m: \u001b[32mcollection\u001b[39m.\u001b[32mmutable\u001b[39m.\u001b[32mArraySeq\u001b[39m[\u001b[32mInt\u001b[39m] = \u001b[33mArraySeq\u001b[39m(\n",
       "  \u001b[32m14229\u001b[39m,\n",
       "  \u001b[32m18119\u001b[39m,\n",
       "  \u001b[32m30974\u001b[39m,\n",
       "  \u001b[32m6154\u001b[39m,\n",
       "  \u001b[32m18415\u001b[39m,\n",
       "  \u001b[32m40921\u001b[39m,\n",
       "  \u001b[32m30170\u001b[39m,\n",
       "  \u001b[32m35841\u001b[39m,\n",
       "  \u001b[32m14108\u001b[39m,\n",
       "  \u001b[32m10238\u001b[39m,\n",
       "  \u001b[32m8808\u001b[39m,\n",
       "  \u001b[32m12908\u001b[39m,\n",
       "  \u001b[32m1028\u001b[39m,\n",
       "  \u001b[32m39041\u001b[39m,\n",
       "  \u001b[32m13887\u001b[39m,\n",
       "  \u001b[32m18099\u001b[39m,\n",
       "  \u001b[32m11887\u001b[39m,\n",
       "  \u001b[32m29944\u001b[39m,\n",
       "  \u001b[32m17044\u001b[39m,\n",
       "  \u001b[32m16770\u001b[39m,\n",
       "  \u001b[32m16862\u001b[39m,\n",
       "  \u001b[32m12440\u001b[39m,\n",
       "  \u001b[32m32008\u001b[39m,\n",
       "  \u001b[32m20796\u001b[39m,\n",
       "  \u001b[32m38369\u001b[39m,\n",
       "  \u001b[32m12772\u001b[39m,\n",
       "  \u001b[32m33636\u001b[39m,\n",
       "  \u001b[32m18924\u001b[39m,\n",
       "  \u001b[32m35764\u001b[39m,\n",
       "  \u001b[32m5549\u001b[39m,\n",
       "  \u001b[32m24120\u001b[39m,\n",
       "  \u001b[32m36125\u001b[39m,\n",
       "  \u001b[32m7989\u001b[39m,\n",
       "  \u001b[32m23510\u001b[39m,\n",
       "  \u001b[32m19316\u001b[39m,\n",
       "  \u001b[32m26021\u001b[39m,\n",
       "  \u001b[32m16200\u001b[39m,\n",
       "  \u001b[32m10740\u001b[39m,\n",
       "...\n",
       "\u001b[36mtest\u001b[39m: \u001b[32mcollection\u001b[39m.\u001b[32mmutable\u001b[39m.\u001b[32mArraySeq\u001b[39m[\u001b[32mInt\u001b[39m] = \u001b[33mArraySeq\u001b[39m(\n",
       "  \u001b[32m17153\u001b[39m,\n",
       "  \u001b[32m9945\u001b[39m,\n",
       "  \u001b[32m19163\u001b[39m,\n",
       "  \u001b[32m32780\u001b[39m,\n",
       "  \u001b[32m33500\u001b[39m,\n",
       "  \u001b[32m32347\u001b[39m,\n",
       "  \u001b[32m16868\u001b[39m,\n",
       "  \u001b[32m4542\u001b[39m,\n",
       "  \u001b[32m18544\u001b[39m,\n",
       "  \u001b[32m8790\u001b[39m,\n",
       "  \u001b[32m298\u001b[39m,\n",
       "  \u001b[32m25654\u001b[39m,\n",
       "  \u001b[32m20912\u001b[39m,\n",
       "  \u001b[32m33612\u001b[39m,\n",
       "  \u001b[32m31918\u001b[39m,\n",
       "  \u001b[32m34288\u001b[39m,\n",
       "  \u001b[32m10437\u001b[39m,\n",
       "  \u001b[32m33518\u001b[39m,\n",
       "  \u001b[32m28299\u001b[39m,\n",
       "  \u001b[32m21892\u001b[39m,\n",
       "  \u001b[32m12994\u001b[39m,\n",
       "  \u001b[32m1321\u001b[39m,\n",
       "  \u001b[32m23595\u001b[39m,\n",
       "  \u001b[32m25642\u001b[39m,\n",
       "  \u001b[32m20375\u001b[39m,\n",
       "  \u001b[32m8614\u001b[39m,\n",
       "  \u001b[32m19218\u001b[39m,\n",
       "  \u001b[32m21672\u001b[39m,\n",
       "  \u001b[32m4926\u001b[39m,\n",
       "  \u001b[32m6110\u001b[39m,\n",
       "  \u001b[32m22060\u001b[39m,\n",
       "  \u001b[32m37813\u001b[39m,\n",
       "  \u001b[32m2573\u001b[39m,\n",
       "  \u001b[32m29799\u001b[39m,\n",
       "  \u001b[32m6404\u001b[39m,\n",
       "  \u001b[32m7063\u001b[39m,\n",
       "  \u001b[32m7850\u001b[39m,\n",
       "  \u001b[32m24883\u001b[39m,\n",
       "..."
      ]
     },
     "execution_count": 54,
     "metadata": {},
     "output_type": "execute_result"
    }
   ],
   "source": [
    "val (train, test) = Random.shuffle(indices).splitAt((trainTestSplitRatio*indices.size).toInt)"
   ]
  },
  {
   "cell_type": "code",
   "execution_count": 55,
   "metadata": {},
   "outputs": [
    {
     "data": {
      "text/plain": [
       "\u001b[36mres54\u001b[39m: \u001b[32mInt\u001b[39m = \u001b[32m28664\u001b[39m"
      ]
     },
     "execution_count": 55,
     "metadata": {},
     "output_type": "execute_result"
    }
   ],
   "source": [
    "train.size"
   ]
  },
  {
   "cell_type": "code",
   "execution_count": 56,
   "metadata": {},
   "outputs": [
    {
     "data": {
      "text/plain": [
       "\u001b[36mres55\u001b[39m: \u001b[32mInt\u001b[39m = \u001b[32m12285\u001b[39m"
      ]
     },
     "execution_count": 56,
     "metadata": {},
     "output_type": "execute_result"
    }
   ],
   "source": [
    "test.size"
   ]
  },
  {
   "cell_type": "code",
   "execution_count": 99,
   "metadata": {
    "scrolled": true
   },
   "outputs": [
    {
     "data": {
      "text/plain": [
       "\u001b[36mtrain_data\u001b[39m: \u001b[32mDenseMatrix\u001b[39m[\u001b[32mDouble\u001b[39m] = -0.1898228516756813    -0.22707190669327695  ... (27 total)\n",
       "-0.1897998623289152    -0.22707190669327695  ...\n",
       "-0.1896130002026368    -0.22707190669327695  ...\n",
       "-0.04670061023675862   -0.22707190669327695  ...\n",
       "-0.09896777431515465   -0.22707190669327695  ...\n",
       "-0.1479423039397353    -0.22644062988561203  ...\n",
       "0.0951205225957667     -0.22707190669327695  ...\n",
       "-0.1886019110477504    -0.22707190669327695  ...\n",
       "2.0835996920968465     -0.22707190669327695  ...\n",
       "-0.1796276658553414    -0.22707190669327695  ...\n",
       "-0.17073240970053905   -0.16472118199775654  ...\n",
       "-0.1865588065377161    3.2971037117278286    ...\n",
       "1.8743138159298443     -0.22678054816666238  ...\n",
       "0.10792219928951807    -0.22707190669327695  ...\n",
       "-0.18419856693639547   -0.22707190669327695  ...\n",
       "-0.1897998623289152    -0.22707190669327695  ...\n",
       "0.0782778787374416     0.225213646121425     ...\n",
       "0.9957442452273421     -0.2066282500758205   ...\n",
       "-0.10384431581411199   -0.2270233469388412   ...\n",
       "-0.03775097543479797   -0.22707190669327695  ...\n",
       "-0.19260264685548345   -0.09960255129939757  ...\n",
       "-0.19074507816326025   -0.22707190669327695  ...\n",
       "-0.19193595579926626   -0.22707190669327695  ...\n",
       "-0.18515306693001146   1.5250611528579443    ...\n",
       "-0.19021602845242477   -0.22707190669327695  ...\n",
       "-0.13216895944124926   -0.22707190669327695  ...\n",
       "-0.05126178505571934   -0.22707190669327695  ...\n",
       "-0.190312259500106     -0.22707190669327695  ...\n",
       "-0.1925833416989042    -0.22707190669327695  ...\n",
       "-0.14114202569279846   -0.22707190669327695  ...\n",
       "0.13634381080237393    2.279534057526403     ...\n",
       "-0.09504912226478521   -0.2268776676755339   ...\n",
       "0.4064958983115497     -0.184339322789805    ...\n",
       "-0.19358647300298698   -0.22707190669327695  ...\n",
       "-0.19123419125247      -0.22707190669327695  ...\n",
       "-0.18507864628823656   -0.22707190669327695  ...\n",
       "-0.19314938067921592   -0.22707190669327695  ...\n",
       "-0.12854283209171782   -0.22707190669327695  ...\n",
       "0.0951205225957667     -0.22707190669327695  ...\n",
       "..."
      ]
     },
     "execution_count": 99,
     "metadata": {},
     "output_type": "execute_result"
    }
   ],
   "source": [
    "val train_data=data_norm(train.toVector,::).toDenseMatrix"
   ]
  },
  {
   "cell_type": "code",
   "execution_count": 100,
   "metadata": {},
   "outputs": [
    {
     "data": {
      "text/plain": [
       "\u001b[36mtest_data\u001b[39m: \u001b[32mDenseMatrix\u001b[39m[\u001b[32mDouble\u001b[39m] = 0.14380680118012612    8.801740355057117      ... (27 total)\n",
       "0.6795909169420026     -0.22707190669327695   ...\n",
       "-0.19123419125247      -0.22707190669327695   ...\n",
       "-0.19205296567960145   -0.22707190669327695   ...\n",
       "-0.05126178505571934   -0.22707190669327695   ...\n",
       "-0.17914680535215027   -0.22707190669327695   ...\n",
       "-0.19260264685548345   -0.09960255129939757   ...\n",
       "-0.1782819048638791    -0.22707190669327695   ...\n",
       "-0.18085420645235636   -0.22707190669327695   ...\n",
       "-0.17073240970053905   -0.16472118199775654   ...\n",
       "-0.07592257522581156   -0.22707190669327695   ...\n",
       "-0.19344337905612868   -0.22707190669327695   ...\n",
       "-0.18708314048511238   -0.22707190669327695   ...\n",
       "-0.05126178505571934   -0.22707190669327695   ...\n",
       "-0.12149807098397986   -0.226246390867869     ...\n",
       "-0.15870500241646165   -0.17015987449456205   ...\n",
       "0.8930257807298578     -0.2270233469388412    ...\n",
       "-0.05126178505571934   -0.22707190669327695   ...\n",
       "0.0765592776990674     -0.22707190669327695   ...\n",
       "-0.1628032955803432    -0.22707190669327695   ...\n",
       "-0.19347358941566106   -0.22707190669327695   ...\n",
       "1.1695073069800876     -0.22707190669327695   ...\n",
       "-0.1918019986440714    -0.045264186085778126  ...\n",
       "-0.19344337905612868   -0.22707190669327695   ...\n",
       "-0.18988798815818528   -0.21347517545126315   ...\n",
       "0.11173194667796343    -0.21949658500129784   ...\n",
       "-0.19123419125247      -0.22707190669327695   ...\n",
       "-0.19344352642373616   -0.22707190669327695   ...\n",
       "0.4386537207767209     -0.22653774939448357   ...\n",
       "-0.17259366258294911   -0.22707190669327695   ...\n",
       "-0.062672901005336     -0.2270233469388412    ...\n",
       "-0.18832618625416456   0.25969107177081713    ...\n",
       "0.328743569666846      5.716059319190955      ...\n",
       "-0.06607620853236514   -0.22707190669327695   ...\n",
       "0.20203424814285112    -0.22707190669327695   ...\n",
       "-0.18529115037821559   -0.22707190669327695   ...\n",
       "-0.1699963085012011    -0.22707190669327695   ...\n",
       "-0.03959808102689043   -0.22707190669327695   ...\n",
       "-0.19338546358639097   -0.22707190669327695   ...\n",
       "..."
      ]
     },
     "execution_count": 100,
     "metadata": {},
     "output_type": "execute_result"
    }
   ],
   "source": [
    "val test_data=data_norm(test.toVector,::).toDenseMatrix"
   ]
  },
  {
   "cell_type": "code",
   "execution_count": 101,
   "metadata": {},
   "outputs": [
    {
     "data": {
      "text/plain": [
       "\u001b[36mtrain_outputs\u001b[39m: \u001b[32mDenseVector\u001b[39m[\u001b[32mDouble\u001b[39m] = DenseVector(3.0, 0.0, 0.0, 45.0, 1.0, 2.0, 0.0, 28.0, 13.0, 1.0, 0.0, 0.0, 36.0, 3.0, 1.0, 2.0, 2.0, 0.0, 2.0, 43.0, 1.0, 2.0, 0.0, 0.0, 16.0, 0.0, 0.0, 0.0, 0.0, 3.0, 3.0, 1.0, 2.0, 0.0, 1.0, 2.0, 0.0, 0.0, 0.0, 1.0, 0.0, 9.0, 6.0, 0.0, 0.0, 0.0, 0.0, 14.0, 0.0, 6.0, 0.0, 0.0, 9.0, 1.0, 2.0, 4.0, 1.0, 1.0, 15.0, 1.0, 0.0, 0.0, 0.0, 0.0, 1.0, 0.0, 1.0, 3.0, 0.0, 8.0, 7.0, 0.0, 6.0, 0.0, 1.0, 0.0, 0.0, 2.0, 47.0, 8.0, 1.0, 0.0, 7.0, 171.0, 1.0, 1.0, 1.0, 0.0, 0.0, 49.0, 0.0, 0.0, 0.0, 0.0, 0.0, 0.0, 0.0, 4.0, 28.0, 0.0, 3.0, 3.0, 0.0, 5.0, 0.0, 0.0, 1.0, 7.0, 0.0, 0.0, 11.0, 16.0, 2.0, 0.0, 0.0, 159.0, 0.0, 1.0, 15.0, 2.0, 1.0, 6.0, 0.0, 0.0, 2.0, 0.0, 1.0, 1.0, 1.0, 10.0, 5.0, 0.0, 3.0, 50.0, 0.0, 0.0, 8.0, 0.0, 0.0, 0.0, 1.0, 0.0, 5.0, 0.0, 0.0, 0.0, 0.0, 0.0, 0.0, 0.0, 1.0, 1.0, 0.0, 0.0, 0.0, 11.0, 0.0, 5.0, 0.0, 0.0, 6.0, 0.0, 1.0, 1.0, 1.0, 6.0, 0.0, 0.0, 0.0, 0.0, 0.0, 0.0, 8.0, 2.0, 1.0, 0.0, 1.0, 0.0, 104.0, 0.0, 0.0, 0.0, 14.0, 1.0, 0.0, 1.0, 1.0, 0.0, 2.0, 6.0, 2.0, 0.0, 22.0, 37.0, 0.0, 7.0, 0.0, 1.0, 2.0, 7.0, 0.0, 0.0, 4.0, 1.0, 11.0, 41.0, 0.0, 17.0, 48.0, 5.0, 1.0, 0.0, 0.0, 0.0, 6.0, 1.0, 0.0, 0.0, 0.0, 0.0, 0.0, 0.0, 29.0, 50.0, 5.0, 6.0, 0.0, 0.0, 2.0, 0.0, 2.0, 17.0, 0.0, 1.0, 1.0, 0.0, 5.0, 0.0, 0.0, 4.0, 0.0, 0.0, 1.0, 0.0, 4.0, 0.0, 58.0, 0.0, 0.0, 0.0, 0.0, 1.0, 1.0, 1.0, 2.0, 0.0, 0.0, 1.0, 0.0, 0.0, 0.0, 0.0, 0.0, 0.0, 0.0, 54.0, 1.0, 5.0, 3.0, 0.0, 10.0, 55.0, 0.0, 0.0, 1.0, 2.0, 1.0, 0.0, 33.0, 1.0, 0.0, 60.0, 40.0, 0.0, 0.0, 0.0, 0.0, 4.0, 0.0, 12.0, 1.0, 93.0, 0.0, 6.0, 0.0, 25.0, 0.0, 0.0, 0.0, 0.0, 0.0, 0.0, 1.0, 0.0, 0.0, 0.0, 1.0, 1.0, 1.0, 0.0, 0.0, 0.0, 1.0, 0.0, 12.0, 1.0, 6.0, 0.0, 0.0, 0.0, 0.0, 3.0, 0.0, 0.0, 0.0, 0.0, 22.0, 2.0, 1.0, 0.0, 201.0, 0.0, 0.0, 0.0, 0.0, 368.0, 1.0, 4.0, 0.0, 161.0, 0.0, 5.0, 14.0, 0.0, 0.0, 0.0, 0.0, 2.0, 0.0, 5.0, 3.0, 55.0, 0.0, 5.0, 0.0, 3.0, 1.0, 0.0, 5.0, 0.0, 0.0, 0.0, 1.0, 1.0, 0.0, 0.0, 0.0, 2.0, 7.0, 0.0, 0.0, 0.0, 0.0, 1.0, 0.0, 1.0, 2.0, 0.0, 1.0, 0.0, 1.0, 5.0, 3.0, 0.0, 1.0, 107.0, 0.0, 3.0, 1.0, 12.0, 0.0, 0.0, 3.0, 1.0, 1.0, 4.0, 1.0, 1.0, 0.0, 0.0, 0.0, 0.0, 0.0, 0.0, 1.0, 29.0, 0.0, 4.0, 4.0, 120.0, 0.0, 0.0, 0.0, 4.0, 0.0, 1.0, 0.0, 10.0, 4.0, 4.0, 7.0, 1.0, 0.0, 0.0, 0.0, 1.0, 1.0, 0.0, 0.0, 1.0, 0.0, 0.0, 0.0, 0.0, 1.0, 0.0, 0.0, 0.0, 1.0, 0.0, 10.0, 0.0, 0.0, 0.0, 9.0, 0.0, 0.0, 0.0, 1.0, 2.0, 2.0, 0.0, 2.0, 9.0, 6.0, 2.0, 0.0, 14.0, 31.0, 2.0, 0.0, 0.0, 0.0, 0.0, 0.0, 0.0, 0.0, 2.0, 0.0, 4.0, 0.0, 0.0, 8.0, 0.0, 14.0, 33.0, 0.0, 1.0, 1.0, 10.0, 1.0, 0.0, 0.0, 0.0, 0.0, 0.0, 0.0, 0.0, 0.0, 0.0, 2.0, 74.0, 78.0, 0.0, 2.0, 1.0, 1.0, 5.0, 0.0, 0.0, 0.0, 0.0, 151.0, 6.0, 3.0, 3.0, 0.0, 0.0, 0.0, 94.0, 19.0, 1.0, 0.0, 0.0, 0.0, 10.0, 1.0, 42.0, 0.0, 0.0, 1.0, 0.0, 0.0, 15.0, 0.0, 0.0, 3.0, 4.0, 0.0, 0.0, 2.0, 3.0, 1.0, 22.0, 0.0, 0.0, 0.0, 0.0, 0.0, 2.0, 0.0, 5.0, 2.0, 2.0, 0.0, 0.0, 8.0, 0.0, 0.0, 1.0, 0.0, 2.0, 0.0, 0.0, 2.0, 0.0, 0.0, 0.0, 2.0, 0.0, 0.0, 10.0, 3.0, 0.0, 2.0, 1.0, 0.0, 2.0, 0.0, 0.0, 1.0, 0.0, 3.0, 141.0, 0.0, 12.0, 0.0, 0.0, 4.0, 0.0, 13.0, 0.0, 1.0, 1.0, 0.0, 0.0, 1.0, 0.0, 3.0, 0.0, 0.0, 2.0, 3.0, 0.0, 2.0, 4.0, 5.0, 0.0, 25.0, 0.0, 2.0, 14.0, 2.0, 51.0, 1.0,..."
      ]
     },
     "execution_count": 101,
     "metadata": {},
     "output_type": "execute_result"
    }
   ],
   "source": [
    "val train_outputs=outputs(train.toVector).toDenseVector"
   ]
  },
  {
   "cell_type": "code",
   "execution_count": 102,
   "metadata": {},
   "outputs": [
    {
     "data": {
      "text/plain": [
       "\u001b[36mtest_outputs\u001b[39m: \u001b[32mDenseVector\u001b[39m[\u001b[32mDouble\u001b[39m] = DenseVector(0.0, 5.0, 3.0, 0.0, 0.0, 6.0, 1.0, 0.0, 0.0, 0.0, 3.0, 0.0, 0.0, 0.0, 2.0, 2.0, 9.0, 5.0, 4.0, 0.0, 0.0, 15.0, 0.0, 0.0, 6.0, 1.0, 0.0, 0.0, 21.0, 0.0, 75.0, 0.0, 4.0, 6.0, 328.0, 0.0, 3.0, 0.0, 0.0, 0.0, 0.0, 0.0, 0.0, 2.0, 3.0, 2.0, 0.0, 0.0, 0.0, 0.0, 12.0, 1.0, 0.0, 2.0, 0.0, 0.0, 3.0, 2.0, 0.0, 0.0, 62.0, 0.0, 0.0, 3.0, 1.0, 5.0, 6.0, 1.0, 200.0, 0.0, 0.0, 1.0, 2.0, 0.0, 0.0, 0.0, 0.0, 1.0, 26.0, 1.0, 0.0, 0.0, 0.0, 0.0, 0.0, 0.0, 0.0, 0.0, 0.0, 2.0, 0.0, 0.0, 0.0, 26.0, 1.0, 1.0, 0.0, 0.0, 71.0, 0.0, 0.0, 1.0, 0.0, 1.0, 30.0, 0.0, 0.0, 10.0, 0.0, 2.0, 48.0, 0.0, 0.0, 2.0, 14.0, 9.0, 1.0, 0.0, 0.0, 1.0, 5.0, 0.0, 11.0, 0.0, 0.0, 0.0, 2.0, 2.0, 3.0, 0.0, 1.0, 0.0, 26.0, 1.0, 14.0, 12.0, 5.0, 0.0, 0.0, 0.0, 0.0, 4.0, 0.0, 2.0, 0.0, 4.0, 6.0, 0.0, 1.0, 61.0, 117.0, 0.0, 0.0, 20.0, 0.0, 0.0, 4.0, 0.0, 1.0, 0.0, 1.0, 2.0, 0.0, 1.0, 0.0, 2.0, 40.0, 0.0, 13.0, 3.0, 0.0, 1.0, 0.0, 0.0, 1.0, 0.0, 1.0, 0.0, 0.0, 1.0, 0.0, 0.0, 61.0, 0.0, 0.0, 0.0, 0.0, 6.0, 3.0, 0.0, 0.0, 0.0, 0.0, 1.0, 0.0, 54.0, 1.0, 0.0, 0.0, 0.0, 0.0, 0.0, 21.0, 10.0, 1.0, 11.0, 0.0, 0.0, 4.0, 3.0, 1.0, 53.0, 0.0, 9.0, 2.0, 0.0, 1.0, 0.0, 0.0, 0.0, 17.0, 6.0, 7.0, 1.0, 4.0, 15.0, 0.0, 12.0, 6.0, 2.0, 39.0, 0.0, 4.0, 2.0, 1.0, 2.0, 0.0, 0.0, 0.0, 0.0, 20.0, 0.0, 0.0, 0.0, 0.0, 0.0, 1.0, 0.0, 0.0, 1.0, 0.0, 12.0, 0.0, 3.0, 4.0, 0.0, 3.0, 0.0, 3.0, 0.0, 51.0, 1.0, 0.0, 0.0, 0.0, 49.0, 5.0, 0.0, 58.0, 0.0, 0.0, 0.0, 1.0, 21.0, 0.0, 3.0, 45.0, 0.0, 1.0, 0.0, 34.0, 77.0, 3.0, 0.0, 22.0, 0.0, 0.0, 4.0, 0.0, 0.0, 1.0, 0.0, 0.0, 0.0, 0.0, 0.0, 21.0, 0.0, 0.0, 96.0, 0.0, 3.0, 2.0, 0.0, 4.0, 2.0, 0.0, 0.0, 0.0, 0.0, 2.0, 0.0, 33.0, 0.0, 0.0, 0.0, 0.0, 338.0, 0.0, 20.0, 2.0, 9.0, 1.0, 0.0, 0.0, 0.0, 0.0, 3.0, 0.0, 0.0, 0.0, 0.0, 31.0, 1.0, 0.0, 0.0, 2.0, 0.0, 0.0, 0.0, 0.0, 0.0, 0.0, 0.0, 3.0, 0.0, 0.0, 0.0, 4.0, 0.0, 0.0, 0.0, 1.0, 0.0, 1.0, 0.0, 8.0, 0.0, 0.0, 0.0, 2.0, 0.0, 30.0, 0.0, 1.0, 0.0, 0.0, 1.0, 0.0, 0.0, 0.0, 4.0, 1.0, 1.0, 3.0, 9.0, 0.0, 0.0, 0.0, 0.0, 0.0, 0.0, 26.0, 0.0, 0.0, 0.0, 0.0, 0.0, 0.0, 2.0, 0.0, 0.0, 0.0, 0.0, 4.0, 0.0, 0.0, 0.0, 0.0, 28.0, 10.0, 1.0, 1.0, 0.0, 40.0, 0.0, 0.0, 0.0, 52.0, 0.0, 6.0, 0.0, 5.0, 2.0, 1.0, 52.0, 0.0, 0.0, 89.0, 1.0, 4.0, 0.0, 0.0, 2.0, 27.0, 0.0, 8.0, 2.0, 3.0, 2.0, 0.0, 41.0, 2.0, 0.0, 1.0, 12.0, 3.0, 5.0, 0.0, 0.0, 1.0, 0.0, 1.0, 0.0, 1.0, 0.0, 2.0, 0.0, 5.0, 1.0, 1.0, 0.0, 65.0, 27.0, 2.0, 0.0, 1.0, 0.0, 0.0, 2.0, 1.0, 2.0, 1.0, 0.0, 0.0, 0.0, 0.0, 2.0, 1.0, 0.0, 0.0, 0.0, 0.0, 0.0, 2.0, 0.0, 0.0, 0.0, 42.0, 0.0, 4.0, 0.0, 0.0, 0.0, 62.0, 0.0, 0.0, 0.0, 0.0, 9.0, 0.0, 4.0, 6.0, 0.0, 0.0, 0.0, 0.0, 0.0, 0.0, 0.0, 24.0, 0.0, 16.0, 1.0, 0.0, 0.0, 5.0, 0.0, 1.0, 0.0, 6.0, 33.0, 6.0, 0.0, 0.0, 30.0, 0.0, 14.0, 0.0, 0.0, 1.0, 0.0, 3.0, 3.0, 1.0, 1.0, 0.0, 1.0, 1.0, 0.0, 6.0, 0.0, 5.0, 0.0, 0.0, 0.0, 12.0, 0.0, 0.0, 0.0, 0.0, 0.0, 0.0, 10.0, 3.0, 1.0, 0.0, 0.0, 0.0, 1.0, 0.0, 0.0, 0.0, 0.0, 0.0, 34.0, 0.0, 0.0, 39.0, 0.0, 26.0, 0.0, 0.0, 0.0, 0.0, 1.0, 0.0, 0.0, 0.0, 47.0, 1.0, 1.0, 0.0, 0.0, 4.0, 720.0, 6.0, 32.0, 0.0, 0.0, 0.0, 11.0, 0.0, 1.0, 0.0, 0.0, 13.0, 1.0, 3.0, 0.0, 0.0, 2.0, 0.0, 0.0, 0.0, 0.0, 0.0, 0.0, 1.0, 0.0, 0.0, 0.0, 0.0, 31.0, 14...."
      ]
     },
     "execution_count": 102,
     "metadata": {},
     "output_type": "execute_result"
    }
   ],
   "source": [
    "val test_outputs=outputs(test.toVector).toDenseVector"
   ]
  },
  {
   "cell_type": "code",
   "execution_count": 103,
   "metadata": {},
   "outputs": [
    {
     "data": {
      "text/plain": [
       "\u001b[36mregress\u001b[39m: \u001b[32mLeastSquaresRegressionResult\u001b[39m = \u001b[33mLeastSquaresRegressionResult\u001b[39m(\n",
       "  coefficients = DenseVector(-2.7736264855714765, -0.7300835676242737, 3.558311596473246, -0.49818498842373565, 19.21685092230848, 95.05901307448136, -72.24063107577685, -20.125523708235765, -94.00822925712372, -4.143013723821562, 0.15535438386601705, 4.300443134324279, 0.7561311797554506, -0.4690074140645996, -0.29679907096755903, -0.41986887875645545, -0.2579733298003644, -0.3772056206577789, -0.46288626112277564, -0.49024810621976617, -0.528807712333473, -0.4095489572444171, -0.6485433764370715, -0.5778808414386246, -0.7663161944878939, -0.6010753065367456, -0.5522792570757273),\n",
       "  rSquared = \u001b[32m2.705500758247223E7\u001b[39m\n",
       ")"
      ]
     },
     "execution_count": 103,
     "metadata": {},
     "output_type": "execute_result"
    }
   ],
   "source": [
    "val regress=leastSquares(train_data,train_outputs)"
   ]
  },
  {
   "cell_type": "code",
   "execution_count": 104,
   "metadata": {},
   "outputs": [
    {
     "data": {
      "text/plain": [
       "\u001b[36mpredictions\u001b[39m: \u001b[32mDenseVector\u001b[39m[\u001b[32mDouble\u001b[39m] = DenseVector(-15.34283456893847, 3.558075115576097, 0.9588700791774043, -6.73136803060436, -10.088980369451226, 1.383668833708363, -1.9425388876041811, -8.073818064073395, -10.682307260341247, -9.891748094056467, -10.107789374636877, -4.816758210148592, -6.812346194335985, -11.249148103120223, 2.701476281279586, -8.399484244362919, 22.03981507307973, 3.37791469324908, 4.159959868275974, -7.430874715250278, -9.460988738880088, 3.877259931888944, -9.421182598929073, -11.549588563168536, 1.3616642257810838, -6.163287925610385, -9.876361637993039, -13.25180929360878, 25.994489099004824, -5.706266654887502, 1.775481083293034, -0.038701493006826126, 13.5403288580097, -1.521149284536571, 100.17133403786471, -8.711585216946533, 2.0897019446106215, -9.506350419823766, -2.4021220752423424, -2.0647211164350683, 0.23129401108643766, -8.484663136799908, -9.17958391416736, 0.4404793328042307, 7.091056433252211, 3.3895306431960224, -8.73561997383994, -3.3651988789322425, -11.919689636410748, -6.179124147928213, 13.35528301262334, -4.75300272615773, -5.883208774449336, 22.027286394010062, -10.513463070498785, -10.507406162167428, 5.352839501973298, 6.201345473638424, -0.7682014031293622, -7.564892761115639, 33.34958929385738, -12.428873852542518, -6.880432122670852, -5.119775030121155, 0.8566087870999226, 9.736516871171283, -20.934601790467237, -4.912186430113475, 190.57896174893432, -8.88392691261073, -10.83710983873312, -1.824205452042162, -4.751173201234744, 2.0159395363631445, -12.488842727697001, 2.3387960034106037, -6.179884455330089, -3.5675547777915924, 3.3701255360763724, -8.258271131021537, -10.993187105721026, 0.595878041996647, 0.17531219180867197, -0.2376799811335939, -10.752365488044221, -6.117976828416413, -3.6122197551334807, 17.935631936429616, -13.096706673867196, 59.00246555667413, -9.505954369403577, -2.531157871507709, -4.263635733624536, 53.076887588343425, -2.838946841816652, 0.7649221208213941, -8.519327816359063, -7.456479426027178, 44.94977324177034, -10.529133737286664, -1.344526345764173, 1.1957130960432725, -5.419341538670836, -1.1311148553403365, 18.246899042697546, -11.394798201398695, 10.76481101155484, 10.800812826588484, -11.798447364825218, 16.84794636187862, 59.08883424851132, -11.394356066487127, -10.05096924486591, -4.527074860482073, 24.79173423007432, 12.091704915340266, -4.0656687053258835, -5.035765376370079, -0.46822229082879474, -5.568782338771932, 3.7862144310268118, -3.927812489722684, 7.817937499190906, -9.235360133401542, -10.296027848090691, -3.540567113919801, -0.4879028121260758, -2.169803049460224, 11.775491694988839, -10.174903120524682, -2.50355369661113, -8.97660009089381, 57.22247960542424, -3.053486959422955, -1.7062970206008217, 15.492757680579148, -6.019589494863661, -11.511474335989432, -3.2000555199812277, -7.94301466705986, -10.40691832206904, 2.1675785798053813, -10.882838148418589, 7.399568325703134, -8.531869446552406, 1.1329771021117168, 0.7448761801532067, -6.383736208853808, -2.7990560466760783, 45.176852727787626, 88.91411560476647, 4.4779244269788405, -7.165411689181527, 43.64510334680048, -6.841521597868819, -3..."
      ]
     },
     "execution_count": 104,
     "metadata": {},
     "output_type": "execute_result"
    }
   ],
   "source": [
    "val predictions=test_data*regress.coefficients"
   ]
  },
  {
   "cell_type": "code",
   "execution_count": 105,
   "metadata": {},
   "outputs": [
    {
     "data": {
      "text/plain": [
       "\u001b[36mdiffs\u001b[39m: \u001b[32mDenseVector\u001b[39m[\u001b[32mDouble\u001b[39m] = DenseVector(-15.34283456893847, -1.4419248844239032, -2.0411299208225957, -6.73136803060436, -10.088980369451226, -4.616331166291637, -2.942538887604181, -8.073818064073395, -10.682307260341247, -9.891748094056467, -13.107789374636877, -4.816758210148592, -6.812346194335985, -11.249148103120223, 0.7014762812795858, -10.399484244362919, 13.03981507307973, -1.62208530675092, 0.15995986827597442, -7.430874715250278, -9.460988738880088, -11.122740068111057, -9.421182598929073, -11.549588563168536, -4.638335774218916, -7.163287925610385, -9.876361637993039, -13.25180929360878, 4.994489099004824, -5.706266654887502, -73.22451891670697, -0.038701493006826126, 9.5403288580097, -7.5211492845365715, -227.8286659621353, -8.711585216946533, -0.9102980553893785, -9.506350419823766, -2.4021220752423424, -2.0647211164350683, 0.23129401108643766, -8.484663136799908, -9.17958391416736, -1.5595206671957693, 4.091056433252211, 1.3895306431960224, -8.73561997383994, -3.3651988789322425, -11.919689636410748, -6.179124147928213, 1.3552830126233406, -5.75300272615773, -5.883208774449336, 20.027286394010062, -10.513463070498785, -10.507406162167428, 2.352839501973298, 4.201345473638424, -0.7682014031293622, -7.564892761115639, -28.650410706142623, -12.428873852542518, -6.880432122670852, -8.119775030121154, -0.1433912129000774, 4.736516871171283, -26.934601790467237, -5.912186430113475, -9.421038251065681, -8.88392691261073, -10.83710983873312, -2.824205452042162, -6.751173201234744, 2.0159395363631445, -12.488842727697001, 2.3387960034106037, -6.179884455330089, -4.567554777791592, -22.629874463923628, -9.258271131021537, -10.993187105721026, 0.595878041996647, 0.17531219180867197, -0.2376799811335939, -10.752365488044221, -6.117976828416413, -3.6122197551334807, 17.935631936429616, -13.096706673867196, 57.00246555667413, -9.505954369403577, -2.531157871507709, -4.263635733624536, 27.076887588343425, -3.838946841816652, -0.2350778791786059, -8.519327816359063, -7.456479426027178, -26.050226758229662, -10.529133737286664, -1.344526345764173, 0.19571309604327247, -5.419341538670836, -2.1311148553403365, -11.753100957302454, -11.394798201398695, 10.76481101155484, 0.8008128265884835, -11.798447364825218, 14.84794636187862, 11.088834248511318, -11.394356066487127, -10.05096924486591, -6.527074860482073, 10.791734230074319, 3.091704915340266, -5.0656687053258835, -5.035765376370079, -0.46822229082879474, -6.568782338771932, -1.2137855689731882, -3.927812489722684, -3.182062500809094, -9.235360133401542, -10.296027848090691, -3.540567113919801, -2.487902812126076, -4.169803049460224, 8.775491694988839, -10.174903120524682, -3.50355369661113, -8.97660009089381, 31.22247960542424, -4.053486959422955, -15.706297020600822, 3.492757680579148, -11.019589494863661, -11.511474335989432, -3.2000555199812277, -7.94301466705986, -10.40691832206904, -1.8324214201946187, -10.882838148418589, 5.399568325703134, -8.531869446552406, -2.8670228978882832, -5.255123819846793, -6.383736208853808, -3.7990560466760783, -15.823147272212374, -28.085884395233535, 4.4779244269788405, -7.165411689181527, 23.64510334680..."
      ]
     },
     "execution_count": 105,
     "metadata": {},
     "output_type": "execute_result"
    }
   ],
   "source": [
    "val diffs=predictions-test_outputs"
   ]
  },
  {
   "cell_type": "code",
   "execution_count": 106,
   "metadata": {},
   "outputs": [
    {
     "data": {
      "text/plain": [
       "\u001b[36mmae\u001b[39m: \u001b[32mDouble\u001b[39m = \u001b[32m10.162465748445685\u001b[39m"
      ]
     },
     "execution_count": 106,
     "metadata": {},
     "output_type": "execute_result"
    }
   ],
   "source": [
    "val mae=sum(abs(diffs))/diffs.size"
   ]
  },
  {
   "cell_type": "code",
   "execution_count": 107,
   "metadata": {},
   "outputs": [
    {
     "data": {
      "text/plain": [
       "\u001b[36mmse\u001b[39m: \u001b[32mDouble\u001b[39m = \u001b[32m947.7875735496593\u001b[39m"
      ]
     },
     "execution_count": 107,
     "metadata": {},
     "output_type": "execute_result"
    }
   ],
   "source": [
    "val mse=sum(pow(diffs,2))/diffs.size"
   ]
  },
  {
   "cell_type": "code",
   "execution_count": null,
   "metadata": {},
   "outputs": [],
   "source": []
  }
 ],
 "metadata": {
  "kernelspec": {
   "display_name": "Scala",
   "language": "scala",
   "name": "scala"
  },
  "language_info": {
   "codemirror_mode": "text/x-scala",
   "file_extension": ".sc",
   "mimetype": "text/x-scala",
   "name": "scala",
   "nbconvert_exporter": "script",
   "version": "2.13.4"
  }
 },
 "nbformat": 4,
 "nbformat_minor": 4
}
