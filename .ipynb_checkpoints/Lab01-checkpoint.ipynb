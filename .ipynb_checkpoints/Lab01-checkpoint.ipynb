{
 "cells": [
  {
   "cell_type": "code",
   "execution_count": 1,
   "metadata": {},
   "outputs": [
    {
     "data": {
      "text/plain": [
       "\u001b[32mimport \u001b[39m\u001b[36m$ivy.$                             \n",
       "\u001b[39m"
      ]
     },
     "execution_count": 1,
     "metadata": {},
     "output_type": "execute_result"
    }
   ],
   "source": [
    "import $ivy.`org.scalanlp:breeze_2.13:1.2`\n"
   ]
  },
  {
   "cell_type": "code",
   "execution_count": 2,
   "metadata": {},
   "outputs": [
    {
     "data": {
      "text/plain": [
       "\u001b[32mimport \u001b[39m\u001b[36m$ivy.$                                     \u001b[39m"
      ]
     },
     "execution_count": 2,
     "metadata": {},
     "output_type": "execute_result"
    }
   ],
   "source": [
    "import $ivy.`org.scalanlp:breeze-natives_2.13:1.2`"
   ]
  },
  {
   "cell_type": "code",
   "execution_count": 3,
   "metadata": {},
   "outputs": [
    {
     "data": {
      "text/plain": [
       "\u001b[32mimport \u001b[39m\u001b[36m$ivy.$                                 \u001b[39m"
      ]
     },
     "execution_count": 3,
     "metadata": {},
     "output_type": "execute_result"
    }
   ],
   "source": [
    "import $ivy.`org.scalanlp:breeze-viz_2.13:1.2`"
   ]
  },
  {
   "cell_type": "code",
   "execution_count": 4,
   "metadata": {},
   "outputs": [
    {
     "data": {
      "text/plain": [
       "\u001b[32mimport \u001b[39m\u001b[36mbreeze.linalg._\u001b[39m"
      ]
     },
     "execution_count": 4,
     "metadata": {},
     "output_type": "execute_result"
    }
   ],
   "source": [
    "import breeze.linalg._"
   ]
  },
  {
   "cell_type": "code",
   "execution_count": 5,
   "metadata": {},
   "outputs": [
    {
     "data": {
      "text/plain": [
       "\u001b[32mimport \u001b[39m\u001b[36mscala.io.Source._\u001b[39m"
      ]
     },
     "execution_count": 5,
     "metadata": {},
     "output_type": "execute_result"
    }
   ],
   "source": [
    "import scala.io.Source._"
   ]
  },
  {
   "cell_type": "code",
   "execution_count": 6,
   "metadata": {},
   "outputs": [
    {
     "data": {
      "text/plain": [
       "\u001b[32mimport \u001b[39m\u001b[36mscala.collection.mutable.ArrayBuffer\u001b[39m"
      ]
     },
     "execution_count": 6,
     "metadata": {},
     "output_type": "execute_result"
    }
   ],
   "source": [
    "import scala.collection.mutable.ArrayBuffer"
   ]
  },
  {
   "cell_type": "code",
   "execution_count": 7,
   "metadata": {},
   "outputs": [
    {
     "data": {
      "text/plain": [
       "\u001b[36mbufferedSource\u001b[39m: \u001b[32mscala\u001b[39m.\u001b[32mio\u001b[39m.\u001b[32mBufferedSource\u001b[39m = \u001b[32mnon-empty iterator\u001b[39m"
      ]
     },
     "execution_count": 7,
     "metadata": {},
     "output_type": "execute_result"
    }
   ],
   "source": [
    "val bufferedSource = scala.io.Source.fromFile(\"./data/Dataset.csv\")"
   ]
  },
  {
   "cell_type": "code",
   "execution_count": 8,
   "metadata": {},
   "outputs": [
    {
     "data": {
      "text/html": [
       "<div class=\"jp-RenderedText\">\n",
       "<pre><code><span style=\"color: rgb(0, 187, 187)\"><span class=\"ansi-cyan-fg\">likes</span></span>: <span style=\"color: rgb(0, 187, 0)\"><span class=\"ansi-green-fg\">ArrayBuffer</span></span>[<span style=\"color: rgb(0, 187, 0)\"><span class=\"ansi-green-fg\">Integer</span></span>] = <span style=\"color: yellow\"><span class=\"ansi-yellow-fg\">ArrayBuffer</span></span>()\n",
       "<span style=\"color: rgb(0, 187, 187)\"><span class=\"ansi-cyan-fg\">checkins</span></span>: <span style=\"color: rgb(0, 187, 0)\"><span class=\"ansi-green-fg\">ArrayBuffer</span></span>[<span style=\"color: rgb(0, 187, 0)\"><span class=\"ansi-green-fg\">Integer</span></span>] = <span style=\"color: yellow\"><span class=\"ansi-yellow-fg\">ArrayBuffer</span></span>()\n",
       "<span style=\"color: rgb(0, 187, 187)\"><span class=\"ansi-cyan-fg\">returns</span></span>: <span style=\"color: rgb(0, 187, 0)\"><span class=\"ansi-green-fg\">ArrayBuffer</span></span>[<span style=\"color: rgb(0, 187, 0)\"><span class=\"ansi-green-fg\">Integer</span></span>] = <span style=\"color: yellow\"><span class=\"ansi-yellow-fg\">ArrayBuffer</span></span>()\n",
       "<span style=\"color: rgb(0, 187, 187)\"><span class=\"ansi-cyan-fg\">category</span></span>: <span style=\"color: rgb(0, 187, 0)\"><span class=\"ansi-green-fg\">ArrayBuffer</span></span>[<span style=\"color: rgb(0, 187, 0)\"><span class=\"ansi-green-fg\">Integer</span></span>] = <span style=\"color: yellow\"><span class=\"ansi-yellow-fg\">ArrayBuffer</span></span>()\n",
       "<span style=\"color: rgb(0, 187, 187)\"><span class=\"ansi-cyan-fg\">commbase</span></span>: <span style=\"color: rgb(0, 187, 0)\"><span class=\"ansi-green-fg\">ArrayBuffer</span></span>[<span style=\"color: rgb(0, 187, 0)\"><span class=\"ansi-green-fg\">Integer</span></span>] = <span style=\"color: yellow\"><span class=\"ansi-yellow-fg\">ArrayBuffer</span></span>()\n",
       "<span style=\"color: rgb(0, 187, 187)\"><span class=\"ansi-cyan-fg\">comm24</span></span>: <span style=\"color: rgb(0, 187, 0)\"><span class=\"ansi-green-fg\">ArrayBuffer</span></span>[<span style=\"color: rgb(0, 187, 0)\"><span class=\"ansi-green-fg\">Integer</span></span>] = <span style=\"color: yellow\"><span class=\"ansi-yellow-fg\">ArrayBuffer</span></span>()\n",
       "<span style=\"color: rgb(0, 187, 187)\"><span class=\"ansi-cyan-fg\">comm48</span></span>: <span style=\"color: rgb(0, 187, 0)\"><span class=\"ansi-green-fg\">ArrayBuffer</span></span>[<span style=\"color: rgb(0, 187, 0)\"><span class=\"ansi-green-fg\">Integer</span></span>] = <span style=\"color: yellow\"><span class=\"ansi-yellow-fg\">ArrayBuffer</span></span>()\n",
       "<span style=\"color: rgb(0, 187, 187)\"><span class=\"ansi-cyan-fg\">comm24_1</span></span>: <span style=\"color: rgb(0, 187, 0)\"><span class=\"ansi-green-fg\">ArrayBuffer</span></span>[<span style=\"color: rgb(0, 187, 0)\"><span class=\"ansi-green-fg\">Integer</span></span>] = <span style=\"color: yellow\"><span class=\"ansi-yellow-fg\">ArrayBuffer</span></span>()\n",
       "<span style=\"color: rgb(0, 187, 187)\"><span class=\"ansi-cyan-fg\">diff2448</span></span>: <span style=\"color: rgb(0, 187, 0)\"><span class=\"ansi-green-fg\">ArrayBuffer</span></span>[<span style=\"color: rgb(0, 187, 0)\"><span class=\"ansi-green-fg\">Integer</span></span>] = <span style=\"color: yellow\"><span class=\"ansi-yellow-fg\">ArrayBuffer</span></span>()\n",
       "<span style=\"color: rgb(0, 187, 187)\"><span class=\"ansi-cyan-fg\">baseTime</span></span>: <span style=\"color: rgb(0, 187, 0)\"><span class=\"ansi-green-fg\">ArrayBuffer</span></span>[<span style=\"color: rgb(0, 187, 0)\"><span class=\"ansi-green-fg\">Integer</span></span>] = <span style=\"color: yellow\"><span class=\"ansi-yellow-fg\">ArrayBuffer</span></span>()\n",
       "<span style=\"color: rgb(0, 187, 187)\"><span class=\"ansi-cyan-fg\">lengths</span></span>: <span style=\"color: rgb(0, 187, 0)\"><span class=\"ansi-green-fg\">ArrayBuffer</span></span>[<span style=\"color: rgb(0, 187, 0)\"><span class=\"ansi-green-fg\">Integer</span></span>] = <span style=\"color: yellow\"><span class=\"ansi-yellow-fg\">ArrayBuffer</span></span>()\n",
       "<span style=\"color: rgb(0, 187, 187)\"><span class=\"ansi-cyan-fg\">shares</span></span>: <span style=\"color: rgb(0, 187, 0)\"><span class=\"ansi-green-fg\">ArrayBuffer</span></span>[<span style=\"color: rgb(0, 187, 0)\"><span class=\"ansi-green-fg\">Integer</span></span>] = <span style=\"color: yellow\"><span class=\"ansi-yellow-fg\">ArrayBuffer</span></span>()\n",
       "<span style=\"color: rgb(0, 187, 187)\"><span class=\"ansi-cyan-fg\">hrs</span></span>: <span style=\"color: rgb(0, 187, 0)\"><span class=\"ansi-green-fg\">ArrayBuffer</span></span>[<span style=\"color: rgb(0, 187, 0)\"><span class=\"ansi-green-fg\">Integer</span></span>] = <span style=\"color: yellow\"><span class=\"ansi-yellow-fg\">ArrayBuffer</span></span>()\n",
       "<span style=\"color: rgb(0, 187, 187)\"><span class=\"ansi-cyan-fg\">sun_pub</span></span>: <span style=\"color: rgb(0, 187, 0)\"><span class=\"ansi-green-fg\">ArrayBuffer</span></span>[<span style=\"color: rgb(0, 187, 0)\"><span class=\"ansi-green-fg\">Integer</span></span>] = <span style=\"color: yellow\"><span class=\"ansi-yellow-fg\">ArrayBuffer</span></span>()\n",
       "<span style=\"color: rgb(0, 187, 187)\"><span class=\"ansi-cyan-fg\">mon_pub</span></span>: <span style=\"color: rgb(0, 187, 0)\"><span class=\"ansi-green-fg\">ArrayBuffer</span></span>[<span style=\"color: rgb(0, 187, 0)\"><span class=\"ansi-green-fg\">Integer</span></span>] = <span style=\"color: yellow\"><span class=\"ansi-yellow-fg\">ArrayBuffer</span></span>()\n",
       "<span style=\"color: rgb(0, 187, 187)\"><span class=\"ansi-cyan-fg\">tue_pub</span></span>: <span style=\"color: rgb(0, 187, 0)\"><span class=\"ansi-green-fg\">ArrayBuffer</span></span>[<span style=\"color: rgb(0, 187, 0)\"><span class=\"ansi-green-fg\">Integer</span></span>] = <span style=\"color: yellow\"><span class=\"ansi-yellow-fg\">ArrayBuffer</span></span>()\n",
       "<span style=\"color: rgb(0, 187, 187)\"><span class=\"ansi-cyan-fg\">wed_pub</span></span>: <span style=\"color: rgb(0, 187, 0)\"><span class=\"ansi-green-fg\">ArrayBuffer</span></span>[<span style=\"color: rgb(0, 187, 0)\"><span class=\"ansi-green-fg\">Integer</span></span>] = <span style=\"color: yellow\"><span class=\"ansi-yellow-fg\">ArrayBuffer</span></span>()\n",
       "<span style=\"color: rgb(0, 187, 187)\"><span class=\"ansi-cyan-fg\">thu_pub</span></span>: <span style=\"color: rgb(0, 187, 0)\"><span class=\"ansi-green-fg\">ArrayBuffer</span></span>[<span style=\"color: rgb(0, 187, 0)\"><span class=\"ansi-green-fg\">Integer</span></span>] = <span style=\"color: yellow\"><span class=\"ansi-yellow-fg\">ArrayBuffer</span></span>()\n",
       "<span style=\"color: rgb(0, 187, 187)\"><span class=\"ansi-cyan-fg\">fri_pub</span></span>: <span style=\"color: rgb(0, 187, 0)\"><span class=\"ansi-green-fg\">ArrayBuffer</span></span>[<span style=\"color: rgb(0, 187, 0)\"><span class=\"ansi-green-fg\">Integer</span></span>] = <span style=\"color: yellow\"><span class=\"ansi-yellow-fg\">ArrayBuffer</span></span>()\n",
       "<span style=\"color: rgb(0, 187, 187)\"><span class=\"ansi-cyan-fg\">sat_pub</span></span>: <span style=\"color: rgb(0, 187, 0)\"><span class=\"ansi-green-fg\">ArrayBuffer</span></span>[<span style=\"color: rgb(0, 187, 0)\"><span class=\"ansi-green-fg\">Integer</span></span>] = <span style=\"color: yellow\"><span class=\"ansi-yellow-fg\">ArrayBuffer</span></span>()\n",
       "<span style=\"color: rgb(0, 187, 187)\"><span class=\"ansi-cyan-fg\">sun_base</span></span>: <span style=\"color: rgb(0, 187, 0)\"><span class=\"ansi-green-fg\">ArrayBuffer</span></span>[<span style=\"color: rgb(0, 187, 0)\"><span class=\"ansi-green-fg\">Integer</span></span>] = <span style=\"color: yellow\"><span class=\"ansi-yellow-fg\">ArrayBuffer</span></span>()\n",
       "<span style=\"color: rgb(0, 187, 187)\"><span class=\"ansi-cyan-fg\">mon_base</span></span>: <span style=\"color: rgb(0, 187, 0)\"><span class=\"ansi-green-fg\">ArrayBuffer</span></span>[<span style=\"color: rgb(0, 187, 0)\"><span class=\"ansi-green-fg\">Integer</span></span>] = <span style=\"color: yellow\"><span class=\"ansi-yellow-fg\">ArrayBuffer</span></span>()\n",
       "<span style=\"color: rgb(0, 187, 187)\"><span class=\"ansi-cyan-fg\">tue_base</span></span>: <span style=\"color: rgb(0, 187, 0)\"><span class=\"ansi-green-fg\">ArrayBuffer</span></span>[<span style=\"color: rgb(0, 187, 0)\"><span class=\"ansi-green-fg\">Integer</span></span>] = <span style=\"color: yellow\"><span class=\"ansi-yellow-fg\">ArrayBuffer</span></span>()\n",
       "<span style=\"color: rgb(0, 187, 187)\"><span class=\"ansi-cyan-fg\">wed_base</span></span>: <span style=\"color: rgb(0, 187, 0)\"><span class=\"ansi-green-fg\">ArrayBuffer</span></span>[<span style=\"color: rgb(0, 187, 0)\"><span class=\"ansi-green-fg\">Integer</span></span>] = <span style=\"color: yellow\"><span class=\"ansi-yellow-fg\">ArrayBuffer</span></span>()\n",
       "<span style=\"color: rgb(0, 187, 187)\"><span class=\"ansi-cyan-fg\">thu_base</span></span>: <span style=\"color: rgb(0, 187, 0)\"><span class=\"ansi-green-fg\">ArrayBuffer</span></span>[<span style=\"color: rgb(0, 187, 0)\"><span class=\"ansi-green-fg\">Integer</span></span>] = <span style=\"color: yellow\"><span class=\"ansi-yellow-fg\">ArrayBuffer</span></span>()\n",
       "<span style=\"color: rgb(0, 187, 187)\"><span class=\"ansi-cyan-fg\">fri_base</span></span>: <span style=\"color: rgb(0, 187, 0)\"><span class=\"ansi-green-fg\">ArrayBuffer</span></span>[<span style=\"color: rgb(0, 187, 0)\"><span class=\"ansi-green-fg\">Integer</span></span>] = <span style=\"color: yellow\"><span class=\"ansi-yellow-fg\">ArrayBuffer</span></span>()\n",
       "<span style=\"color: rgb(0, 187, 187)\"><span class=\"ansi-cyan-fg\">sat_base</span></span>: <span style=\"color: rgb(0, 187, 0)\"><span class=\"ansi-green-fg\">ArrayBuffer</span></span>[<span style=\"color: rgb(0, 187, 0)\"><span class=\"ansi-green-fg\">Integer</span></span>] = <span style=\"color: yellow\"><span class=\"ansi-yellow-fg\">ArrayBuffer</span></span>()\n",
       "<span style=\"color: rgb(0, 187, 187)\"><span class=\"ansi-cyan-fg\">output</span></span>: <span style=\"color: rgb(0, 187, 0)\"><span class=\"ansi-green-fg\">ArrayBuffer</span></span>[<span style=\"color: rgb(0, 187, 0)\"><span class=\"ansi-green-fg\">Integer</span></span>] = <span style=\"color: yellow\"><span class=\"ansi-yellow-fg\">ArrayBuffer</span></span>()</code></pre>\n",
       "</div>"
      ],
      "text/plain": [
       "\u001b[36mlikes\u001b[39m: \u001b[32mArrayBuffer\u001b[39m[\u001b[32mInteger\u001b[39m] = \u001b[33mArrayBuffer\u001b[39m()\n",
       "\u001b[36mcheckins\u001b[39m: \u001b[32mArrayBuffer\u001b[39m[\u001b[32mInteger\u001b[39m] = \u001b[33mArrayBuffer\u001b[39m()\n",
       "\u001b[36mreturns\u001b[39m: \u001b[32mArrayBuffer\u001b[39m[\u001b[32mInteger\u001b[39m] = \u001b[33mArrayBuffer\u001b[39m()\n",
       "\u001b[36mcategory\u001b[39m: \u001b[32mArrayBuffer\u001b[39m[\u001b[32mInteger\u001b[39m] = \u001b[33mArrayBuffer\u001b[39m()\n",
       "\u001b[36mcommbase\u001b[39m: \u001b[32mArrayBuffer\u001b[39m[\u001b[32mInteger\u001b[39m] = \u001b[33mArrayBuffer\u001b[39m()\n",
       "\u001b[36mcomm24\u001b[39m: \u001b[32mArrayBuffer\u001b[39m[\u001b[32mInteger\u001b[39m] = \u001b[33mArrayBuffer\u001b[39m()\n",
       "\u001b[36mcomm48\u001b[39m: \u001b[32mArrayBuffer\u001b[39m[\u001b[32mInteger\u001b[39m] = \u001b[33mArrayBuffer\u001b[39m()\n",
       "\u001b[36mcomm24_1\u001b[39m: \u001b[32mArrayBuffer\u001b[39m[\u001b[32mInteger\u001b[39m] = \u001b[33mArrayBuffer\u001b[39m()\n",
       "\u001b[36mdiff2448\u001b[39m: \u001b[32mArrayBuffer\u001b[39m[\u001b[32mInteger\u001b[39m] = \u001b[33mArrayBuffer\u001b[39m()\n",
       "\u001b[36mbaseTime\u001b[39m: \u001b[32mArrayBuffer\u001b[39m[\u001b[32mInteger\u001b[39m] = \u001b[33mArrayBuffer\u001b[39m()\n",
       "\u001b[36mlengths\u001b[39m: \u001b[32mArrayBuffer\u001b[39m[\u001b[32mInteger\u001b[39m] = \u001b[33mArrayBuffer\u001b[39m()\n",
       "\u001b[36mshares\u001b[39m: \u001b[32mArrayBuffer\u001b[39m[\u001b[32mInteger\u001b[39m] = \u001b[33mArrayBuffer\u001b[39m()\n",
       "\u001b[36mhrs\u001b[39m: \u001b[32mArrayBuffer\u001b[39m[\u001b[32mInteger\u001b[39m] = \u001b[33mArrayBuffer\u001b[39m()\n",
       "\u001b[36msun_pub\u001b[39m: \u001b[32mArrayBuffer\u001b[39m[\u001b[32mInteger\u001b[39m] = \u001b[33mArrayBuffer\u001b[39m()\n",
       "\u001b[36mmon_pub\u001b[39m: \u001b[32mArrayBuffer\u001b[39m[\u001b[32mInteger\u001b[39m] = \u001b[33mArrayBuffer\u001b[39m()\n",
       "\u001b[36mtue_pub\u001b[39m: \u001b[32mArrayBuffer\u001b[39m[\u001b[32mInteger\u001b[39m] = \u001b[33mArrayBuffer\u001b[39m()\n",
       "\u001b[36mwed_pub\u001b[39m: \u001b[32mArrayBuffer\u001b[39m[\u001b[32mInteger\u001b[39m] = \u001b[33mArrayBuffer\u001b[39m()\n",
       "\u001b[36mthu_pub\u001b[39m: \u001b[32mArrayBuffer\u001b[39m[\u001b[32mInteger\u001b[39m] = \u001b[33mArrayBuffer\u001b[39m()\n",
       "\u001b[36mfri_pub\u001b[39m: \u001b[32mArrayBuffer\u001b[39m[\u001b[32mInteger\u001b[39m] = \u001b[33mArrayBuffer\u001b[39m()\n",
       "\u001b[36msat_pub\u001b[39m: \u001b[32mArrayBuffer\u001b[39m[\u001b[32mInteger\u001b[39m] = \u001b[33mArrayBuffer\u001b[39m()\n",
       "\u001b[36msun_base\u001b[39m: \u001b[32mArrayBuffer\u001b[39m[\u001b[32mInteger\u001b[39m] = \u001b[33mArrayBuffer\u001b[39m()\n",
       "\u001b[36mmon_base\u001b[39m: \u001b[32mArrayBuffer\u001b[39m[\u001b[32mInteger\u001b[39m] = \u001b[33mArrayBuffer\u001b[39m()\n",
       "\u001b[36mtue_base\u001b[39m: \u001b[32mArrayBuffer\u001b[39m[\u001b[32mInteger\u001b[39m] = \u001b[33mArrayBuffer\u001b[39m()\n",
       "\u001b[36mwed_base\u001b[39m: \u001b[32mArrayBuffer\u001b[39m[\u001b[32mInteger\u001b[39m] = \u001b[33mArrayBuffer\u001b[39m()\n",
       "\u001b[36mthu_base\u001b[39m: \u001b[32mArrayBuffer\u001b[39m[\u001b[32mInteger\u001b[39m] = \u001b[33mArrayBuffer\u001b[39m()\n",
       "\u001b[36mfri_base\u001b[39m: \u001b[32mArrayBuffer\u001b[39m[\u001b[32mInteger\u001b[39m] = \u001b[33mArrayBuffer\u001b[39m()\n",
       "\u001b[36msat_base\u001b[39m: \u001b[32mArrayBuffer\u001b[39m[\u001b[32mInteger\u001b[39m] = \u001b[33mArrayBuffer\u001b[39m()\n",
       "\u001b[36moutput\u001b[39m: \u001b[32mArrayBuffer\u001b[39m[\u001b[32mInteger\u001b[39m] = \u001b[33mArrayBuffer\u001b[39m()"
      ]
     },
     "metadata": {},
     "output_type": "display_data"
    }
   ],
   "source": [
    "var likes = ArrayBuffer[Integer]()\n",
    "var checkins = ArrayBuffer[Integer]() \n",
    "var returns = ArrayBuffer[Integer]()\n",
    "var category= ArrayBuffer[Integer]()\n",
    "var commbase=ArrayBuffer[Integer]()\n",
    "var comm24=ArrayBuffer[Integer]()\n",
    "var comm48=ArrayBuffer[Integer]()\n",
    "var comm24_1=ArrayBuffer[Integer]()\n",
    "var diff2448=ArrayBuffer[Integer]()\n",
    "var baseTime=ArrayBuffer[Integer]()\n",
    "var lengths=ArrayBuffer[Integer]()\n",
    "var shares=ArrayBuffer[Integer]()\n",
    "var hrs=ArrayBuffer[Integer]()\n",
    "var sun_pub=ArrayBuffer[Integer]()\n",
    "var mon_pub=ArrayBuffer[Integer]()\n",
    "var tue_pub=ArrayBuffer[Integer]()\n",
    "var wed_pub=ArrayBuffer[Integer]()\n",
    "var thu_pub=ArrayBuffer[Integer]()\n",
    "var fri_pub=ArrayBuffer[Integer]()\n",
    "var sat_pub=ArrayBuffer[Integer]()\n",
    "var sun_base=ArrayBuffer[Integer]()\n",
    "var mon_base=ArrayBuffer[Integer]()\n",
    "var tue_base=ArrayBuffer[Integer]()\n",
    "var wed_base=ArrayBuffer[Integer]()\n",
    "var thu_base=ArrayBuffer[Integer]()\n",
    "var fri_base=ArrayBuffer[Integer]()\n",
    "var sat_base=ArrayBuffer[Integer]()\n",
    "var output=ArrayBuffer[Integer]()\n"
   ]
  },
  {
   "cell_type": "code",
   "execution_count": 9,
   "metadata": {},
   "outputs": [],
   "source": [
    "for (line <- bufferedSource.getLines.drop(1)) { \n",
    "        val cols = line.split(\",\").map(_.trim)\n",
    "        // do whatever you want with the columns here\n",
    "        likes+=(if (!cols(0).equals(\"\")) cols(0).toInt else null)      \n",
    "        checkins+=(if (!cols(1).equals(\"\")) cols(1).toInt else null)\n",
    "        returns+=(if(!cols(2).equals(\"\")) cols(2).toInt else null)\n",
    "        category+=(if(!cols(3).equals(\"\")) cols(3).toInt else null)\n",
    "        commbase+=(if(!cols(4).equals(\"\")) cols(4).toInt else null)\n",
    "        comm24+=(if(!cols(5).equals(\"\")) cols(5).toInt else null)\n",
    "        comm48+=(if(!cols(6).equals(\"\")) cols(6).toInt else null)\n",
    "        comm24_1+=(if(!cols(7).equals(\"\")) cols(7).toInt else null)\n",
    "        diff2448+=(if(!cols(8).equals(\"\")) cols(8).toInt else null)\n",
    "        baseTime+=(if(!cols(9).equals(\"\")) cols(9).toInt else null)\n",
    "        lengths+=(if(!cols(10).equals(\"\")) cols(10).toInt else null)\n",
    "        shares+=(if(!cols(11).equals(\"\")) cols(11).toInt else null)\n",
    "        hrs+=(if(!cols(12).equals(\"\")) cols(12).toInt else null)\n",
    "        sun_pub+=(if(!cols(13).equals(\"\")) cols(13).toInt else null)\n",
    "        mon_pub+=(if(!cols(14).equals(\"\")) cols(14).toInt else null)\n",
    "        tue_pub+=(if(!cols(15).equals(\"\")) cols(15).toInt else null)\n",
    "        wed_pub+=(if(!cols(16).equals(\"\")) cols(16).toInt else null)\n",
    "        thu_pub+=(if(!cols(17).equals(\"\")) cols(17).toInt else null)\n",
    "        fri_pub+=(if(!cols(18).equals(\"\")) cols(18).toInt else null)\n",
    "        sat_pub+=(if(!cols(19).equals(\"\")) cols(19).toInt else null)\n",
    "        sun_base+=(if(!cols(20).equals(\"\")) cols(20).toInt else null)\n",
    "        mon_base+=(if(!cols(21).equals(\"\")) cols(21).toInt else null)\n",
    "        tue_base+=(if(!cols(22).equals(\"\")) cols(22).toInt else null)\n",
    "        wed_base+=(if(!cols(23).equals(\"\")) cols(23).toInt else null)\n",
    "        thu_base+=(if(!cols(24).equals(\"\")) cols(24).toInt else null)\n",
    "        fri_base+=(if(!cols(25).equals(\"\")) cols(25).toInt else null)\n",
    "        sat_base+=(if(!cols(26).equals(\"\")) cols(26).toInt else null)\n",
    "        output+=(if(!cols(27).equals(\"\")) cols(27).toInt else null)\n",
    "    }"
   ]
  },
  {
   "cell_type": "code",
   "execution_count": 10,
   "metadata": {},
   "outputs": [],
   "source": [
    "bufferedSource.close"
   ]
  },
  {
   "cell_type": "code",
   "execution_count": 11,
   "metadata": {},
   "outputs": [
    {
     "data": {
      "text/plain": [
       "\u001b[36mrows\u001b[39m: \u001b[32mInt\u001b[39m = \u001b[32m40949\u001b[39m"
      ]
     },
     "execution_count": 11,
     "metadata": {},
     "output_type": "execute_result"
    }
   ],
   "source": [
    "val rows=likes.length"
   ]
  },
  {
   "cell_type": "code",
   "execution_count": 12,
   "metadata": {},
   "outputs": [
    {
     "data": {
      "text/html": [
       "<div class=\"jp-RenderedText\">\n",
       "<pre><code><span style=\"color: rgb(0, 187, 187)\"><span class=\"ansi-cyan-fg\">resultArray</span></span>: <span style=\"color: rgb(0, 187, 0)\"><span class=\"ansi-green-fg\">ArrayBuffer</span></span>[<span style=\"color: rgb(0, 187, 0)\"><span class=\"ansi-green-fg\">Integer</span></span>] = <span style=\"color: yellow\"><span class=\"ansi-yellow-fg\">ArrayBuffer</span></span>(\n",
       "  <span style=\"color: rgb(0, 187, 0)\"><span class=\"ansi-green-fg\">634995</span></span>,\n",
       "  <span style=\"color: rgb(0, 187, 0)\"><span class=\"ansi-green-fg\">634995</span></span>,\n",
       "  <span style=\"color: rgb(0, 187, 0)\"><span class=\"ansi-green-fg\">634995</span></span>,\n",
       "  <span style=\"color: rgb(0, 187, 0)\"><span class=\"ansi-green-fg\">634995</span></span>,\n",
       "  <span style=\"color: rgb(0, 187, 0)\"><span class=\"ansi-green-fg\">634995</span></span>,\n",
       "  <span style=\"color: rgb(0, 187, 0)\"><span class=\"ansi-green-fg\">634995</span></span>,\n",
       "  <span style=\"color: rgb(0, 187, 0)\"><span class=\"ansi-green-fg\">634995</span></span>,\n",
       "  <span style=\"color: rgb(0, 187, 0)\"><span class=\"ansi-green-fg\">634995</span></span>,\n",
       "  <span style=\"color: rgb(0, 187, 0)\"><span class=\"ansi-green-fg\">634995</span></span>,\n",
       "  <span style=\"color: rgb(0, 187, 0)\"><span class=\"ansi-green-fg\">634995</span></span>,\n",
       "  <span style=\"color: rgb(0, 187, 0)\"><span class=\"ansi-green-fg\">634995</span></span>,\n",
       "  <span style=\"color: rgb(0, 187, 0)\"><span class=\"ansi-green-fg\">634995</span></span>,\n",
       "  <span style=\"color: rgb(0, 187, 0)\"><span class=\"ansi-green-fg\">634995</span></span>,\n",
       "  <span style=\"color: rgb(0, 187, 0)\"><span class=\"ansi-green-fg\">634995</span></span>,\n",
       "  <span style=\"color: rgb(0, 187, 0)\"><span class=\"ansi-green-fg\">634995</span></span>,\n",
       "  <span style=\"color: rgb(0, 187, 0)\"><span class=\"ansi-green-fg\">634995</span></span>,\n",
       "  <span style=\"color: rgb(0, 187, 0)\"><span class=\"ansi-green-fg\">634995</span></span>,\n",
       "  <span style=\"color: rgb(0, 187, 0)\"><span class=\"ansi-green-fg\">634995</span></span>,\n",
       "  <span style=\"color: rgb(0, 187, 0)\"><span class=\"ansi-green-fg\">634995</span></span>,\n",
       "  <span style=\"color: rgb(0, 187, 0)\"><span class=\"ansi-green-fg\">634995</span></span>,\n",
       "  <span style=\"color: rgb(0, 187, 0)\"><span class=\"ansi-green-fg\">634995</span></span>,\n",
       "  <span style=\"color: rgb(0, 187, 0)\"><span class=\"ansi-green-fg\">634995</span></span>,\n",
       "  <span style=\"color: rgb(0, 187, 0)\"><span class=\"ansi-green-fg\">634995</span></span>,\n",
       "  <span style=\"color: rgb(0, 187, 0)\"><span class=\"ansi-green-fg\">634995</span></span>,\n",
       "  <span style=\"color: rgb(0, 187, 0)\"><span class=\"ansi-green-fg\">634995</span></span>,\n",
       "  <span style=\"color: rgb(0, 187, 0)\"><span class=\"ansi-green-fg\">634995</span></span>,\n",
       "  <span style=\"color: rgb(0, 187, 0)\"><span class=\"ansi-green-fg\">634995</span></span>,\n",
       "  <span style=\"color: rgb(0, 187, 0)\"><span class=\"ansi-green-fg\">634995</span></span>,\n",
       "  <span style=\"color: rgb(0, 187, 0)\"><span class=\"ansi-green-fg\">634995</span></span>,\n",
       "  <span style=\"color: rgb(0, 187, 0)\"><span class=\"ansi-green-fg\">634995</span></span>,\n",
       "  <span style=\"color: rgb(0, 187, 0)\"><span class=\"ansi-green-fg\">634995</span></span>,\n",
       "  <span style=\"color: rgb(0, 187, 0)\"><span class=\"ansi-green-fg\">634995</span></span>,\n",
       "  <span style=\"color: rgb(0, 187, 0)\"><span class=\"ansi-green-fg\">634995</span></span>,\n",
       "  <span style=\"color: rgb(0, 187, 0)\"><span class=\"ansi-green-fg\">634995</span></span>,\n",
       "  <span style=\"color: rgb(0, 187, 0)\"><span class=\"ansi-green-fg\">634995</span></span>,\n",
       "  <span style=\"color: rgb(0, 187, 0)\"><span class=\"ansi-green-fg\">634995</span></span>,\n",
       "  <span style=\"color: rgb(0, 187, 0)\"><span class=\"ansi-green-fg\">634995</span></span>,\n",
       "  <span style=\"color: rgb(0, 187, 0)\"><span class=\"ansi-green-fg\">634995</span></span>,\n",
       "...</code></pre>\n",
       "</div>"
      ],
      "text/plain": [
       "\u001b[36mresultArray\u001b[39m: \u001b[32mArrayBuffer\u001b[39m[\u001b[32mInteger\u001b[39m] = \u001b[33mArrayBuffer\u001b[39m(\n",
       "  \u001b[32m634995\u001b[39m,\n",
       "  \u001b[32m634995\u001b[39m,\n",
       "  \u001b[32m634995\u001b[39m,\n",
       "  \u001b[32m634995\u001b[39m,\n",
       "  \u001b[32m634995\u001b[39m,\n",
       "  \u001b[32m634995\u001b[39m,\n",
       "  \u001b[32m634995\u001b[39m,\n",
       "  \u001b[32m634995\u001b[39m,\n",
       "  \u001b[32m634995\u001b[39m,\n",
       "  \u001b[32m634995\u001b[39m,\n",
       "  \u001b[32m634995\u001b[39m,\n",
       "  \u001b[32m634995\u001b[39m,\n",
       "  \u001b[32m634995\u001b[39m,\n",
       "  \u001b[32m634995\u001b[39m,\n",
       "  \u001b[32m634995\u001b[39m,\n",
       "  \u001b[32m634995\u001b[39m,\n",
       "  \u001b[32m634995\u001b[39m,\n",
       "  \u001b[32m634995\u001b[39m,\n",
       "  \u001b[32m634995\u001b[39m,\n",
       "  \u001b[32m634995\u001b[39m,\n",
       "  \u001b[32m634995\u001b[39m,\n",
       "  \u001b[32m634995\u001b[39m,\n",
       "  \u001b[32m634995\u001b[39m,\n",
       "  \u001b[32m634995\u001b[39m,\n",
       "  \u001b[32m634995\u001b[39m,\n",
       "  \u001b[32m634995\u001b[39m,\n",
       "  \u001b[32m634995\u001b[39m,\n",
       "  \u001b[32m634995\u001b[39m,\n",
       "  \u001b[32m634995\u001b[39m,\n",
       "  \u001b[32m634995\u001b[39m,\n",
       "  \u001b[32m634995\u001b[39m,\n",
       "  \u001b[32m634995\u001b[39m,\n",
       "  \u001b[32m634995\u001b[39m,\n",
       "  \u001b[32m634995\u001b[39m,\n",
       "  \u001b[32m634995\u001b[39m,\n",
       "  \u001b[32m634995\u001b[39m,\n",
       "  \u001b[32m634995\u001b[39m,\n",
       "  \u001b[32m634995\u001b[39m,\n",
       "..."
      ]
     },
     "metadata": {},
     "output_type": "display_data"
    }
   ],
   "source": [
    "var resultArray=likes++checkins\n",
    "resultArray=resultArray++returns\n",
    "resultArray=resultArray++category\n",
    "resultArray=resultArray++commbase\n",
    "resultArray=resultArray++comm24\n",
    "resultArray=resultArray++comm48\n",
    "resultArray=resultArray++comm24_1\n",
    "resultArray=resultArray++diff2448\n",
    "resultArray=resultArray++baseTime\n",
    "resultArray=resultArray++lengths\n",
    "resultArray=resultArray++shares\n",
    "resultArray=resultArray++hrs\n",
    "resultArray=resultArray++sun_pub\n",
    "resultArray=resultArray++mon_pub\n",
    "resultArray=resultArray++tue_pub\n",
    "resultArray=resultArray++wed_pub\n",
    "resultArray=resultArray++thu_pub\n",
    "resultArray=resultArray++fri_pub\n",
    "resultArray=resultArray++sat_pub\n",
    "resultArray=resultArray++sun_base\n",
    "resultArray=resultArray++mon_base\n",
    "resultArray=resultArray++tue_base\n",
    "resultArray=resultArray++wed_base\n",
    "resultArray=resultArray++thu_base\n",
    "resultArray=resultArray++fri_base\n",
    "resultArray=resultArray++sat_base\n",
    "resultArray=resultArray++output\n",
    "\n",
    "\n",
    "\n"
   ]
  },
  {
   "cell_type": "code",
   "execution_count": 13,
   "metadata": {},
   "outputs": [
    {
     "data": {
      "text/plain": [
       "\u001b[36mmat\u001b[39m: \u001b[32mDenseMatrix\u001b[39m[\u001b[32mInteger\u001b[39m] = 634995  0  463  1  0   0   0   0   0    65  166  2   24  0  0  ... (28 total)\n",
       "634995  0  463  1  0   0   0   0   0    10  132  1   24  0  0  ...\n",
       "634995  0  463  1  0   0   0   0   0    14  133  2   24  0  0  ...\n",
       "634995  0  463  1  7   0   3   7   -3   62  131  1   24  0  0  ...\n",
       "634995  0  463  1  1   0   0   1   0    58  142  5   24  0  -- ...\n",
       "634995  0  463  1  0   0   --  0   0    60  166  1   24  0  0  ...\n",
       "634995  0  463  1  0   0   --  0   0    68  145  2   24  0  0  ...\n",
       "634995  0  463  1  1   0   1   1   -1   32  157  2   24  0  0  ...\n",
       "634995  0  463  1  0   0   --  0   0    35  177  5   24  0  0  ...\n",
       "634995  0  463  1  0   0   --  0   0    48  126  1   24  0  0  ...\n",
       "634995  0  463  1  0   0   --  0   0    52  188  1   24  0  0  ...\n",
       "634995  0  463  1  1   0   --  1   0    69  172  4   24  0  -- ...\n",
       "634995  0  463  1  0   0   --  0   0    3   157  4   24  0  0  ...\n",
       "634995  0  463  1  1   1   0   1   1    37  126  1   24  0  0  ...\n",
       "634995  0  463  1  0   0   0   0   0    23  103  1   24  0  -- ...\n",
       "634995  0  463  1  3   0   3   3   -3   40  158  4   24  0  0  ...\n",
       "634995  0  463  1  3   0   3   2   -3   54  151  --  24  0  0  ...\n",
       "634995  0  463  1  0   0   0   0   0    29  133  1   24  0  0  ...\n",
       "634995  0  463  1  1   0   1   1   -1   36  137  --  24  0  0  ...\n",
       "634995  0  463  1  0   0   0   0   0    11  106  --  24  0  0  ...\n",
       "634995  0  463  1  0   0   0   0   0    62  149  1   24  0  -- ...\n",
       "634995  0  463  1  77  46  31  74  15   31  135  19  24  0  -- ...\n",
       "634995  0  463  1  6   0   1   6   -1   54  64   1   24  0  -- ...\n",
       "634995  0  463  1  0   0   0   0   0    69  111  4   24  0  -- ...\n",
       "634995  0  463  1  0   0   0   0   0    71  156  --  24  0  -- ...\n",
       "634995  0  463  1  0   0   0   0   0    61  199  --  24  0  -- ...\n",
       "634995  0  463  1  4   4   0   4   4    13  300  --  24  0  -- ...\n",
       "634995  0  463  1  29  3   11  25  -8   49  96   --  24  0  -- ...\n",
       "634995  0  463  1  3   1   2   3   -1   35  67   --  24  0  -- ...\n",
       "634995  0  463  1  2   2   0   2   2    11  0    --  24  0  -- ...\n",
       "634995  0  463  1  2   0   2   2   -2   37  168  --  24  0  -- ...\n",
       "634995  0  463  1  0   0   0   0   0    0   84   --  24  0  -- ...\n",
       "634995  0  463  1  2   2   0   2   2    11  116  4   24  0  -- ...\n",
       "634995  0  463  1  0   0   0   0   0    43  64   --  24  0  -- ...\n",
       "634995  0  463  1  2   2   0   2   2    18  133  4   24  0  -- ...\n",
       "634995  0  463  1  0   0   0   0   0    64  186  3   24  0  -- ...\n",
       "634995  0  463  1  0   0   0   0   0    51  205  --  24  0  -- ...\n",
       "634995  0  463  1  0   0   0   0   0    67  210  28  24  0  -- ...\n",
       "634995  0  463  1  8   8   0   8   8    12  114  13  24  0  -- ...\n",
       "..."
      ]
     },
     "execution_count": 13,
     "metadata": {},
     "output_type": "execute_result"
    }
   ],
   "source": [
    "val mat=new DenseMatrix(rows, 28, resultArray.toArray)\n",
    "                        \n",
    "                        \n",
    "                        \n",
    "                       \n",
    "                        "
   ]
  },
  {
   "cell_type": "code",
   "execution_count": 14,
   "metadata": {},
   "outputs": [
    {
     "data": {
      "text/plain": [
       "\u001b[36mres13\u001b[39m: \u001b[32mInt\u001b[39m = \u001b[32m40949\u001b[39m"
      ]
     },
     "execution_count": 14,
     "metadata": {},
     "output_type": "execute_result"
    }
   ],
   "source": [
    "mat.rows"
   ]
  },
  {
   "cell_type": "code",
   "execution_count": 15,
   "metadata": {},
   "outputs": [
    {
     "data": {
      "text/plain": [
       "\u001b[36mres14\u001b[39m: \u001b[32mInt\u001b[39m = \u001b[32m28\u001b[39m"
      ]
     },
     "execution_count": 15,
     "metadata": {},
     "output_type": "execute_result"
    }
   ],
   "source": [
    "mat.cols"
   ]
  },
  {
   "cell_type": "code",
   "execution_count": null,
   "metadata": {},
   "outputs": [],
   "source": []
  }
 ],
 "metadata": {
  "kernelspec": {
   "display_name": "Scala",
   "language": "scala",
   "name": "scala"
  },
  "language_info": {
   "codemirror_mode": "text/x-scala",
   "file_extension": ".sc",
   "mimetype": "text/x-scala",
   "name": "scala",
   "nbconvert_exporter": "script",
   "version": "2.13.4"
  }
 },
 "nbformat": 4,
 "nbformat_minor": 4
}
